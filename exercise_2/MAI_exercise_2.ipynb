{
  "cells": [
    {
      "cell_type": "markdown",
      "metadata": {
        "id": "XBNVMvlF0tiz"
      },
      "source": [
        "# Multimodal AI exercise 2: Visual Question Answering\n",
        "In this exercise we will start with our first multimodal approach. Our specific task in this exercise is visual question answering.  \n",
        "We will apply our knowledge from exercise 1 on how to encode images and learn how to encode language via recurrent neural networks and tranformers.\n",
        "\n",
        "We start with installing the easy-vqa dataset which we use to train our model and import the required libraries"
      ]
    },
    {
      "cell_type": "code",
      "execution_count": 5,
      "metadata": {
        "colab": {
          "base_uri": "https://localhost:8080/"
        },
        "id": "ti_puTv2dxLD",
        "outputId": "47e3686b-c291-41f5-fb3e-bd444cfe595e"
      },
      "outputs": [
        {
          "output_type": "stream",
          "name": "stdout",
          "text": [
            "Collecting easy-vqa\n",
            "  Downloading easy_vqa-1.0-py3-none-any.whl (3.2 MB)\n",
            "\u001b[2K     \u001b[90m━━━━━━━━━━━━━━━━━━━━━━━━━━━━━━━━━━━━━━━━\u001b[0m \u001b[32m3.2/3.2 MB\u001b[0m \u001b[31m13.3 MB/s\u001b[0m eta \u001b[36m0:00:00\u001b[0m\n",
            "\u001b[?25hInstalling collected packages: easy-vqa\n",
            "Successfully installed easy-vqa-1.0\n",
            "Collecting torchinfo\n",
            "  Downloading torchinfo-1.8.0-py3-none-any.whl (23 kB)\n",
            "Installing collected packages: torchinfo\n",
            "Successfully installed torchinfo-1.8.0\n"
          ]
        }
      ],
      "source": [
        "!pip install easy-vqa\n",
        "!pip install torchinfo"
      ]
    },
    {
      "cell_type": "code",
      "execution_count": 6,
      "metadata": {
        "colab": {
          "base_uri": "https://localhost:8080/"
        },
        "id": "OvoMdLX-gEJs",
        "outputId": "901d89a0-e8d2-40c7-9fba-0e43af2b46b6"
      },
      "outputs": [
        {
          "output_type": "stream",
          "name": "stdout",
          "text": [
            "Device: cpu\n"
          ]
        }
      ],
      "source": [
        "import torch\n",
        "import torchvision\n",
        "import torchvision.transforms as T\n",
        "from torchvision.transforms import functional as F\n",
        "from torch.utils.data import Dataset, DataLoader\n",
        "import torchvision.transforms as transforms\n",
        "import torch.nn as nn\n",
        "from torchinfo import summary\n",
        "import torchtext\n",
        "from torchtext.data import get_tokenizer\n",
        "from PIL import Image\n",
        "import numpy as np\n",
        "from tqdm import tqdm\n",
        "import matplotlib.pyplot as plt\n",
        "import math\n",
        "\n",
        "from easy_vqa import get_train_questions, get_test_questions, get_train_image_paths, get_test_image_paths, get_answers\n",
        "\n",
        "device = torch.device(\"cuda:0\") if torch.cuda.is_available() else torch.device(\"cpu\")\n",
        "print(\"Device:\", device)"
      ]
    },
    {
      "cell_type": "markdown",
      "metadata": {
        "id": "4pqX_rvx0ti4"
      },
      "source": [
        "### Configs\n",
        "Here, we define the batch size, learning rate and the number of epochs we want to train"
      ]
    },
    {
      "cell_type": "code",
      "execution_count": 7,
      "metadata": {
        "id": "hgXIbgN6DntW"
      },
      "outputs": [],
      "source": [
        "batch_size = 64\n",
        "learning_rate = 0.001\n",
        "num_epochs = 40"
      ]
    },
    {
      "cell_type": "markdown",
      "metadata": {
        "id": "ChmBGB460ti7"
      },
      "source": [
        "### Load the Data\n",
        "With easy-vqa we can easily get the questions, answers, and corresponding image ids"
      ]
    },
    {
      "cell_type": "code",
      "execution_count": 8,
      "metadata": {
        "colab": {
          "base_uri": "https://localhost:8080/"
        },
        "id": "Kg5sC49tgYon",
        "outputId": "56a3bcaf-26ec-404d-f974-55c25d9b0aa3"
      },
      "outputs": [
        {
          "output_type": "stream",
          "name": "stdout",
          "text": [
            "Number of training questions: 38575\n",
            "Number of testing questions: 9673\n",
            "All possible 13 answers: ['circle', 'green', 'red', 'gray', 'yes', 'teal', 'black', 'rectangle', 'yellow', 'triangle', 'brown', 'blue', 'no']\n"
          ]
        }
      ],
      "source": [
        "train_qs, train_answers, train_img_ids = get_train_questions()\n",
        "test_qs, test_answers, test_img_ids = get_test_questions()\n",
        "print(f\"Number of training questions: {len(train_qs)}\\nNumber of testing questions: {len(test_qs)}\")\n",
        "\n",
        "train_img_paths = get_train_image_paths()\n",
        "test_img_paths = get_test_image_paths()\n",
        "\n",
        "all_answers = get_answers()\n",
        "num_answers = len(all_answers)\n",
        "print(f\"All possible {num_answers} answers:\", all_answers)"
      ]
    },
    {
      "cell_type": "markdown",
      "metadata": {
        "id": "z5B1CgIwhRVW"
      },
      "source": [
        "The following shows how to get the first question, answer and corresponding image"
      ]
    },
    {
      "cell_type": "code",
      "execution_count": 9,
      "metadata": {
        "colab": {
          "base_uri": "https://localhost:8080/",
          "height": 117
        },
        "id": "3ZfwaAyRXd1R",
        "outputId": "943d0a92-4c42-4956-fe78-53db0f1fd142"
      },
      "outputs": [
        {
          "output_type": "stream",
          "name": "stdout",
          "text": [
            "what is the blue shape?\n",
            "rectangle\n"
          ]
        },
        {
          "output_type": "display_data",
          "data": {
            "text/plain": [
              "<PIL.PngImagePlugin.PngImageFile image mode=RGB size=64x64>"
            ],
            "image/png": "[encoded data removed]"
          },
          "metadata": {}
        }
      ],
      "source": [
        "print(train_qs[0])\n",
        "print(train_answers[0])\n",
        "display(Image.open(train_img_paths[train_img_ids[0]]))"
      ]
    },
    {
      "cell_type": "markdown",
      "metadata": {
        "id": "WZLsABb10tjD"
      },
      "source": [
        "### Load Word2Vec\n",
        "Next, we are loading the pretrained word2vec, which serves us as a replacement for the embedding layer"
      ]
    },
    {
      "cell_type": "code",
      "execution_count": null,
      "metadata": {
        "id": "RAXO4wNeYefV",
        "scrolled": true,
        "colab": {
          "base_uri": "https://localhost:8080/"
        },
        "outputId": "c45617a1-43c2-4f62-d8ee-4b087655e4b1"
      },
      "outputs": [
        {
          "output_type": "stream",
          "name": "stdout",
          "text": [
            "[==================================================] 100.0% 1662.8/1662.8MB downloaded\n"
          ]
        }
      ],
      "source": [
        "import string\n",
        "from gensim.models.word2vec import Word2Vec\n",
        "import gensim.downloader\n",
        "\n",
        "pretrained_word2vec = gensim.downloader.load('word2vec-google-news-300')"
      ]
    },
    {
      "cell_type": "markdown",
      "metadata": {
        "id": "ZAJzkKk50tjE"
      },
      "source": [
        "word2vec is like a dictionary where the keys are words/tokens and the values are embeddings of dimension (300,)"
      ]
    },
    {
      "cell_type": "code",
      "execution_count": null,
      "metadata": {
        "id": "X89bo-M2ayG4",
        "colab": {
          "base_uri": "https://localhost:8080/"
        },
        "outputId": "42ab8309-d70f-4b11-fe35-759b3adaeec9"
      },
      "outputs": [
        {
          "output_type": "stream",
          "name": "stdout",
          "text": [
            "<class 'gensim.models.keyedvectors.KeyedVectors'>\n",
            "(300,)\n"
          ]
        }
      ],
      "source": [
        "print(type(pretrained_word2vec))\n",
        "print(pretrained_word2vec[\"shape\"].shape)"
      ]
    },
    {
      "cell_type": "markdown",
      "metadata": {
        "id": "mcExcyET0tjF"
      },
      "source": [
        "### Exercise 2.1: Preprocess the Questions\n",
        "Now, we want to apply our loaded word2vec to our questions. Therefore, we need to tokenize each question, remove the stop words, and pad each question to a length of 7 (which is the length of the longest question). And at last, we need to actually apply our loaded 'pretrained_word2vec' to the padded tokens."
      ]
    },
    {
      "cell_type": "code",
      "execution_count": null,
      "metadata": {
        "id": "kgbTWxp90tjF"
      },
      "outputs": [],
      "source": [
        "def preprocess_questions(questions):\n",
        "    tokenizer = get_tokenizer(\"basic_english\")\n",
        "    stop_words = [\"a\", \"the\", \"of\"]\n",
        "    qs_embs = []\n",
        "    max_question_len = 7    # tested by hand\n",
        "    for question in questions:\n",
        "        # remove punctuation\n",
        "        question = question.translate(str.maketrans('', '', string.punctuation))\n",
        "\n",
        "        # Your code here\n",
        "\n",
        "    qs_embs = np.asarray(qs_embs)\n",
        "    return qs_embs\n",
        "\n",
        "train_qs_idxs = preprocess_questions(train_qs)\n",
        "print(\"Train question embeddings shape:\", train_qs_idxs.shape)\n",
        "test_qs_idxs = preprocess_questions(test_qs)\n",
        "print(\"Test question embeddings shape:\", test_qs_idxs.shape)"
      ]
    },
    {
      "cell_type": "markdown",
      "metadata": {
        "id": "irYeFcMJ0tjG"
      },
      "source": [
        "### Preprocess the Answers\n",
        "Of course we also need to preprocess our answers. The following encodes each answer in a one-hot-encoding of all possible answers"
      ]
    },
    {
      "cell_type": "code",
      "execution_count": 11,
      "metadata": {
        "colab": {
          "base_uri": "https://localhost:8080/"
        },
        "id": "pOj41IHJu3no",
        "outputId": "d47e6998-629e-4ab7-a825-eb6a70ff04f7"
      },
      "outputs": [
        {
          "output_type": "stream",
          "name": "stdout",
          "text": [
            "one-hot-encoding of answer 0: [0 0 0 0 0 0 0 1 0 0 0 0 0]\n"
          ]
        }
      ],
      "source": [
        "# get index of each answer\n",
        "train_answer_indices = np.array([all_answers.index(a) for a in train_answers])\n",
        "test_answer_indices = np.array([all_answers.index(a) for a in test_answers])\n",
        "\n",
        "# create a one-hot encoding for the answers\n",
        "train_Y = np.zeros((train_answer_indices.size, train_answer_indices.max()+1), dtype=int)\n",
        "test_Y = np.zeros((test_answer_indices.size, test_answer_indices.max()+1), dtype=int)\n",
        "# replace 0 with a 1 at the index of the original array\n",
        "train_Y[np.arange(train_answer_indices.size), train_answer_indices] = 1\n",
        "test_Y[np.arange(test_answer_indices.size), test_answer_indices] = 1\n",
        "print(f\"one-hot-encoding of answer 0: {train_Y[0]}\")"
      ]
    },
    {
      "cell_type": "markdown",
      "metadata": {
        "id": "GPt50JwD0tjG"
      },
      "source": [
        "### Exercise 2.2: Create your own custom VQA Dataset\n",
        "As we preprocessed a lot, there isn't much to do here. Please implement the \\_\\_init__(...), \\_\\_get_item__(...), and \\_\\_len__(...) function. \\_\\_init__ initializes all required variables. \\_\\_get_item__ loads the embedded question, the one-hot-encoded answer, loads the corresponding image and applies the given transformation to it. And \\_\\_len__ returns the length of the dataset."
      ]
    },
    {
      "cell_type": "code",
      "execution_count": null,
      "metadata": {
        "id": "rSrE9lPqwec2"
      },
      "outputs": [],
      "source": [
        "class CustomVQADataset(Dataset):\n",
        "    def __init__(self, img_paths, qs_embs, ans_encodings, qs_img_ids, img_transform):\n",
        "        # Your code here\n",
        "        pass\n",
        "\n",
        "    def __getitem__(self, idx):\n",
        "        # Your code here\n",
        "        return\n",
        "\n",
        "    def __len__(self):\n",
        "        # Your code here\n",
        "        return"
      ]
    },
    {
      "cell_type": "markdown",
      "metadata": {
        "id": "ZH3CGZJH0tjH"
      },
      "source": [
        "The following states the image transformations, creates an instance of the training and test set and transforms it to the corresponding DataLoader"
      ]
    },
    {
      "cell_type": "code",
      "execution_count": 12,
      "metadata": {
        "id": "gjBbh-YG_eP5"
      },
      "outputs": [],
      "source": [
        "train_transforms = transforms.Compose([\n",
        "    transforms.ToTensor(),\n",
        "    transforms.Normalize((0.5, 0.5, 0.5), (0.5, 0.5, 0.5))\n",
        "    ])\n",
        "test_transforms = transforms.Compose([\n",
        "    transforms.ToTensor(),\n",
        "    transforms.Normalize((0.5, 0.5, 0.5), (0.5, 0.5, 0.5))\n",
        "    ])"
      ]
    },
    {
      "cell_type": "code",
      "execution_count": null,
      "metadata": {
        "id": "yzovq9mw-xml"
      },
      "outputs": [],
      "source": [
        "train_dataset = CustomVQADataset(train_img_paths, train_qs_idxs, train_Y, train_img_ids, train_transforms)\n",
        "test_dataset = CustomVQADataset(test_img_paths, test_qs_idxs, test_Y, test_img_ids, test_transforms)\n",
        "trainloader = DataLoader(train_dataset, shuffle=True, batch_size=batch_size, num_workers=4)\n",
        "testloader = DataLoader(test_dataset, shuffle=False, batch_size=batch_size)\n",
        "print(\"Train dataset:\", len(train_dataset))\n",
        "print(\"Test dataset:\", len(test_dataset))"
      ]
    },
    {
      "cell_type": "markdown",
      "metadata": {
        "id": "OTAYxljS0tjH"
      },
      "source": [
        "### Exercise 2.3: Create the VQA Model\n",
        "We need to implement the actual VQA model. For the image encoder we provided the initialization of convolutional and pooling layers.  \n",
        "Please implement the forward pass! Just apply the convolution with the ReLU activation function followed by a MaxPool operation 3 times. After that, flatten the input (except for the batch dimension) and apply the fully connected layer followed again by ReLU.  \n",
        "\n",
        "Second, the forward pass for combining both modalities is missing. Please implement it as well. To do that you need to encode the image and the question with the corresponding encoders. Combine both encodings via element-wise multiplication followed by ReLU, the given dropout layer, and feed it though the fully connected layer at last.\n",
        "\n"
      ]
    },
    {
      "cell_type": "code",
      "execution_count": null,
      "metadata": {
        "id": "Cx409dkahAyG"
      },
      "outputs": [],
      "source": [
        "class ImgEncoder(nn.Module):\n",
        "    def __init__(self, emb_size=32):\n",
        "        super(ImgEncoder, self).__init__()\n",
        "\n",
        "        self.conv1 = nn.Conv2d(3, 8, kernel_size=3)   # output shape (batch_size, 8, 62, 62)\n",
        "        self.pool1 = nn.MaxPool2d(kernel_size=2)      # output shape (batch_size, 8, 31, 31)\n",
        "        self.conv2 = nn.Conv2d(8, 16, kernel_size=3)  # output shape (batch_size, 16, 29, 29)\n",
        "        self.pool2 = nn.MaxPool2d(kernel_size=2)      # output shape (batch_size, 16, 14, 14)\n",
        "        self.conv3 = nn.Conv2d(16, 32, kernel_size=3) # output shape (batch_size, 32, 12, 12)\n",
        "        self.pool3 = nn.MaxPool2d(kernel_size=2)      # output shape (batch_size, 32, 6, 6)\n",
        "        self.relu = nn.ReLU()\n",
        "        self.fc1 = nn.Linear(32*6*6, emb_size)        # output shape (batch_size, 32)\n",
        "\n",
        "    def forward(self, img):\n",
        "        # Your code here\n",
        "        return img\n",
        "\n",
        "\n",
        "class TextEncoder(nn.Module):\n",
        "    def __init__(self, word_embed_size=300, hidden_size=32, num_layers=1, emb_size=32):\n",
        "        super(TextEncoder, self).__init__()\n",
        "\n",
        "        self.relu = nn.ReLU()\n",
        "        self.lstm = nn.LSTM(word_embed_size, hidden_size, num_layers)\n",
        "        self.fc = nn.Linear(2*num_layers*hidden_size, emb_size)      # 2 for hidden and cell states\n",
        "\n",
        "    def forward(self, txt_embs):\n",
        "        txt_embs = txt_embs.transpose(0, 1)                           # [qs_length=7, batch_size, word_embed_size=300]\n",
        "        _, (hidden, cell) = self.lstm(txt_embs)                       # [num_layers=2, batch_size, hidden_size=32]\n",
        "        qst_feature = torch.cat((hidden, cell), 2)                    # [num_layers=2, batch_size, 2*hidden_size=64]\n",
        "        qst_feature = qst_feature.transpose(0, 1)                     # [batch_size, num_layers=2, 2*hidden_size=64]\n",
        "        qst_feature = qst_feature.reshape(qst_feature.size()[0], -1)  # [batch_size, 2*num_layers*hidden_size=64]\n",
        "        qst_feature = self.relu(qst_feature)\n",
        "        qst_feature = self.fc(qst_feature)                            # [batch_size, embed_size=32]\n",
        "        qst_feature = self.relu(qst_feature)\n",
        "        return qst_feature\n",
        "\n",
        "\n",
        "class VQA(nn.Module):\n",
        "    def __init__(self, num_answers, emb_size=32):\n",
        "        super(VQA, self).__init__()\n",
        "\n",
        "        self.img_encoder = ImgEncoder(emb_size=emb_size)\n",
        "        self.txt_encoder = TextEncoder(emb_size=emb_size)\n",
        "        self.relu = nn.ReLU()\n",
        "        self.dropout = nn.Dropout(0.5)\n",
        "        self.fc1 = nn.Linear(emb_size, num_answers)\n",
        "\n",
        "    def forward(self, img, q):\n",
        "        # Your code here\n",
        "        return combined_feature\n",
        "\n",
        "vqa_model = VQA(num_answers)\n",
        "vqa_model.to(device)\n",
        "summary(vqa_model, [(batch_size, 3, 64, 64), (batch_size, 7, 300)])"
      ]
    },
    {
      "cell_type": "markdown",
      "metadata": {
        "id": "ze3TiXY10tjI"
      },
      "source": [
        "### Exercise 2.4: Implement the Training and Validation Loop\n",
        "We give you the trainloader and how to calculate the metrics (loss and accuracy) on the training set (used for better visualization) but the rest of the training loop is missing. Please insert the forward and backward pass and the required optimizer operations.  \n",
        "Additionally, please implement the validation loop including validation loss and accuracy (remember: no gradients are calculated here 😉)"
      ]
    },
    {
      "cell_type": "code",
      "execution_count": 14,
      "metadata": {
        "id": "JhOMwtldAW3I"
      },
      "outputs": [],
      "source": [
        "def train_loop(model, optimizer, criterion, train_loader):\n",
        "    model.train()\n",
        "    total_loss, total = 0, 1e-6\n",
        "    num_correct = 0\n",
        "\n",
        "    for img, qs, ans in trainloader:\n",
        "        img, qs, ans =  img.to(device), qs.to(device), ans.to(device, dtype=torch.float32)\n",
        "        # Your code here\n",
        "        # (output of the model is called output)\n",
        "\n",
        "        # Record metrics\n",
        "        total_loss += loss.item()\n",
        "        total += len(ans)\n",
        "\n",
        "        # calculate accuracy\n",
        "        _, prediction = output.max(1)\n",
        "        answer = torch.argmax(ans, dim=1)\n",
        "        num_correct += (prediction == answer).sum()\n",
        "    return total_loss / total, (num_correct.item() / total) * 100\n",
        "\n",
        "\n",
        "def validate_loop(model, criterion, valid_loader):\n",
        "    model.eval()\n",
        "    total_loss, total = 0, 1e-6\n",
        "    num_correct = 0\n",
        "    # Your code here\n",
        "\n",
        "    return total_loss / total, (num_correct.item() / total) * 100"
      ]
    },
    {
      "cell_type": "markdown",
      "metadata": {
        "id": "eJtbIE1A0tjJ"
      },
      "source": [
        "Define the loss function and optimizer"
      ]
    },
    {
      "cell_type": "code",
      "execution_count": 15,
      "metadata": {
        "id": "T9ym0FpTD5nb"
      },
      "outputs": [],
      "source": [
        "criterion = nn.CrossEntropyLoss()\n",
        "optimizer = torch.optim.Adam(vqa_model.parameters(), lr=learning_rate)"
      ]
    },
    {
      "cell_type": "markdown",
      "metadata": {
        "id": "MgwxAy-j0tjJ"
      },
      "source": [
        "## Training\n",
        "Now we can actually train our VQA model. The model is trained for one epoch always followed by a validation."
      ]
    },
    {
      "cell_type": "code",
      "execution_count": null,
      "metadata": {
        "id": "i2HDkboIE64G"
      },
      "outputs": [],
      "source": [
        "train_losses, val_losses = [], []\n",
        "train_accs, val_accs = [], []\n",
        "\n",
        "for epoch in tqdm(range(num_epochs)):\n",
        "    train_loss, train_acc = train_loop(vqa_model, optimizer, criterion, trainloader)\n",
        "    val_loss, val_acc = validate_loop(vqa_model, criterion, testloader)\n",
        "\n",
        "    tqdm.write(\n",
        "        f' epoch#{epoch + 1:3d}\\ttrain_loss: {train_loss:.2e}\\ttrain_acc: {train_acc:.2f}\\tval_loss: {val_loss:.2e}\\tval_acc: {val_acc:.2f}\\n',\n",
        "    )\n",
        "\n",
        "    train_losses.append(train_loss)\n",
        "    train_accs.append(train_acc)\n",
        "    val_losses.append(val_loss)\n",
        "    val_accs.append(val_acc)"
      ]
    },
    {
      "cell_type": "markdown",
      "metadata": {
        "id": "K-RaCORw0tjJ"
      },
      "source": [
        "### Show Training Performance\n",
        "Lets take a look at the loss and accuarcy curves of our training"
      ]
    },
    {
      "cell_type": "code",
      "execution_count": 17,
      "metadata": {
        "editable": true,
        "id": "ed_ljXpImXjC",
        "tags": [],
        "colab": {
          "base_uri": "https://localhost:8080/",
          "height": 472
        },
        "outputId": "4e0163c1-cbc2-4e58-b751-1049a4755e7d"
      },
      "outputs": [
        {
          "output_type": "display_data",
          "data": {
            "text/plain": [
              "<Figure size 640x480 with 2 Axes>"
            ],
            "image/png": "[encoded data removed]"
          },
          "metadata": {}
        }
      ],
      "source": [
        "def plot_loss_curve(train_loss, val_loss, train_acc, val_acc):\n",
        "    fig, ax1 = plt.subplots()\n",
        "    ax1.plot(train_loss, label=\"train\")\n",
        "    ax1.plot(val_loss, label=\"val\")\n",
        "    ax1.legend(loc=\"upper center\")\n",
        "    ax1.set_xlabel(\"Iterations\")\n",
        "    ax1.set_ylabel(\"Loss\")\n",
        "    ax2 = ax1.twinx()\n",
        "    ax2.plot(train_acc, color=\"blue\", linestyle=\"dashed\")\n",
        "    ax2.plot(val_acc, color=\"orange\", linestyle=\"dashed\")\n",
        "    ax2.set_ylabel(\"Acc\")\n",
        "    plt.title(\"Loss and accuracy curves during training\")\n",
        "    plt.show()\n",
        "\n",
        "plot_loss_curve(train_losses, val_losses, train_accs, val_accs)"
      ]
    },
    {
      "cell_type": "markdown",
      "metadata": {
        "id": "_uA1MKr40tjK"
      },
      "source": [
        "## Transformers\n",
        "After we used the RNN approach, lets use Transformers 🚀  "
      ]
    },
    {
      "cell_type": "code",
      "execution_count": 18,
      "metadata": {
        "id": "aFO6rkc70tjK"
      },
      "outputs": [],
      "source": [
        "# Configs\n",
        "batch_size = 64\n",
        "learning_rate = 0.001\n",
        "num_epochs = 40"
      ]
    },
    {
      "cell_type": "markdown",
      "metadata": {
        "id": "JIpxm7k90tjK"
      },
      "source": [
        "Here, the positional encoding is added to the input embeddings"
      ]
    },
    {
      "cell_type": "code",
      "execution_count": 19,
      "metadata": {
        "id": "4ruDeVHBgpDi"
      },
      "outputs": [],
      "source": [
        "class PositionalEncoding(nn.Module):\n",
        "\n",
        "    def __init__(self, d_model, dropout=0.1, max_len=5000):\n",
        "        super(PositionalEncoding, self).__init__()\n",
        "        self.dropout = nn.Dropout(p=dropout)\n",
        "\n",
        "        pe = torch.zeros(max_len, d_model)\n",
        "        position = torch.arange(0, max_len, dtype=torch.float).unsqueeze(1)\n",
        "        div_term = torch.exp(torch.arange(0, d_model, 2).float() * (-math.log(10000.0) / d_model))\n",
        "        pe[:, 0::2] = torch.sin(position * div_term)\n",
        "        if d_model%2 != 0:\n",
        "            pe[:, 1::2] = torch.cos(position * div_term)[:,0:-1]\n",
        "        else:\n",
        "            pe[:, 1::2] = torch.cos(position * div_term)\n",
        "        pe = pe.unsqueeze(0)\n",
        "        self.register_buffer('pe', pe)\n",
        "\n",
        "    def forward(self, x):\n",
        "        x = x + self.pe[:, :x.size(1)]\n",
        "        return self.dropout(x)"
      ]
    },
    {
      "cell_type": "markdown",
      "metadata": {
        "id": "9eT3G9Fc0tjK"
      },
      "source": [
        "### Exercise 2.5: Self-Attention\n",
        "We provide the implementation of running multi-head-attention but the actual **attention calculation is missing**. Please implement the scaled_dot_product_attention(self, Q, K, V)!"
      ]
    },
    {
      "cell_type": "code",
      "execution_count": 20,
      "metadata": {
        "id": "BQe2S7C90tjK"
      },
      "outputs": [],
      "source": [
        "class MultiHeadAttention(nn.Module):\n",
        "    def __init__(self, d_model, num_heads):\n",
        "        super(MultiHeadAttention, self).__init__()\n",
        "        # Ensure that the model dimension (d_model) is divisible by the number of heads\n",
        "        assert d_model % num_heads == 0, \"d_model must be divisible by num_heads\"\n",
        "\n",
        "        # Initialize dimensions\n",
        "        self.d_model = d_model # Model's dimension\n",
        "        self.num_heads = num_heads # Number of attention heads\n",
        "        self.d_k = d_model // num_heads # Dimension of each head's key, query, and value\n",
        "\n",
        "        # Linear layers for transforming inputs\n",
        "        self.W_q = nn.Linear(d_model, d_model) # Query transformation\n",
        "        self.W_k = nn.Linear(d_model, d_model) # Key transformation\n",
        "        self.W_v = nn.Linear(d_model, d_model) # Value transformation\n",
        "        self.W_o = nn.Linear(d_model, d_model) # Output transformation\n",
        "\n",
        "    def scaled_dot_product_attention(self, Q, K, V):\n",
        "        # Your code here\n",
        "        return output\n",
        "\n",
        "    def split_heads(self, x):\n",
        "        # Reshape the input to have num_heads for multi-head attention\n",
        "        batch_size, seq_length, d_model = x.size()\n",
        "        return x.view(batch_size, seq_length, self.num_heads, self.d_k).transpose(1, 2)\n",
        "\n",
        "    def combine_heads(self, x):\n",
        "        # Combine the multiple heads back to original shape\n",
        "        batch_size, _, seq_length, d_k = x.size()\n",
        "        return x.transpose(1, 2).contiguous().view(batch_size, seq_length, self.d_model)\n",
        "\n",
        "    def forward(self, Q, K, V):\n",
        "        # Apply linear transformations and split heads\n",
        "        Q = self.split_heads(self.W_q(Q))\n",
        "        K = self.split_heads(self.W_k(K))\n",
        "        V = self.split_heads(self.W_v(V))\n",
        "\n",
        "        # Perform scaled dot-product attention\n",
        "        attn_output = self.scaled_dot_product_attention(Q, K, V)\n",
        "\n",
        "        # Combine heads and apply output transformation\n",
        "        output = self.W_o(self.combine_heads(attn_output))\n",
        "        return output"
      ]
    },
    {
      "cell_type": "code",
      "execution_count": 21,
      "metadata": {
        "id": "QN4_3smR0tjL"
      },
      "outputs": [],
      "source": [
        "class PositionWiseFeedForward(nn.Module):\n",
        "    def __init__(self, d_model, d_ff):\n",
        "        super(PositionWiseFeedForward, self).__init__()\n",
        "        self.fc1 = nn.Linear(d_model, d_ff)\n",
        "        self.fc2 = nn.Linear(d_ff, d_model)\n",
        "        self.relu = nn.ReLU()\n",
        "\n",
        "    def forward(self, x):\n",
        "        return self.fc2(self.relu(self.fc1(x)))"
      ]
    },
    {
      "cell_type": "markdown",
      "metadata": {
        "id": "0P_2MC_60tjL"
      },
      "source": [
        "### Exercise 2.6: Assemble the Transformer Encoder\n",
        "Now, we need to put everything together. Implement the forward pass as given in the lecture.\n",
        "Additionally, apply dropout to the attention output and feed forward output."
      ]
    },
    {
      "cell_type": "code",
      "execution_count": 22,
      "metadata": {
        "id": "KmC7yqvF0tjL"
      },
      "outputs": [],
      "source": [
        "class EncoderLayer(nn.Module):\n",
        "    def __init__(self, d_model, num_heads, d_ff, dropout):\n",
        "        super(EncoderLayer, self).__init__()\n",
        "        self.self_attn = MultiHeadAttention(d_model, num_heads)\n",
        "        self.feed_forward = PositionWiseFeedForward(d_model, d_ff)\n",
        "        self.norm1 = nn.LayerNorm(d_model)\n",
        "        self.norm2 = nn.LayerNorm(d_model)\n",
        "        self.dropout = nn.Dropout(dropout)\n",
        "\n",
        "    def forward(self, x):\n",
        "        # Your code here\n",
        "        return x"
      ]
    },
    {
      "cell_type": "markdown",
      "metadata": {
        "id": "LEZDHwCv0tjL"
      },
      "source": [
        "### The Transformer VQA Model\n",
        "We use the same model as before but replace the LSTM with a Transformer layer.  \n",
        "<font color='red'>Remember</font> that combining both modalities is missing, just take the same part of code you implemented for the LSTM based VQA model."
      ]
    },
    {
      "cell_type": "code",
      "execution_count": null,
      "metadata": {
        "id": "mQX1cbmLBX1t"
      },
      "outputs": [],
      "source": [
        "class ImgEncoder(nn.Module):\n",
        "    def __init__(self, emb_size=32):\n",
        "        super(ImgEncoder, self).__init__()\n",
        "\n",
        "        self.conv1 = nn.Conv2d(3, 8, kernel_size=3)   # output shape (batch_size, 8, 62, 62)\n",
        "        self.pool1 = nn.MaxPool2d(kernel_size=2)      # output shape (batch_size, 8, 31, 31)\n",
        "        self.conv2 = nn.Conv2d(8, 16, kernel_size=3)  # output shape (batch_size, 16, 29, 29)\n",
        "        self.pool2 = nn.MaxPool2d(kernel_size=2)      # output shape (batch_size, 16, 14, 14)\n",
        "        self.conv3 = nn.Conv2d(16, 32, kernel_size=3) # output shape (batch_size, 32, 12, 12)\n",
        "        self.pool3 = nn.MaxPool2d(kernel_size=2)      # output shape (batch_size, 32, 6, 6)\n",
        "        self.relu = nn.ReLU()\n",
        "        self.fc1 = nn.Linear(32*6*6, emb_size)        # output shape (batch_size, 32)\n",
        "\n",
        "    def forward(self, img):\n",
        "        x = self.pool1(self.relu(self.conv1(img)))\n",
        "        x = self.pool2(self.relu(self.conv2(x)))\n",
        "        x = self.pool3(self.relu(self.conv3(x)))\n",
        "        x = x.view(-1, 32*6*6)\n",
        "        x = self.relu(self.fc1(x))\n",
        "        return x\n",
        "\n",
        "\n",
        "class TransTextEncoder(nn.Module):\n",
        "    def __init__(self, word_embed_size=300, hidden_size=64, emb_size=32):\n",
        "        super(TransTextEncoder, self).__init__()\n",
        "        dropout = 0.5\n",
        "        self.word_emb_dim = word_embed_size\n",
        "        self.pos_encoder = PositionalEncoding(word_embed_size, dropout)\n",
        "        self.transformer_encoder = EncoderLayer(word_embed_size, num_heads=10, d_ff=hidden_size, dropout=dropout)\n",
        "        self.relu = nn.ReLU()\n",
        "        self.fc = nn.Linear(word_embed_size, emb_size)\n",
        "\n",
        "    def forward(self, txt_embs):\n",
        "        txt_embs = txt_embs * math.sqrt(self.word_emb_dim)\n",
        "        txt_embs = self.pos_encoder(txt_embs)\n",
        "        qst_feature = self.transformer_encoder(txt_embs)\n",
        "        qst_feature = self.relu(qst_feature)\n",
        "        qst_feature = qst_feature.max(dim=1)[0]\n",
        "        qst_feature = self.fc(qst_feature)\n",
        "        return qst_feature\n",
        "\n",
        "\n",
        "class TransformerVQA(nn.Module):\n",
        "    def __init__(self, num_answers, emb_size=32):\n",
        "        super(TransformerVQA, self).__init__()\n",
        "\n",
        "        self.img_encoder = ImgEncoder(emb_size=emb_size)\n",
        "        self.txt_encoder = TransTextEncoder(emb_size=emb_size)\n",
        "        self.relu = nn.ReLU()\n",
        "        self.dropout = nn.Dropout(0.5)\n",
        "        self.fc1 = nn.Linear(emb_size, num_answers)\n",
        "\n",
        "    def forward(self, img, q):\n",
        "        # Your code here\n",
        "        return combined_feature\n",
        "\n",
        "trans_vqa_model = TransformerVQA(num_answers)\n",
        "trans_vqa_model.to(device)\n",
        "summary(trans_vqa_model, [(batch_size, 3, 64, 64), (batch_size, 7, 300)])"
      ]
    },
    {
      "cell_type": "markdown",
      "metadata": {
        "id": "Hq2ztwMa0tjL"
      },
      "source": [
        "### Train the Transformer\n",
        "Lets see how your transformer performs in comparison to the LSTM approach"
      ]
    },
    {
      "cell_type": "code",
      "execution_count": 24,
      "metadata": {
        "id": "Gdiob2Cr0tjL"
      },
      "outputs": [],
      "source": [
        "criterion = nn.CrossEntropyLoss()\n",
        "optimizer = torch.optim.Adam(trans_vqa_model.parameters(), lr=learning_rate)"
      ]
    },
    {
      "cell_type": "code",
      "execution_count": null,
      "metadata": {
        "id": "w9aGCBdM0tjL"
      },
      "outputs": [],
      "source": [
        "train_losses, val_losses = [], []\n",
        "train_accs, val_accs = [], []\n",
        "\n",
        "for epoch in tqdm(range(num_epochs)):\n",
        "    train_loss, train_acc = train_loop(trans_vqa_model, optimizer, criterion, trainloader)\n",
        "    val_loss, val_acc = validate_loop(trans_vqa_model, criterion, testloader)\n",
        "\n",
        "    tqdm.write(\n",
        "        f' epoch#{epoch + 1:3d}\\ttrain_loss: {train_loss:.2e}\\ttrain_acc: {train_acc:.2f}\\tval_loss: {val_loss:.2e}\\tval_acc: {val_acc:.2f}\\n',\n",
        "    )\n",
        "\n",
        "    train_losses.append(train_loss)\n",
        "    train_accs.append(train_acc)\n",
        "    val_losses.append(val_loss)\n",
        "    val_accs.append(val_acc)"
      ]
    },
    {
      "cell_type": "code",
      "execution_count": 26,
      "metadata": {
        "colab": {
          "base_uri": "https://localhost:8080/",
          "height": 472
        },
        "id": "biYJIgvI0tjM",
        "outputId": "538ac3ac-4ed5-49ec-e780-878c77930f1b"
      },
      "outputs": [
        {
          "output_type": "display_data",
          "data": {
            "text/plain": [
              "<Figure size 640x480 with 2 Axes>"
            ],
            "image/png": "[encoded data removed]"
          },
          "metadata": {}
        }
      ],
      "source": [
        "plot_loss_curve(train_losses, val_losses, train_accs, val_accs)"
      ]
    },
    {
      "cell_type": "markdown",
      "metadata": {
        "id": "QdmB5iVJ0tjM"
      },
      "source": [
        "### Bonus Exercise 2.6\n",
        "After the model is working now, try to confuse it, e.g.\n",
        "- zero out all image pixels or\n",
        "- assign a random image to a question-answer pair or\n",
        "- permute the word order in the questions\n",
        "\n",
        "How does it affect the model performance? What does it say about the data?  \n",
        "\n",
        "Can you verify your assumptions?"
      ]
    }
  ],
  "metadata": {
    "colab": {
      "provenance": []
    },
    "kernelspec": {
      "display_name": "Python 3 (ipykernel)",
      "language": "python",
      "name": "python3"
    },
    "language_info": {
      "codemirror_mode": {
        "name": "ipython",
        "version": 3
      },
      "file_extension": ".py",
      "mimetype": "text/x-python",
      "name": "python",
      "nbconvert_exporter": "python",
      "pygments_lexer": "ipython3",
      "version": "3.10.12"
    }
  },
  "nbformat": 4,
  "nbformat_minor": 0
}