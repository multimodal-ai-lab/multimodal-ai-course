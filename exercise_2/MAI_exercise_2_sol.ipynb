{
  "cells": [
    {
      "cell_type": "markdown",
      "metadata": {
        "id": "7wBkeRgL8R0f"
      },
      "source": [
        "# Multimodal AI exercise 2: Visual Question Answering\n",
        "In this exercise we will start with our first multimodal approach. Our specific task in this exercise is visual question answering.  \n",
        "We will apply our knowledge from exercise 1 on how to encode images and learn how to encode language via recurrent neural networks and tranformers.\n",
        "\n",
        "We start with installing the easy-vqa dataset which we use to train our model and import the required libraries"
      ]
    },
    {
      "cell_type": "code",
      "execution_count": 1,
      "metadata": {
        "colab": {
          "base_uri": "https://localhost:8080/"
        },
        "id": "ti_puTv2dxLD",
        "outputId": "5cfa3b3f-c5b2-4b93-d99e-bc067e531b24"
      },
      "outputs": [
        {
          "output_type": "stream",
          "name": "stdout",
          "text": [
            "Collecting easy-vqa\n",
            "  Downloading easy_vqa-1.0-py3-none-any.whl (3.2 MB)\n",
            "\u001b[2K     \u001b[90m━━━━━━━━━━━━━━━━━━━━━━━━━━━━━━━━━━━━━━━━\u001b[0m \u001b[32m3.2/3.2 MB\u001b[0m \u001b[31m13.6 MB/s\u001b[0m eta \u001b[36m0:00:00\u001b[0m\n",
            "\u001b[?25hInstalling collected packages: easy-vqa\n",
            "Successfully installed easy-vqa-1.0\n",
            "Collecting torchinfo\n",
            "  Downloading torchinfo-1.8.0-py3-none-any.whl (23 kB)\n",
            "Installing collected packages: torchinfo\n",
            "Successfully installed torchinfo-1.8.0\n"
          ]
        }
      ],
      "source": [
        "!pip install easy-vqa\n",
        "!pip install torchinfo"
      ]
    },
    {
      "cell_type": "code",
      "execution_count": 2,
      "metadata": {
        "colab": {
          "base_uri": "https://localhost:8080/"
        },
        "id": "OvoMdLX-gEJs",
        "outputId": "7272d408-cba2-49a5-f907-6aa0981ec5f4"
      },
      "outputs": [
        {
          "output_type": "stream",
          "name": "stdout",
          "text": [
            "Device: cuda:0\n"
          ]
        },
        {
          "output_type": "stream",
          "name": "stderr",
          "text": [
            "/usr/local/lib/python3.10/dist-packages/torchtext/data/__init__.py:4: UserWarning: \n",
            "/!\\ IMPORTANT WARNING ABOUT TORCHTEXT STATUS /!\\ \n",
            "Torchtext is deprecated and the last released version will be 0.18 (this one). You can silence this warning by calling the following at the beginnign of your scripts: `import torchtext; torchtext.disable_torchtext_deprecation_warning()`\n",
            "  warnings.warn(torchtext._TORCHTEXT_DEPRECATION_MSG)\n"
          ]
        }
      ],
      "source": [
        "import torch\n",
        "import torchvision\n",
        "import torchvision.transforms as T\n",
        "from torchvision.transforms import functional as F\n",
        "from torch.utils.data import Dataset, DataLoader\n",
        "import torchvision.transforms as transforms\n",
        "import torch.nn as nn\n",
        "from torchinfo import summary\n",
        "import torchtext\n",
        "from torchtext.data import get_tokenizer\n",
        "from PIL import Image\n",
        "import numpy as np\n",
        "from tqdm import tqdm\n",
        "import matplotlib.pyplot as plt\n",
        "import math\n",
        "\n",
        "from easy_vqa import get_train_questions, get_test_questions, get_train_image_paths, get_test_image_paths, get_answers\n",
        "\n",
        "device = torch.device(\"cuda:0\") if torch.cuda.is_available() else torch.device(\"cpu\")\n",
        "print(\"Device:\", device)"
      ]
    },
    {
      "cell_type": "markdown",
      "metadata": {
        "id": "wp_c5ffW8R0h"
      },
      "source": [
        "### Configs\n",
        "Here, we define the batch size, learning rate and the number of epochs we want to train"
      ]
    },
    {
      "cell_type": "code",
      "execution_count": 3,
      "metadata": {
        "id": "hgXIbgN6DntW"
      },
      "outputs": [],
      "source": [
        "batch_size = 64\n",
        "learning_rate = 0.001\n",
        "num_epochs = 40"
      ]
    },
    {
      "cell_type": "markdown",
      "metadata": {
        "id": "DZJYIzAU8R0i"
      },
      "source": [
        "### Load the Data\n",
        "With easy-vqa we can easily get the questions, answers, and corresponding image ids"
      ]
    },
    {
      "cell_type": "code",
      "execution_count": 4,
      "metadata": {
        "colab": {
          "base_uri": "https://localhost:8080/"
        },
        "id": "Kg5sC49tgYon",
        "outputId": "278db483-1724-4213-9202-24e89ab36f13"
      },
      "outputs": [
        {
          "output_type": "stream",
          "name": "stdout",
          "text": [
            "Number of training questions: 38575\n",
            "Number of testing questions: 9673\n",
            "Number of training images: 4000\n",
            "Number of testing images: 1000\n",
            "All possible 13 answers: ['circle', 'green', 'red', 'gray', 'yes', 'teal', 'black', 'rectangle', 'yellow', 'triangle', 'brown', 'blue', 'no']\n"
          ]
        }
      ],
      "source": [
        "train_qs, train_answers, train_img_ids = get_train_questions()\n",
        "test_qs, test_answers, test_img_ids = get_test_questions()\n",
        "print(f\"Number of training questions: {len(train_qs)}\\nNumber of testing questions: {len(test_qs)}\")\n",
        "\n",
        "train_img_paths = get_train_image_paths()\n",
        "test_img_paths = get_test_image_paths()\n",
        "print(f\"Number of training images: {len(train_img_paths)}\\nNumber of testing images: {len(test_img_paths)}\")\n",
        "\n",
        "all_answers = get_answers()\n",
        "num_answers = len(all_answers)\n",
        "print(f\"All possible {num_answers} answers:\", all_answers)"
      ]
    },
    {
      "cell_type": "markdown",
      "metadata": {
        "id": "z5B1CgIwhRVW"
      },
      "source": [
        "The following shows how to get the first question, answer and corresponding image"
      ]
    },
    {
      "cell_type": "code",
      "execution_count": null,
      "metadata": {
        "colab": {
          "base_uri": "https://localhost:8080/",
          "height": 117
        },
        "id": "3ZfwaAyRXd1R",
        "outputId": "e6a4bf7a-57c4-48ed-c9cd-eaa18ef3863d"
      },
      "outputs": [
        {
          "name": "stdout",
          "output_type": "stream",
          "text": [
            "what is the blue shape?\n",
            "rectangle\n"
          ]
        },
        {
          "data": {
            "image/png": "[encoded data removed]",
            "text/plain": [
              "<PIL.PngImagePlugin.PngImageFile image mode=RGB size=64x64 at 0x7FE8B6B6AEF0>"
            ]
          },
          "metadata": {},
          "output_type": "display_data"
        }
      ],
      "source": [
        "print(train_qs[0])\n",
        "print(train_answers[0])\n",
        "display(Image.open(train_img_paths[train_img_ids[0]]))"
      ]
    },
    {
      "cell_type": "markdown",
      "metadata": {
        "id": "lqj4m4Yc8R0j"
      },
      "source": [
        "### Load Word2Vec\n",
        "Next, we are loading the pretrained word2vec, which serves us as a replacement for the embedding layer"
      ]
    },
    {
      "cell_type": "code",
      "execution_count": null,
      "metadata": {
        "colab": {
          "base_uri": "https://localhost:8080/"
        },
        "id": "RAXO4wNeYefV",
        "outputId": "8fb8d0d6-6020-43cf-bb3b-92f678d55ebd",
        "scrolled": true
      },
      "outputs": [
        {
          "name": "stderr",
          "output_type": "stream",
          "text": [
            "/usr/lib/python3/dist-packages/scipy/__init__.py:146: UserWarning: A NumPy version >=1.17.3 and <1.25.0 is required for this version of SciPy (detected version 1.25.2\n",
            "  warnings.warn(f\"A NumPy version >={np_minversion} and <{np_maxversion}\"\n"
          ]
        }
      ],
      "source": [
        "import string\n",
        "from gensim.models.word2vec import Word2Vec\n",
        "import gensim.downloader\n",
        "\n",
        "pretrained_word2vec = gensim.downloader.load('word2vec-google-news-300')"
      ]
    },
    {
      "cell_type": "markdown",
      "metadata": {
        "id": "OTV0-Dp88R0k"
      },
      "source": [
        "word2vec is like a dictionary where the keys are words/tokens and the values are embeddings of dimension (300,)"
      ]
    },
    {
      "cell_type": "code",
      "execution_count": null,
      "metadata": {
        "colab": {
          "base_uri": "https://localhost:8080/"
        },
        "id": "X89bo-M2ayG4",
        "outputId": "cbe9c1f9-b92d-4b39-bc65-a94f2a1b7cb9"
      },
      "outputs": [
        {
          "name": "stdout",
          "output_type": "stream",
          "text": [
            "<class 'gensim.models.keyedvectors.KeyedVectors'>\n",
            "(300,)\n"
          ]
        }
      ],
      "source": [
        "print(type(pretrained_word2vec))\n",
        "print(pretrained_word2vec[\"shape\"].shape)"
      ]
    },
    {
      "cell_type": "markdown",
      "metadata": {
        "id": "ior_sFAi8R0l"
      },
      "source": [
        "### Exercise 2.1: Preprocess the Questions\n",
        "Now, we want to apply our loaded word2vec to our questions. Therefore, we need to tokenize each question, remove the stop words, and pad each question to a length of 7 (which is the length of the longest question). And at last, we need to actually apply our loaded 'pretrained_word2vec' to the padded tokens."
      ]
    },
    {
      "cell_type": "code",
      "execution_count": null,
      "metadata": {
        "colab": {
          "base_uri": "https://localhost:8080/"
        },
        "id": "SATuYR5R8R0l",
        "outputId": "44c629bf-a105-47f1-c40d-120802600a3d"
      },
      "outputs": [
        {
          "name": "stdout",
          "output_type": "stream",
          "text": [
            "Train question embeddings shape: (38575, 7, 300)\n",
            "Test question embeddings shape: (9673, 7, 300)\n"
          ]
        }
      ],
      "source": [
        "def preprocess_questions(questions):\n",
        "    tokenizer = get_tokenizer(\"basic_english\")\n",
        "    stop_words = [\"a\", \"the\", \"of\"]\n",
        "    qs_embs = []\n",
        "    max_question_len = 7    # tested by hand\n",
        "    for question in questions:\n",
        "        # remove punctuation\n",
        "        question = question.translate(str.maketrans('', '', string.punctuation))\n",
        "\n",
        "        # Your code here\n",
        "\n",
        "        # tokenize the question\n",
        "        q_tokens = tokenizer(question)\n",
        "        # remove stopwords\n",
        "        q_tokens = [t for t in q_tokens if t not in stop_words]\n",
        "        full_tokens = [\"pad\"] * max_question_len\n",
        "        full_tokens[:len(q_tokens)] = q_tokens\n",
        "        q_embs = pretrained_word2vec[full_tokens]\n",
        "        qs_embs.append(q_embs)\n",
        "    qs_embs = np.asarray(qs_embs)\n",
        "    return qs_embs\n",
        "\n",
        "train_qs_idxs = preprocess_questions(train_qs)\n",
        "print(\"Train question embeddings shape:\", train_qs_idxs.shape)\n",
        "assert len(train_qs_idxs) == len(train_qs)\n",
        "test_qs_idxs = preprocess_questions(test_qs)\n",
        "assert len(test_qs_idxs) == len(test_qs)\n",
        "print(\"Test question embeddings shape:\", test_qs_idxs.shape)"
      ]
    },
    {
      "cell_type": "markdown",
      "metadata": {
        "id": "cGa-fxNF8R0l"
      },
      "source": [
        "### Preprocess the Answers\n",
        "Of course we also need to preprocess our answers. The following encodes each answer in a one-hot-encoding of all possible answers"
      ]
    },
    {
      "cell_type": "code",
      "execution_count": null,
      "metadata": {
        "colab": {
          "base_uri": "https://localhost:8080/"
        },
        "id": "pOj41IHJu3no",
        "outputId": "a0a613e4-5ff7-4e9d-d356-53547916cc8e"
      },
      "outputs": [
        {
          "name": "stdout",
          "output_type": "stream",
          "text": [
            "one-hot-encoding of answer 0: [0 0 0 0 0 0 0 1 0 0 0 0 0]\n"
          ]
        }
      ],
      "source": [
        "# get index of each answer\n",
        "train_answer_indices = np.array([all_answers.index(a) for a in train_answers])\n",
        "test_answer_indices = np.array([all_answers.index(a) for a in test_answers])\n",
        "\n",
        "# create a one-hot encoding for the answers\n",
        "train_Y = np.zeros((train_answer_indices.size, train_answer_indices.max()+1), dtype=int)\n",
        "test_Y = np.zeros((test_answer_indices.size, test_answer_indices.max()+1), dtype=int)\n",
        "# replace 0 with a 1 at the index of the original array\n",
        "train_Y[np.arange(train_answer_indices.size), train_answer_indices] = 1\n",
        "test_Y[np.arange(test_answer_indices.size), test_answer_indices] = 1\n",
        "print(f\"one-hot-encoding of answer 0: {train_Y[0]}\")"
      ]
    },
    {
      "cell_type": "markdown",
      "metadata": {
        "id": "SA9zQiVK8R0l"
      },
      "source": [
        "### Exercise 2.2: Create your own custom VQA Dataset\n",
        "As we preprocessed a lot, there isn't much to do here. Please implement the get_item(...) function here, which loads the embedded question, the one-hot-encoded answer, loads the corresponding image and applies the given transformation to it."
      ]
    },
    {
      "cell_type": "code",
      "execution_count": null,
      "metadata": {
        "id": "rSrE9lPqwec2"
      },
      "outputs": [],
      "source": [
        "class CustomVQADataset(Dataset):\n",
        "    def __init__(self, img_paths, qs_embs, ans_encodings, qs_img_ids, img_transform):\n",
        "        # Your code here\n",
        "        self.img_paths = img_paths\n",
        "        self.qs_embs = qs_embs\n",
        "        self.ans_encodings = ans_encodings\n",
        "        self.qs_img_ids = qs_img_ids\n",
        "        self.img_transform = img_transform\n",
        "\n",
        "    def __getitem__(self, idx):\n",
        "        # Your code here\n",
        "        img_path = self.img_paths[self.qs_img_ids[idx]]\n",
        "        img = Image.open(img_path)\n",
        "        img = self.img_transform(img)\n",
        "        qs = self.qs_embs[idx]\n",
        "        ans = self.ans_encodings[idx]\n",
        "        return img, qs, ans\n",
        "\n",
        "    def __len__(self):\n",
        "        # Your code here\n",
        "        return len(self.qs_embs)"
      ]
    },
    {
      "cell_type": "markdown",
      "metadata": {
        "id": "Fz_mGpRE8R0m"
      },
      "source": [
        "The following states the image transformations, creates an instance of the training and test set and transforms it to the corresponding DataLoader"
      ]
    },
    {
      "cell_type": "code",
      "execution_count": null,
      "metadata": {
        "id": "gjBbh-YG_eP5"
      },
      "outputs": [],
      "source": [
        "train_transforms = transforms.Compose([\n",
        "    transforms.ToTensor(),\n",
        "    transforms.Normalize((0.5, 0.5, 0.5), (0.5, 0.5, 0.5))\n",
        "    ])\n",
        "test_transforms = transforms.Compose([\n",
        "    transforms.ToTensor(),\n",
        "    transforms.Normalize((0.5, 0.5, 0.5), (0.5, 0.5, 0.5))\n",
        "    ])"
      ]
    },
    {
      "cell_type": "code",
      "execution_count": null,
      "metadata": {
        "colab": {
          "base_uri": "https://localhost:8080/"
        },
        "id": "yzovq9mw-xml",
        "outputId": "ab2ff604-e8d6-4a3f-88e1-ae15be419596"
      },
      "outputs": [
        {
          "name": "stdout",
          "output_type": "stream",
          "text": [
            "Train dataset: 38575\n",
            "Test dataset: 9673\n"
          ]
        }
      ],
      "source": [
        "train_dataset = CustomVQADataset(train_img_paths, train_qs_idxs, train_Y, train_img_ids, train_transforms)\n",
        "test_dataset = CustomVQADataset(test_img_paths, test_qs_idxs, test_Y, test_img_ids, test_transforms)\n",
        "trainloader = DataLoader(train_dataset, shuffle=True, batch_size=batch_size, num_workers=4)\n",
        "testloader = DataLoader(test_dataset, shuffle=False, batch_size=batch_size)\n",
        "print(\"Train dataset:\", len(train_dataset))\n",
        "print(\"Test dataset:\", len(test_dataset))"
      ]
    },
    {
      "cell_type": "markdown",
      "metadata": {
        "id": "1KUFvVfQ8R0m"
      },
      "source": [
        "### Exercise 2.3: Create the VQA Model\n",
        "We need to implement the actual VQA model. For the image encoder the provided the initialization of convolutional and pooling layers.  \n",
        "Please implement the forward pass! Just apply the convolution with the ReLU activation function followed by a MaxPool operation 3 times. After that, flatten the input (except for the batch dimension) and apply the fully connected layer followed again by ReLU.  \n",
        "\n",
        "Second, the forward pass for combining both modalities is missing. Please implement it as well. To do that you need to encode the image and the question with the corresponding encoders. Combine both encodings via element-wise multiplication followed by ReLU, the given dropout layer, and feed it though the fully connected layer at last.\n",
        "\n"
      ]
    },
    {
      "cell_type": "code",
      "execution_count": null,
      "metadata": {
        "colab": {
          "base_uri": "https://localhost:8080/"
        },
        "id": "Cx409dkahAyG",
        "outputId": "bf977892-b831-4db1-884c-5444784736a7"
      },
      "outputs": [
        {
          "data": {
            "text/plain": [
              "==========================================================================================\n",
              "Layer (type:depth-idx)                   Output Shape              Param #\n",
              "==========================================================================================\n",
              "VQA                                      [64, 13]                  --\n",
              "├─ImgEncoder: 1-1                        [64, 32]                  --\n",
              "│    └─Conv2d: 2-1                       [64, 8, 62, 62]           224\n",
              "│    └─ReLU: 2-2                         [64, 8, 62, 62]           --\n",
              "│    └─MaxPool2d: 2-3                    [64, 8, 31, 31]           --\n",
              "│    └─Conv2d: 2-4                       [64, 16, 29, 29]          1,168\n",
              "│    └─ReLU: 2-5                         [64, 16, 29, 29]          --\n",
              "│    └─MaxPool2d: 2-6                    [64, 16, 14, 14]          --\n",
              "│    └─Conv2d: 2-7                       [64, 32, 12, 12]          4,640\n",
              "│    └─ReLU: 2-8                         [64, 32, 12, 12]          --\n",
              "│    └─MaxPool2d: 2-9                    [64, 32, 6, 6]            --\n",
              "│    └─Linear: 2-10                      [64, 32]                  36,896\n",
              "│    └─ReLU: 2-11                        [64, 32]                  --\n",
              "├─TextEncoder: 1-2                       [64, 32]                  --\n",
              "│    └─LSTM: 2-12                        [7, 64, 32]               42,752\n",
              "│    └─ReLU: 2-13                        [64, 64]                  --\n",
              "│    └─Linear: 2-14                      [64, 32]                  2,080\n",
              "│    └─ReLU: 2-15                        [64, 32]                  --\n",
              "├─ReLU: 1-3                              [64, 32]                  --\n",
              "├─Dropout: 1-4                           [64, 32]                  --\n",
              "├─Linear: 1-5                            [64, 13]                  429\n",
              "==========================================================================================\n",
              "Total params: 88,189\n",
              "Trainable params: 88,189\n",
              "Non-trainable params: 0\n",
              "Total mult-adds (M): 182.41\n",
              "==========================================================================================\n",
              "Input size (MB): 3.68\n",
              "Forward/backward pass size (MB): 25.15\n",
              "Params size (MB): 0.35\n",
              "Estimated Total Size (MB): 29.18\n",
              "=========================================================================================="
            ]
          },
          "execution_count": 14,
          "metadata": {},
          "output_type": "execute_result"
        }
      ],
      "source": [
        "class ImgEncoder(nn.Module):\n",
        "    def __init__(self, emb_size=32):\n",
        "        super(ImgEncoder, self).__init__()\n",
        "\n",
        "        self.conv1 = nn.Conv2d(3, 8, kernel_size=3)   # output shape (batch_size, 8, 62, 62)\n",
        "        self.pool1 = nn.MaxPool2d(kernel_size=2)      # output shape (batch_size, 8, 31, 31)\n",
        "        self.conv2 = nn.Conv2d(8, 16, kernel_size=3)  # output shape (batch_size, 16, 29, 29)\n",
        "        self.pool2 = nn.MaxPool2d(kernel_size=2)      # output shape (batch_size, 16, 14, 14)\n",
        "        self.conv3 = nn.Conv2d(16, 32, kernel_size=3) # output shape (batch_size, 32, 12, 12)\n",
        "        self.pool3 = nn.MaxPool2d(kernel_size=2)      # output shape (batch_size, 32, 6, 6)\n",
        "        self.relu = nn.ReLU()\n",
        "        self.fc1 = nn.Linear(32*6*6, emb_size)        # output shape (batch_size, 32)\n",
        "\n",
        "    def forward(self, img):\n",
        "        # Your code here\n",
        "        x = self.pool1(self.relu(self.conv1(img)))\n",
        "        x = self.pool2(self.relu(self.conv2(x)))\n",
        "        x = self.pool3(self.relu(self.conv3(x)))\n",
        "        x = x.view(-1, 32*6*6)\n",
        "        x = self.relu(self.fc1(x))\n",
        "        return x\n",
        "\n",
        "\n",
        "class TextEncoder(nn.Module):\n",
        "    def __init__(self, word_embed_size=300, hidden_size=32, num_layers=1, emb_size=32):\n",
        "        super(TextEncoder, self).__init__()\n",
        "\n",
        "        self.relu = nn.ReLU()\n",
        "        self.lstm = nn.LSTM(word_embed_size, hidden_size, num_layers)\n",
        "        self.fc = nn.Linear(2*num_layers*hidden_size, emb_size)      # 2 for hidden and cell states\n",
        "\n",
        "    def forward(self, txt_embs):\n",
        "        txt_embs = txt_embs.transpose(0, 1)                           # [qs_length=7, batch_size, word_embed_size=300]\n",
        "        _, (hidden, cell) = self.lstm(txt_embs)                       # [num_layers=2, batch_size, hidden_size=32]\n",
        "        qst_feature = torch.cat((hidden, cell), 2)                    # [num_layers=2, batch_size, 2*hidden_size=64]\n",
        "        qst_feature = qst_feature.transpose(0, 1)                     # [batch_size, num_layers=2, 2*hidden_size=64]\n",
        "        qst_feature = qst_feature.reshape(qst_feature.size()[0], -1)  # [batch_size, 2*num_layers*hidden_size=64]\n",
        "        qst_feature = self.relu(qst_feature)\n",
        "        qst_feature = self.fc(qst_feature)                            # [batch_size, embed_size=32]\n",
        "        qst_feature = self.relu(qst_feature)\n",
        "        return qst_feature\n",
        "\n",
        "\n",
        "class VQA(nn.Module):\n",
        "    def __init__(self, num_answers, emb_size=32):\n",
        "        super(VQA, self).__init__()\n",
        "\n",
        "        self.img_encoder = ImgEncoder(emb_size=emb_size)\n",
        "        self.txt_encoder = TextEncoder(emb_size=emb_size)\n",
        "        self.relu = nn.ReLU()\n",
        "        self.dropout = nn.Dropout(0.5)\n",
        "        self.fc1 = nn.Linear(emb_size, num_answers)\n",
        "\n",
        "    def forward(self, img, q):\n",
        "        # Your code here\n",
        "        img_feature = self.img_encoder(img)                     # [batch_size, embed_size]\n",
        "        txt_feature = self.txt_encoder(q)                       # [batch_size, embed_size]\n",
        "        combined_feature = torch.mul(img_feature, txt_feature)  # [batch_size, embed_size]\n",
        "        combined_feature = self.relu(combined_feature)\n",
        "        combined_feature = self.dropout(combined_feature)\n",
        "        combined_feature = self.fc1(combined_feature)           # [batch_size, num_answers]\n",
        "        return combined_feature\n",
        "\n",
        "vqa_model = VQA(num_answers)\n",
        "vqa_model.to(device)\n",
        "summary(vqa_model, [(batch_size, 3, 64, 64), (batch_size, 7, 300)])"
      ]
    },
    {
      "cell_type": "markdown",
      "metadata": {
        "id": "W9JP1oqO8R0n"
      },
      "source": [
        "### Exercise 2.4: Implement the Training and Validation Loop\n",
        "We give you the trainloader and how to calculate the metrics, loss and accuracy, on the training set (used for better visualization) but the rest of the training loop is missing. Please insert the forward and backward pass and the required optimizer operations.  \n",
        "Additionally, please implement the validation loop including validation loss and accuracy (remember: no gradients are calculated here 😉)"
      ]
    },
    {
      "cell_type": "code",
      "execution_count": null,
      "metadata": {
        "id": "JhOMwtldAW3I"
      },
      "outputs": [],
      "source": [
        "def train_loop(model, optimizer, criterion, train_loader):\n",
        "    model.train()\n",
        "    total_loss, total = 0, 1e-6\n",
        "    num_correct = 0\n",
        "\n",
        "    for img, qs, ans in train_loader:\n",
        "        # get the inputs; data is a list of [inputs, labels]\n",
        "        img, qs, ans =  img.to(device), qs.to(device), ans.to(device, dtype=torch.float32)\n",
        "        # Your code here\n",
        "        # (output of the model is called output)\n",
        "\n",
        "        # zero the parameter gradients\n",
        "        optimizer.zero_grad()\n",
        "        # forward pass\n",
        "        output = model(img, qs)\n",
        "        # calculate the loss\n",
        "        loss = criterion(output, ans)\n",
        "        # backpropagate the loss\n",
        "        loss.backward()\n",
        "        # do one optimizer step\n",
        "        optimizer.step()\n",
        "        # Record metrics\n",
        "        total_loss += loss.item()\n",
        "        total += len(ans)\n",
        "\n",
        "        # calculate accuracy\n",
        "        _, prediction = output.max(1)\n",
        "        answer = torch.argmax(ans, dim=1)\n",
        "        num_correct += (prediction == answer).sum()\n",
        "    return total_loss / total, (num_correct.item() / total) * 100\n",
        "\n",
        "\n",
        "def validate_loop(model, criterion, valid_loader):\n",
        "    model.eval()\n",
        "    total_loss, total = 0, 1e-6\n",
        "    num_correct = 0\n",
        "    # Your code here\n",
        "\n",
        "    with torch.no_grad():\n",
        "        for img, qs, ans in valid_loader:\n",
        "            # get the inputs; data is a list of [inputs, labels]\n",
        "            img, qs, ans =  img.to(device), qs.to(device), ans.to(device, dtype=torch.float32)\n",
        "            # Forward pass\n",
        "            output = model(img, qs)\n",
        "            # Calculate how wrong the model is\n",
        "            loss = criterion(output, ans)\n",
        "            # Record metrics\n",
        "            total_loss += loss.item()\n",
        "            total += len(ans)\n",
        "            # calculate accuracy\n",
        "            _, prediction = output.max(1)\n",
        "            answer = torch.argmax(ans, dim=1)\n",
        "            num_correct += (prediction == answer).sum()\n",
        "\n",
        "    return total_loss / total, (num_correct.item() / total) * 100"
      ]
    },
    {
      "cell_type": "markdown",
      "metadata": {
        "id": "SLi4KcC18R0n"
      },
      "source": [
        "Define the loss function and optimizer"
      ]
    },
    {
      "cell_type": "code",
      "execution_count": null,
      "metadata": {
        "id": "T9ym0FpTD5nb"
      },
      "outputs": [],
      "source": [
        "criterion = nn.CrossEntropyLoss()\n",
        "optimizer = torch.optim.Adam(vqa_model.parameters(), lr=learning_rate)"
      ]
    },
    {
      "cell_type": "markdown",
      "metadata": {
        "id": "8ORbbU-W8R0o"
      },
      "source": [
        "## Training\n",
        "Now we can actually train our VQA model. The model is trained for one epoch always followed by a validation."
      ]
    },
    {
      "cell_type": "code",
      "execution_count": null,
      "metadata": {
        "colab": {
          "background_save": true,
          "base_uri": "https://localhost:8080/"
        },
        "id": "i2HDkboIE64G",
        "outputId": "7efbe181-c7d6-4e1b-bc7c-fad97400e2f2"
      },
      "outputs": [
        {
          "name": "stderr",
          "output_type": "stream",
          "text": [
            "  2%|▎         | 1/40 [00:06<03:57,  6.10s/it]"
          ]
        },
        {
          "name": "stdout",
          "output_type": "stream",
          "text": [
            " epoch#  1\ttrain_loss: 1.86e-02\ttrain_acc: 54.10\tval_loss: 1.31e-02\tval_acc: 65.19\n",
            "\n"
          ]
        },
        {
          "name": "stderr",
          "output_type": "stream",
          "text": [
            "  5%|▌         | 2/40 [00:12<03:47,  6.00s/it]"
          ]
        },
        {
          "name": "stdout",
          "output_type": "stream",
          "text": [
            " epoch#  2\ttrain_loss: 1.55e-02\ttrain_acc: 60.36\tval_loss: 1.31e-02\tval_acc: 65.54\n",
            "\n"
          ]
        },
        {
          "name": "stderr",
          "output_type": "stream",
          "text": [
            "  8%|▊         | 3/40 [00:18<03:41,  5.99s/it]"
          ]
        },
        {
          "name": "stdout",
          "output_type": "stream",
          "text": [
            " epoch#  3\ttrain_loss: 1.52e-02\ttrain_acc: 61.23\tval_loss: 1.30e-02\tval_acc: 64.93\n",
            "\n"
          ]
        },
        {
          "name": "stderr",
          "output_type": "stream",
          "text": [
            " 10%|█         | 4/40 [00:23<03:35,  5.98s/it]"
          ]
        },
        {
          "name": "stdout",
          "output_type": "stream",
          "text": [
            " epoch#  4\ttrain_loss: 1.51e-02\ttrain_acc: 61.55\tval_loss: 1.29e-02\tval_acc: 65.19\n",
            "\n"
          ]
        },
        {
          "name": "stderr",
          "output_type": "stream",
          "text": [
            " 12%|█▎        | 5/40 [00:29<03:28,  5.97s/it]"
          ]
        },
        {
          "name": "stdout",
          "output_type": "stream",
          "text": [
            " epoch#  5\ttrain_loss: 1.51e-02\ttrain_acc: 62.13\tval_loss: 1.28e-02\tval_acc: 65.54\n",
            "\n"
          ]
        },
        {
          "name": "stderr",
          "output_type": "stream",
          "text": [
            " 15%|█▌        | 6/40 [00:35<03:23,  5.98s/it]"
          ]
        },
        {
          "name": "stdout",
          "output_type": "stream",
          "text": [
            " epoch#  6\ttrain_loss: 1.50e-02\ttrain_acc: 62.14\tval_loss: 1.29e-02\tval_acc: 65.54\n",
            "\n"
          ]
        },
        {
          "name": "stderr",
          "output_type": "stream",
          "text": [
            " 18%|█▊        | 7/40 [00:41<03:16,  5.94s/it]"
          ]
        },
        {
          "name": "stdout",
          "output_type": "stream",
          "text": [
            " epoch#  7\ttrain_loss: 1.50e-02\ttrain_acc: 62.18\tval_loss: 1.28e-02\tval_acc: 65.54\n",
            "\n"
          ]
        },
        {
          "name": "stderr",
          "output_type": "stream",
          "text": [
            " 20%|██        | 8/40 [00:47<03:09,  5.92s/it]"
          ]
        },
        {
          "name": "stdout",
          "output_type": "stream",
          "text": [
            " epoch#  8\ttrain_loss: 1.50e-02\ttrain_acc: 62.41\tval_loss: 1.29e-02\tval_acc: 65.19\n",
            "\n"
          ]
        },
        {
          "name": "stderr",
          "output_type": "stream",
          "text": [
            " 22%|██▎       | 9/40 [00:53<03:03,  5.91s/it]"
          ]
        },
        {
          "name": "stdout",
          "output_type": "stream",
          "text": [
            " epoch#  9\ttrain_loss: 1.50e-02\ttrain_acc: 62.70\tval_loss: 1.28e-02\tval_acc: 65.19\n",
            "\n"
          ]
        },
        {
          "name": "stderr",
          "output_type": "stream",
          "text": [
            " 25%|██▌       | 10/40 [00:59<02:56,  5.88s/it]"
          ]
        },
        {
          "name": "stdout",
          "output_type": "stream",
          "text": [
            " epoch# 10\ttrain_loss: 1.50e-02\ttrain_acc: 62.58\tval_loss: 1.28e-02\tval_acc: 64.93\n",
            "\n"
          ]
        },
        {
          "name": "stderr",
          "output_type": "stream",
          "text": [
            " 28%|██▊       | 11/40 [01:05<02:50,  5.87s/it]"
          ]
        },
        {
          "name": "stdout",
          "output_type": "stream",
          "text": [
            " epoch# 11\ttrain_loss: 1.49e-02\ttrain_acc: 62.63\tval_loss: 1.30e-02\tval_acc: 65.54\n",
            "\n"
          ]
        },
        {
          "name": "stderr",
          "output_type": "stream",
          "text": [
            " 30%|███       | 12/40 [01:11<02:44,  5.86s/it]"
          ]
        },
        {
          "name": "stdout",
          "output_type": "stream",
          "text": [
            " epoch# 12\ttrain_loss: 1.49e-02\ttrain_acc: 62.91\tval_loss: 1.28e-02\tval_acc: 64.93\n",
            "\n"
          ]
        },
        {
          "name": "stderr",
          "output_type": "stream",
          "text": [
            " 32%|███▎      | 13/40 [01:16<02:38,  5.85s/it]"
          ]
        },
        {
          "name": "stdout",
          "output_type": "stream",
          "text": [
            " epoch# 13\ttrain_loss: 1.49e-02\ttrain_acc: 62.78\tval_loss: 1.27e-02\tval_acc: 65.19\n",
            "\n"
          ]
        },
        {
          "name": "stderr",
          "output_type": "stream",
          "text": [
            " 35%|███▌      | 14/40 [01:22<02:32,  5.87s/it]"
          ]
        },
        {
          "name": "stdout",
          "output_type": "stream",
          "text": [
            " epoch# 14\ttrain_loss: 1.49e-02\ttrain_acc: 62.87\tval_loss: 1.28e-02\tval_acc: 65.54\n",
            "\n"
          ]
        },
        {
          "name": "stderr",
          "output_type": "stream",
          "text": [
            " 38%|███▊      | 15/40 [01:28<02:26,  5.88s/it]"
          ]
        },
        {
          "name": "stdout",
          "output_type": "stream",
          "text": [
            " epoch# 15\ttrain_loss: 1.47e-02\ttrain_acc: 63.24\tval_loss: 1.15e-02\tval_acc: 68.78\n",
            "\n"
          ]
        },
        {
          "name": "stderr",
          "output_type": "stream",
          "text": [
            " 40%|████      | 16/40 [01:34<02:21,  5.88s/it]"
          ]
        },
        {
          "name": "stdout",
          "output_type": "stream",
          "text": [
            " epoch# 16\ttrain_loss: 1.41e-02\ttrain_acc: 64.10\tval_loss: 1.13e-02\tval_acc: 68.83\n",
            "\n"
          ]
        },
        {
          "name": "stderr",
          "output_type": "stream",
          "text": [
            " 42%|████▎     | 17/40 [01:40<02:14,  5.87s/it]"
          ]
        },
        {
          "name": "stdout",
          "output_type": "stream",
          "text": [
            " epoch# 17\ttrain_loss: 1.38e-02\ttrain_acc: 64.93\tval_loss: 1.08e-02\tval_acc: 69.05\n",
            "\n"
          ]
        },
        {
          "name": "stderr",
          "output_type": "stream",
          "text": [
            " 45%|████▌     | 18/40 [01:46<02:08,  5.86s/it]"
          ]
        },
        {
          "name": "stdout",
          "output_type": "stream",
          "text": [
            " epoch# 18\ttrain_loss: 1.28e-02\ttrain_acc: 66.13\tval_loss: 1.06e-02\tval_acc: 71.92\n",
            "\n"
          ]
        },
        {
          "name": "stderr",
          "output_type": "stream",
          "text": [
            " 48%|████▊     | 19/40 [01:52<02:03,  5.86s/it]"
          ]
        },
        {
          "name": "stdout",
          "output_type": "stream",
          "text": [
            " epoch# 19\ttrain_loss: 1.25e-02\ttrain_acc: 66.36\tval_loss: 1.01e-02\tval_acc: 71.74\n",
            "\n"
          ]
        },
        {
          "name": "stderr",
          "output_type": "stream",
          "text": [
            " 50%|█████     | 20/40 [01:57<01:57,  5.85s/it]"
          ]
        },
        {
          "name": "stdout",
          "output_type": "stream",
          "text": [
            " epoch# 20\ttrain_loss: 1.22e-02\ttrain_acc: 66.96\tval_loss: 9.95e-03\tval_acc: 72.06\n",
            "\n"
          ]
        },
        {
          "name": "stderr",
          "output_type": "stream",
          "text": [
            " 52%|█████▎    | 21/40 [02:03<01:51,  5.85s/it]"
          ]
        },
        {
          "name": "stdout",
          "output_type": "stream",
          "text": [
            " epoch# 21\ttrain_loss: 1.19e-02\ttrain_acc: 67.37\tval_loss: 9.57e-03\tval_acc: 73.29\n",
            "\n"
          ]
        },
        {
          "name": "stderr",
          "output_type": "stream",
          "text": [
            " 55%|█████▌    | 22/40 [02:09<01:45,  5.85s/it]"
          ]
        },
        {
          "name": "stdout",
          "output_type": "stream",
          "text": [
            " epoch# 22\ttrain_loss: 1.17e-02\ttrain_acc: 67.98\tval_loss: 9.31e-03\tval_acc: 74.38\n",
            "\n"
          ]
        },
        {
          "name": "stderr",
          "output_type": "stream",
          "text": [
            " 57%|█████▊    | 23/40 [02:15<01:39,  5.85s/it]"
          ]
        },
        {
          "name": "stdout",
          "output_type": "stream",
          "text": [
            " epoch# 23\ttrain_loss: 1.14e-02\ttrain_acc: 68.95\tval_loss: 9.19e-03\tval_acc: 75.33\n",
            "\n"
          ]
        },
        {
          "name": "stderr",
          "output_type": "stream",
          "text": [
            " 60%|██████    | 24/40 [02:21<01:33,  5.87s/it]"
          ]
        },
        {
          "name": "stdout",
          "output_type": "stream",
          "text": [
            " epoch# 24\ttrain_loss: 1.11e-02\ttrain_acc: 69.79\tval_loss: 8.81e-03\tval_acc: 77.95\n",
            "\n"
          ]
        },
        {
          "name": "stderr",
          "output_type": "stream",
          "text": [
            " 62%|██████▎   | 25/40 [02:27<01:28,  5.90s/it]"
          ]
        },
        {
          "name": "stdout",
          "output_type": "stream",
          "text": [
            " epoch# 25\ttrain_loss: 1.10e-02\ttrain_acc: 70.56\tval_loss: 8.41e-03\tval_acc: 79.07\n",
            "\n"
          ]
        },
        {
          "name": "stderr",
          "output_type": "stream",
          "text": [
            " 65%|██████▌   | 26/40 [02:33<01:22,  5.90s/it]"
          ]
        },
        {
          "name": "stdout",
          "output_type": "stream",
          "text": [
            " epoch# 26\ttrain_loss: 1.09e-02\ttrain_acc: 70.85\tval_loss: 8.07e-03\tval_acc: 80.10\n",
            "\n"
          ]
        },
        {
          "name": "stderr",
          "output_type": "stream",
          "text": [
            " 68%|██████▊   | 27/40 [02:39<01:16,  5.91s/it]"
          ]
        },
        {
          "name": "stdout",
          "output_type": "stream",
          "text": [
            " epoch# 27\ttrain_loss: 1.06e-02\ttrain_acc: 71.56\tval_loss: 7.57e-03\tval_acc: 81.25\n",
            "\n"
          ]
        },
        {
          "name": "stderr",
          "output_type": "stream",
          "text": [
            " 70%|███████   | 28/40 [02:45<01:10,  5.91s/it]"
          ]
        },
        {
          "name": "stdout",
          "output_type": "stream",
          "text": [
            " epoch# 28\ttrain_loss: 1.02e-02\ttrain_acc: 72.30\tval_loss: 6.98e-03\tval_acc: 82.12\n",
            "\n"
          ]
        },
        {
          "name": "stderr",
          "output_type": "stream",
          "text": [
            " 72%|███████▎  | 29/40 [02:50<01:04,  5.90s/it]"
          ]
        },
        {
          "name": "stdout",
          "output_type": "stream",
          "text": [
            " epoch# 29\ttrain_loss: 9.83e-03\ttrain_acc: 73.65\tval_loss: 6.56e-03\tval_acc: 83.92\n",
            "\n"
          ]
        },
        {
          "name": "stderr",
          "output_type": "stream",
          "text": [
            " 75%|███████▌  | 30/40 [02:56<00:58,  5.90s/it]"
          ]
        },
        {
          "name": "stdout",
          "output_type": "stream",
          "text": [
            " epoch# 30\ttrain_loss: 9.61e-03\ttrain_acc: 74.24\tval_loss: 6.58e-03\tval_acc: 85.02\n",
            "\n"
          ]
        },
        {
          "name": "stderr",
          "output_type": "stream",
          "text": [
            " 78%|███████▊  | 31/40 [03:02<00:53,  5.90s/it]"
          ]
        },
        {
          "name": "stdout",
          "output_type": "stream",
          "text": [
            " epoch# 31\ttrain_loss: 9.37e-03\ttrain_acc: 74.47\tval_loss: 6.20e-03\tval_acc: 84.43\n",
            "\n"
          ]
        },
        {
          "name": "stderr",
          "output_type": "stream",
          "text": [
            " 80%|████████  | 32/40 [03:08<00:47,  5.91s/it]"
          ]
        },
        {
          "name": "stdout",
          "output_type": "stream",
          "text": [
            " epoch# 32\ttrain_loss: 9.35e-03\ttrain_acc: 74.70\tval_loss: 6.11e-03\tval_acc: 84.93\n",
            "\n"
          ]
        },
        {
          "name": "stderr",
          "output_type": "stream",
          "text": [
            " 82%|████████▎ | 33/40 [03:14<00:41,  5.93s/it]"
          ]
        },
        {
          "name": "stdout",
          "output_type": "stream",
          "text": [
            " epoch# 33\ttrain_loss: 9.18e-03\ttrain_acc: 75.09\tval_loss: 6.11e-03\tval_acc: 84.70\n",
            "\n"
          ]
        },
        {
          "name": "stderr",
          "output_type": "stream",
          "text": [
            " 85%|████████▌ | 34/40 [03:20<00:35,  5.93s/it]"
          ]
        },
        {
          "name": "stdout",
          "output_type": "stream",
          "text": [
            " epoch# 34\ttrain_loss: 9.24e-03\ttrain_acc: 74.94\tval_loss: 5.94e-03\tval_acc: 85.36\n",
            "\n"
          ]
        },
        {
          "name": "stderr",
          "output_type": "stream",
          "text": [
            " 88%|████████▊ | 35/40 [03:26<00:29,  5.94s/it]"
          ]
        },
        {
          "name": "stdout",
          "output_type": "stream",
          "text": [
            " epoch# 35\ttrain_loss: 9.15e-03\ttrain_acc: 75.24\tval_loss: 5.93e-03\tval_acc: 86.35\n",
            "\n"
          ]
        },
        {
          "name": "stderr",
          "output_type": "stream",
          "text": [
            " 90%|█████████ | 36/40 [03:32<00:23,  5.96s/it]"
          ]
        },
        {
          "name": "stdout",
          "output_type": "stream",
          "text": [
            " epoch# 36\ttrain_loss: 9.01e-03\ttrain_acc: 75.68\tval_loss: 5.66e-03\tval_acc: 86.50\n",
            "\n"
          ]
        },
        {
          "name": "stderr",
          "output_type": "stream",
          "text": [
            " 92%|█████████▎| 37/40 [03:38<00:17,  5.97s/it]"
          ]
        },
        {
          "name": "stdout",
          "output_type": "stream",
          "text": [
            " epoch# 37\ttrain_loss: 8.95e-03\ttrain_acc: 75.89\tval_loss: 5.55e-03\tval_acc: 87.98\n",
            "\n"
          ]
        },
        {
          "name": "stderr",
          "output_type": "stream",
          "text": [
            " 95%|█████████▌| 38/40 [03:44<00:11,  5.93s/it]"
          ]
        },
        {
          "name": "stdout",
          "output_type": "stream",
          "text": [
            " epoch# 38\ttrain_loss: 8.95e-03\ttrain_acc: 76.13\tval_loss: 5.45e-03\tval_acc: 87.14\n",
            "\n"
          ]
        },
        {
          "name": "stderr",
          "output_type": "stream",
          "text": [
            " 98%|█████████▊| 39/40 [03:50<00:05,  5.91s/it]"
          ]
        },
        {
          "name": "stdout",
          "output_type": "stream",
          "text": [
            " epoch# 39\ttrain_loss: 8.93e-03\ttrain_acc: 76.40\tval_loss: 5.55e-03\tval_acc: 88.35\n",
            "\n"
          ]
        },
        {
          "name": "stderr",
          "output_type": "stream",
          "text": [
            "100%|██████████| 40/40 [03:56<00:00,  5.91s/it]"
          ]
        },
        {
          "name": "stdout",
          "output_type": "stream",
          "text": [
            " epoch# 40\ttrain_loss: 8.75e-03\ttrain_acc: 76.63\tval_loss: 5.50e-03\tval_acc: 86.51\n",
            "\n"
          ]
        },
        {
          "name": "stderr",
          "output_type": "stream",
          "text": [
            "\n"
          ]
        }
      ],
      "source": [
        "train_losses, val_losses = [], []\n",
        "train_accs, val_accs = [], []\n",
        "\n",
        "for epoch in tqdm(range(num_epochs)):\n",
        "    train_loss, train_acc = train_loop(vqa_model, optimizer, criterion, trainloader)\n",
        "    val_loss, val_acc = validate_loop(vqa_model, criterion, testloader)\n",
        "\n",
        "    tqdm.write(\n",
        "        f' epoch#{epoch + 1:3d}\\ttrain_loss: {train_loss:.2e}\\ttrain_acc: {train_acc:.2f}\\tval_loss: {val_loss:.2e}\\tval_acc: {val_acc:.2f}\\n',\n",
        "    )\n",
        "\n",
        "    train_losses.append(train_loss)\n",
        "    train_accs.append(train_acc)\n",
        "    val_losses.append(val_loss)\n",
        "    val_accs.append(val_acc)"
      ]
    },
    {
      "cell_type": "markdown",
      "metadata": {
        "id": "Kt9ToHtP8R0o"
      },
      "source": [
        "### Show Training Performance\n",
        "Lets take a look at the loss and accuarcy curves of our training"
      ]
    },
    {
      "cell_type": "code",
      "execution_count": null,
      "metadata": {
        "colab": {
          "background_save": true
        },
        "id": "ed_ljXpImXjC",
        "outputId": "da30ae05-1e23-4d16-d795-dcbbce02c9e9"
      },
      "outputs": [
        {
          "data": {
            "image/png": "[encoded data removed]",
            "text/plain": [
              "<Figure size 432x288 with 2 Axes>"
            ]
          },
          "metadata": {
            "needs_background": "light"
          },
          "output_type": "display_data"
        }
      ],
      "source": [
        "def plot_loss_curve(train_loss, val_loss, train_acc, val_acc):\n",
        "    fig, ax1 = plt.subplots()\n",
        "    ax1.plot(train_loss, label=\"train\")\n",
        "    ax1.plot(val_loss, label=\"val\")\n",
        "    ax1.legend(loc=\"upper center\")\n",
        "    ax1.set_xlabel(\"Iterations\")\n",
        "    ax1.set_ylabel(\"Loss\")\n",
        "    ax2 = ax1.twinx()\n",
        "    ax2.plot(train_acc, color=\"blue\", linestyle=\"dashed\")\n",
        "    ax2.plot(val_acc, color=\"orange\", linestyle=\"dashed\")\n",
        "    ax2.set_ylabel(\"Acc\")\n",
        "    plt.title(\"Loss and accuracy curves during training\")\n",
        "    plt.show()\n",
        "\n",
        "plot_loss_curve(train_losses, val_losses, train_accs, val_accs)"
      ]
    },
    {
      "cell_type": "markdown",
      "metadata": {
        "id": "Al2-g-2H8R0o"
      },
      "source": [
        "## Transformers\n",
        "After we used the RNN approach, lets use Transformers 🚀  "
      ]
    },
    {
      "cell_type": "code",
      "execution_count": null,
      "metadata": {
        "colab": {
          "background_save": true
        },
        "id": "O4LqDfF38R0o"
      },
      "outputs": [],
      "source": [
        "# Configs\n",
        "batch_size = 64\n",
        "learning_rate = 0.001\n",
        "num_epochs = 40"
      ]
    },
    {
      "cell_type": "markdown",
      "metadata": {
        "id": "3uxXK2g58R0p"
      },
      "source": [
        "Here, the positional encoding is added to the input embeddings"
      ]
    },
    {
      "cell_type": "code",
      "execution_count": null,
      "metadata": {
        "colab": {
          "background_save": true
        },
        "id": "4ruDeVHBgpDi"
      },
      "outputs": [],
      "source": [
        "class PositionalEncoding(nn.Module):\n",
        "\n",
        "    def __init__(self, d_model, dropout=0.1, max_len=5000):\n",
        "        super(PositionalEncoding, self).__init__()\n",
        "        self.dropout = nn.Dropout(p=dropout)\n",
        "\n",
        "        pe = torch.zeros(max_len, d_model)\n",
        "        position = torch.arange(0, max_len, dtype=torch.float).unsqueeze(1)\n",
        "        div_term = torch.exp(torch.arange(0, d_model, 2).float() * (-math.log(10000.0) / d_model))\n",
        "        pe[:, 0::2] = torch.sin(position * div_term)\n",
        "        if d_model%2 != 0:\n",
        "            pe[:, 1::2] = torch.cos(position * div_term)[:,0:-1]\n",
        "        else:\n",
        "            pe[:, 1::2] = torch.cos(position * div_term)\n",
        "        pe = pe.unsqueeze(0)\n",
        "        self.register_buffer('pe', pe)\n",
        "\n",
        "    def forward(self, x):\n",
        "        x = x + self.pe[:, :x.size(1)]\n",
        "        return self.dropout(x)"
      ]
    },
    {
      "cell_type": "markdown",
      "metadata": {
        "id": "IxqPZX_B8R0p"
      },
      "source": [
        "### Exercise 2.5: Self-Attention\n",
        "We provide the implementation of running multi-head-attention but the actual attention calculation is missing. Please implement the scaled_dot_product_attention(self, Q, K, V)!"
      ]
    },
    {
      "cell_type": "code",
      "execution_count": null,
      "metadata": {
        "colab": {
          "background_save": true
        },
        "id": "K1Vh7VnO8R0p"
      },
      "outputs": [],
      "source": [
        "class MultiHeadAttention(nn.Module):\n",
        "    def __init__(self, d_model, num_heads):\n",
        "        super(MultiHeadAttention, self).__init__()\n",
        "        # Ensure that the model dimension (d_model) is divisible by the number of heads\n",
        "        assert d_model % num_heads == 0, \"d_model must be divisible by num_heads\"\n",
        "\n",
        "        # Initialize dimensions\n",
        "        self.d_model = d_model # Model's dimension\n",
        "        self.num_heads = num_heads # Number of attention heads\n",
        "        self.d_k = d_model // num_heads # Dimension of each head's key, query, and value\n",
        "\n",
        "        # Linear layers for transforming inputs\n",
        "        self.W_q = nn.Linear(d_model, d_model) # Query transformation\n",
        "        self.W_k = nn.Linear(d_model, d_model) # Key transformation\n",
        "        self.W_v = nn.Linear(d_model, d_model) # Value transformation\n",
        "        self.W_o = nn.Linear(d_model, d_model) # Output transformation\n",
        "\n",
        "    def scaled_dot_product_attention(self, Q, K, V):\n",
        "        # Your code here\n",
        "\n",
        "        # Calculate attention scores\n",
        "        attn_scores = torch.matmul(Q, K.transpose(-2, -1)) / math.sqrt(self.d_k)\n",
        "\n",
        "        # Softmax is applied to obtain attention probabilities\n",
        "        attn_probs = torch.softmax(attn_scores, dim=-1)\n",
        "\n",
        "        # Multiply by values to obtain the final output\n",
        "        output = torch.matmul(attn_probs, V)\n",
        "        return output\n",
        "\n",
        "    def split_heads(self, x):\n",
        "        # Reshape the input to have num_heads for multi-head attention\n",
        "        batch_size, seq_length, d_model = x.size()\n",
        "        return x.view(batch_size, seq_length, self.num_heads, self.d_k).transpose(1, 2)\n",
        "\n",
        "    def combine_heads(self, x):\n",
        "        # Combine the multiple heads back to original shape\n",
        "        batch_size, _, seq_length, d_k = x.size()\n",
        "        return x.transpose(1, 2).contiguous().view(batch_size, seq_length, self.d_model)\n",
        "\n",
        "    def forward(self, Q, K, V):\n",
        "        # Apply linear transformations and split heads\n",
        "        Q = self.split_heads(self.W_q(Q))\n",
        "        K = self.split_heads(self.W_k(K))\n",
        "        V = self.split_heads(self.W_v(V))\n",
        "\n",
        "        # Perform scaled dot-product attention\n",
        "        attn_output = self.scaled_dot_product_attention(Q, K, V)\n",
        "\n",
        "        # Combine heads and apply output transformation\n",
        "        output = self.W_o(self.combine_heads(attn_output))\n",
        "        return output"
      ]
    },
    {
      "cell_type": "code",
      "execution_count": null,
      "metadata": {
        "colab": {
          "background_save": true
        },
        "id": "qrpSBIZu8R0p"
      },
      "outputs": [],
      "source": [
        "class PositionWiseFeedForward(nn.Module):\n",
        "    def __init__(self, d_model, d_ff):\n",
        "        super(PositionWiseFeedForward, self).__init__()\n",
        "        self.fc1 = nn.Linear(d_model, d_ff)\n",
        "        self.fc2 = nn.Linear(d_ff, d_model)\n",
        "        self.relu = nn.ReLU()\n",
        "\n",
        "    def forward(self, x):\n",
        "        return self.fc2(self.relu(self.fc1(x)))"
      ]
    },
    {
      "cell_type": "markdown",
      "metadata": {
        "id": "PEFkf0d58R0p"
      },
      "source": [
        "### Exercise 2.6: Assemble the Transformer Encoder\n",
        "Now we need to put everything together. Implement the forward pass as given in the lecture. Additionally, apply dropout to the attention output and feed forward output."
      ]
    },
    {
      "cell_type": "code",
      "execution_count": null,
      "metadata": {
        "colab": {
          "background_save": true
        },
        "id": "j2oUU_2F8R0p"
      },
      "outputs": [],
      "source": [
        "class EncoderLayer(nn.Module):\n",
        "    def __init__(self, d_model, num_heads, d_ff, dropout):\n",
        "        super(EncoderLayer, self).__init__()\n",
        "        self.self_attn = MultiHeadAttention(d_model, num_heads)\n",
        "        self.feed_forward = PositionWiseFeedForward(d_model, d_ff)\n",
        "        self.norm1 = nn.LayerNorm(d_model)\n",
        "        self.norm2 = nn.LayerNorm(d_model)\n",
        "        self.dropout = nn.Dropout(dropout)\n",
        "\n",
        "    def forward(self, x):\n",
        "        # Your code here\n",
        "        attn_output = self.self_attn(x, x, x)\n",
        "        x = self.norm1(x + self.dropout(attn_output))\n",
        "        ff_output = self.feed_forward(x)\n",
        "        x = self.norm2(x + self.dropout(ff_output))\n",
        "        return x"
      ]
    },
    {
      "cell_type": "markdown",
      "metadata": {
        "id": "Xfqv-5Fz8R0p"
      },
      "source": [
        "### The Transformer VQA Model\n",
        "We use the same model as before but replace the LSTM with a Transformer layer.  \n",
        "<font color='red'>Remember</font> that combining both modalities is missing, just take the same part of code you implemented for the LSTM based VQA model."
      ]
    },
    {
      "cell_type": "code",
      "execution_count": null,
      "metadata": {
        "colab": {
          "background_save": true
        },
        "id": "mQX1cbmLBX1t",
        "outputId": "dec313ed-cfab-49ec-d855-ca16fa2ede18"
      },
      "outputs": [
        {
          "data": {
            "text/plain": [
              "===============================================================================================\n",
              "Layer (type:depth-idx)                        Output Shape              Param #\n",
              "===============================================================================================\n",
              "TransformerVQA                                [64, 13]                  --\n",
              "├─ImgEncoder: 1-1                             [64, 32]                  --\n",
              "│    └─Conv2d: 2-1                            [64, 8, 62, 62]           224\n",
              "│    └─ReLU: 2-2                              [64, 8, 62, 62]           --\n",
              "│    └─MaxPool2d: 2-3                         [64, 8, 31, 31]           --\n",
              "│    └─Conv2d: 2-4                            [64, 16, 29, 29]          1,168\n",
              "│    └─ReLU: 2-5                              [64, 16, 29, 29]          --\n",
              "│    └─MaxPool2d: 2-6                         [64, 16, 14, 14]          --\n",
              "│    └─Conv2d: 2-7                            [64, 32, 12, 12]          4,640\n",
              "│    └─ReLU: 2-8                              [64, 32, 12, 12]          --\n",
              "│    └─MaxPool2d: 2-9                         [64, 32, 6, 6]            --\n",
              "│    └─Linear: 2-10                           [64, 32]                  36,896\n",
              "│    └─ReLU: 2-11                             [64, 32]                  --\n",
              "├─TextEncoder: 1-2                            [64, 32]                  --\n",
              "│    └─PositionalEncoding: 2-12               [64, 7, 300]              --\n",
              "│    │    └─Dropout: 3-1                      [64, 7, 300]              --\n",
              "│    └─EncoderLayer: 2-13                     [64, 7, 300]              --\n",
              "│    │    └─MultiHeadAttention: 3-2           [64, 7, 300]              361,200\n",
              "│    │    └─Dropout: 3-3                      [64, 7, 300]              --\n",
              "│    │    └─LayerNorm: 3-4                    [64, 7, 300]              600\n",
              "│    │    └─PositionWiseFeedForward: 3-5      [64, 7, 300]              38,764\n",
              "│    │    └─Dropout: 3-6                      [64, 7, 300]              --\n",
              "│    │    └─LayerNorm: 3-7                    [64, 7, 300]              600\n",
              "│    └─ReLU: 2-14                             [64, 7, 300]              --\n",
              "│    └─Linear: 2-15                           [64, 32]                  9,632\n",
              "├─ReLU: 1-3                                   [64, 32]                  --\n",
              "├─Dropout: 1-4                                [64, 32]                  --\n",
              "├─Linear: 1-5                                 [64, 13]                  429\n",
              "===============================================================================================\n",
              "Total params: 454,153\n",
              "Trainable params: 454,153\n",
              "Non-trainable params: 0\n",
              "Total mult-adds (M): 189.42\n",
              "===============================================================================================\n",
              "Input size (MB): 3.68\n",
              "Forward/backward pass size (MB): 32.79\n",
              "Params size (MB): 1.82\n",
              "Estimated Total Size (MB): 38.29\n",
              "==============================================================================================="
            ]
          },
          "execution_count": 31,
          "metadata": {},
          "output_type": "execute_result"
        }
      ],
      "source": [
        "class ImgEncoder(nn.Module):\n",
        "    def __init__(self, emb_size=32):\n",
        "        super(ImgEncoder, self).__init__()\n",
        "\n",
        "        self.conv1 = nn.Conv2d(3, 8, kernel_size=3)   # output shape (batch_size, 8, 62, 62)\n",
        "        self.pool1 = nn.MaxPool2d(kernel_size=2)      # output shape (batch_size, 8, 31, 31)\n",
        "        self.conv2 = nn.Conv2d(8, 16, kernel_size=3)  # output shape (batch_size, 16, 29, 29)\n",
        "        self.pool2 = nn.MaxPool2d(kernel_size=2)      # output shape (batch_size, 16, 14, 14)\n",
        "        self.conv3 = nn.Conv2d(16, 32, kernel_size=3) # output shape (batch_size, 32, 12, 12)\n",
        "        self.pool3 = nn.MaxPool2d(kernel_size=2)      # output shape (batch_size, 32, 6, 6)\n",
        "        self.relu = nn.ReLU()\n",
        "        self.fc1 = nn.Linear(32*6*6, emb_size)        # output shape (batch_size, 32)\n",
        "\n",
        "    def forward(self, img):\n",
        "        x = self.pool1(self.relu(self.conv1(img)))\n",
        "        x = self.pool2(self.relu(self.conv2(x)))\n",
        "        x = self.pool3(self.relu(self.conv3(x)))\n",
        "        x = x.view(-1, 32*6*6)\n",
        "        x = self.relu(self.fc1(x))\n",
        "        return x\n",
        "\n",
        "\n",
        "class TextEncoder(nn.Module):\n",
        "    def __init__(self, word_embed_size=300, hidden_size=64, emb_size=32):\n",
        "        super(TextEncoder, self).__init__()\n",
        "        dropout = 0.5\n",
        "        self.word_emb_dim = word_embed_size\n",
        "        self.pos_encoder = PositionalEncoding(word_embed_size, dropout)\n",
        "        self.transformer_encoder = EncoderLayer(word_embed_size, num_heads=10, d_ff=hidden_size, dropout=dropout)\n",
        "        self.relu = nn.ReLU()\n",
        "        self.fc = nn.Linear(word_embed_size, emb_size)\n",
        "\n",
        "    def forward(self, txt_embs):\n",
        "        txt_embs = txt_embs * math.sqrt(self.word_emb_dim)\n",
        "        txt_embs = self.pos_encoder(txt_embs)\n",
        "        qst_feature = self.transformer_encoder(txt_embs)\n",
        "        qst_feature = self.relu(qst_feature)\n",
        "        qst_feature = qst_feature.max(dim=1)[0]\n",
        "        qst_feature = self.fc(qst_feature)\n",
        "        return qst_feature\n",
        "\n",
        "\n",
        "class TransformerVQA(nn.Module):\n",
        "    def __init__(self, num_answers, emb_size=32):\n",
        "        super(TransformerVQA, self).__init__()\n",
        "\n",
        "        self.img_encoder = ImgEncoder(emb_size=emb_size)\n",
        "        self.txt_encoder = TextEncoder(emb_size=emb_size)\n",
        "        self.relu = nn.ReLU()\n",
        "        self.dropout = nn.Dropout(0.5)\n",
        "        self.fc1 = nn.Linear(emb_size, num_answers)\n",
        "\n",
        "    def forward(self, img, q):\n",
        "        img_feature = self.img_encoder(img)                     # [batch_size, embed_size]\n",
        "        txt_feature = self.txt_encoder(q)                       # [batch_size, embed_size]\n",
        "        combined_feature = torch.mul(img_feature, txt_feature)  # [batch_size, embed_size]\n",
        "        combined_feature = self.relu(combined_feature)\n",
        "        combined_feature = self.dropout(combined_feature)\n",
        "        combined_feature = self.fc1(combined_feature)           # [batch_size, num_answers=13]\n",
        "        return combined_feature\n",
        "\n",
        "trans_vqa_model = TransformerVQA(num_answers)\n",
        "trans_vqa_model.to(device)\n",
        "summary(trans_vqa_model, [(batch_size, 3, 64, 64), (batch_size, 7, 300)])"
      ]
    },
    {
      "cell_type": "markdown",
      "metadata": {
        "id": "mSvlUS268R0q"
      },
      "source": [
        "### Train the Transformer\n",
        "Lets see how your transformer performs in comparison to the LSTM approach"
      ]
    },
    {
      "cell_type": "code",
      "execution_count": null,
      "metadata": {
        "colab": {
          "background_save": true
        },
        "id": "LT_BoHoC8R0q"
      },
      "outputs": [],
      "source": [
        "criterion = nn.CrossEntropyLoss()\n",
        "optimizer = torch.optim.Adam(trans_vqa_model.parameters(), lr=learning_rate)"
      ]
    },
    {
      "cell_type": "code",
      "execution_count": null,
      "metadata": {
        "colab": {
          "background_save": true
        },
        "id": "p0Temou18R0q",
        "outputId": "b29ca1c7-6e34-42b1-dca3-da6563dab017"
      },
      "outputs": [
        {
          "name": "stderr",
          "output_type": "stream",
          "text": [
            "  2%|▎         | 1/40 [00:06<04:06,  6.32s/it]"
          ]
        },
        {
          "name": "stdout",
          "output_type": "stream",
          "text": [
            " epoch#  1\ttrain_loss: 1.73e-02\ttrain_acc: 55.77\tval_loss: 1.30e-02\tval_acc: 65.19\n",
            "\n"
          ]
        },
        {
          "name": "stderr",
          "output_type": "stream",
          "text": [
            "  5%|▌         | 2/40 [00:12<04:00,  6.34s/it]"
          ]
        },
        {
          "name": "stdout",
          "output_type": "stream",
          "text": [
            " epoch#  2\ttrain_loss: 1.56e-02\ttrain_acc: 60.36\tval_loss: 1.36e-02\tval_acc: 65.54\n",
            "\n"
          ]
        },
        {
          "name": "stderr",
          "output_type": "stream",
          "text": [
            "  8%|▊         | 3/40 [00:19<03:57,  6.42s/it]"
          ]
        },
        {
          "name": "stdout",
          "output_type": "stream",
          "text": [
            " epoch#  3\ttrain_loss: 1.54e-02\ttrain_acc: 61.56\tval_loss: 1.31e-02\tval_acc: 65.20\n",
            "\n"
          ]
        },
        {
          "name": "stderr",
          "output_type": "stream",
          "text": [
            " 10%|█         | 4/40 [00:25<03:50,  6.40s/it]"
          ]
        },
        {
          "name": "stdout",
          "output_type": "stream",
          "text": [
            " epoch#  4\ttrain_loss: 1.54e-02\ttrain_acc: 62.03\tval_loss: 1.31e-02\tval_acc: 65.19\n",
            "\n"
          ]
        },
        {
          "name": "stderr",
          "output_type": "stream",
          "text": [
            " 12%|█▎        | 5/40 [00:31<03:44,  6.40s/it]"
          ]
        },
        {
          "name": "stdout",
          "output_type": "stream",
          "text": [
            " epoch#  5\ttrain_loss: 1.52e-02\ttrain_acc: 62.15\tval_loss: 1.30e-02\tval_acc: 65.19\n",
            "\n"
          ]
        },
        {
          "name": "stderr",
          "output_type": "stream",
          "text": [
            " 15%|█▌        | 6/40 [00:38<03:36,  6.38s/it]"
          ]
        },
        {
          "name": "stdout",
          "output_type": "stream",
          "text": [
            " epoch#  6\ttrain_loss: 1.51e-02\ttrain_acc: 62.20\tval_loss: 1.25e-02\tval_acc: 66.54\n",
            "\n"
          ]
        },
        {
          "name": "stderr",
          "output_type": "stream",
          "text": [
            " 18%|█▊        | 7/40 [00:44<03:31,  6.41s/it]"
          ]
        },
        {
          "name": "stdout",
          "output_type": "stream",
          "text": [
            " epoch#  7\ttrain_loss: 1.43e-02\ttrain_acc: 63.29\tval_loss: 1.19e-02\tval_acc: 69.46\n",
            "\n"
          ]
        },
        {
          "name": "stderr",
          "output_type": "stream",
          "text": [
            " 20%|██        | 8/40 [00:51<03:23,  6.37s/it]"
          ]
        },
        {
          "name": "stdout",
          "output_type": "stream",
          "text": [
            " epoch#  8\ttrain_loss: 1.41e-02\ttrain_acc: 63.35\tval_loss: 1.17e-02\tval_acc: 69.50\n",
            "\n"
          ]
        },
        {
          "name": "stderr",
          "output_type": "stream",
          "text": [
            " 22%|██▎       | 9/40 [00:57<03:17,  6.38s/it]"
          ]
        },
        {
          "name": "stdout",
          "output_type": "stream",
          "text": [
            " epoch#  9\ttrain_loss: 1.40e-02\ttrain_acc: 64.27\tval_loss: 1.12e-02\tval_acc: 69.96\n",
            "\n"
          ]
        },
        {
          "name": "stderr",
          "output_type": "stream",
          "text": [
            " 25%|██▌       | 10/40 [01:03<03:11,  6.39s/it]"
          ]
        },
        {
          "name": "stdout",
          "output_type": "stream",
          "text": [
            " epoch# 10\ttrain_loss: 1.36e-02\ttrain_acc: 65.21\tval_loss: 1.13e-02\tval_acc: 71.82\n",
            "\n"
          ]
        },
        {
          "name": "stderr",
          "output_type": "stream",
          "text": [
            " 28%|██▊       | 11/40 [01:10<03:05,  6.38s/it]"
          ]
        },
        {
          "name": "stdout",
          "output_type": "stream",
          "text": [
            " epoch# 11\ttrain_loss: 1.32e-02\ttrain_acc: 65.56\tval_loss: 1.10e-02\tval_acc: 71.74\n",
            "\n"
          ]
        },
        {
          "name": "stderr",
          "output_type": "stream",
          "text": [
            " 30%|███       | 12/40 [01:16<02:59,  6.40s/it]"
          ]
        },
        {
          "name": "stdout",
          "output_type": "stream",
          "text": [
            " epoch# 12\ttrain_loss: 1.30e-02\ttrain_acc: 65.79\tval_loss: 1.10e-02\tval_acc: 72.27\n",
            "\n"
          ]
        },
        {
          "name": "stderr",
          "output_type": "stream",
          "text": [
            " 32%|███▎      | 13/40 [01:23<02:54,  6.46s/it]"
          ]
        },
        {
          "name": "stdout",
          "output_type": "stream",
          "text": [
            " epoch# 13\ttrain_loss: 1.29e-02\ttrain_acc: 65.90\tval_loss: 1.09e-02\tval_acc: 72.06\n",
            "\n"
          ]
        },
        {
          "name": "stderr",
          "output_type": "stream",
          "text": [
            " 35%|███▌      | 14/40 [01:29<02:47,  6.46s/it]"
          ]
        },
        {
          "name": "stdout",
          "output_type": "stream",
          "text": [
            " epoch# 14\ttrain_loss: 1.28e-02\ttrain_acc: 66.05\tval_loss: 1.03e-02\tval_acc: 71.70\n",
            "\n"
          ]
        },
        {
          "name": "stderr",
          "output_type": "stream",
          "text": [
            " 38%|███▊      | 15/40 [01:36<02:41,  6.45s/it]"
          ]
        },
        {
          "name": "stdout",
          "output_type": "stream",
          "text": [
            " epoch# 15\ttrain_loss: 1.27e-02\ttrain_acc: 65.95\tval_loss: 1.07e-02\tval_acc: 71.78\n",
            "\n"
          ]
        },
        {
          "name": "stderr",
          "output_type": "stream",
          "text": [
            " 40%|████      | 16/40 [01:42<02:33,  6.40s/it]"
          ]
        },
        {
          "name": "stdout",
          "output_type": "stream",
          "text": [
            " epoch# 16\ttrain_loss: 1.25e-02\ttrain_acc: 66.40\tval_loss: 1.05e-02\tval_acc: 70.52\n",
            "\n"
          ]
        },
        {
          "name": "stderr",
          "output_type": "stream",
          "text": [
            " 42%|████▎     | 17/40 [01:48<02:27,  6.39s/it]"
          ]
        },
        {
          "name": "stdout",
          "output_type": "stream",
          "text": [
            " epoch# 17\ttrain_loss: 1.23e-02\ttrain_acc: 66.73\tval_loss: 1.01e-02\tval_acc: 72.05\n",
            "\n"
          ]
        },
        {
          "name": "stderr",
          "output_type": "stream",
          "text": [
            " 45%|████▌     | 18/40 [01:55<02:21,  6.41s/it]"
          ]
        },
        {
          "name": "stdout",
          "output_type": "stream",
          "text": [
            " epoch# 18\ttrain_loss: 1.23e-02\ttrain_acc: 66.58\tval_loss: 1.03e-02\tval_acc: 71.79\n",
            "\n"
          ]
        },
        {
          "name": "stderr",
          "output_type": "stream",
          "text": [
            " 48%|████▊     | 19/40 [02:01<02:14,  6.40s/it]"
          ]
        },
        {
          "name": "stdout",
          "output_type": "stream",
          "text": [
            " epoch# 19\ttrain_loss: 1.23e-02\ttrain_acc: 66.64\tval_loss: 1.02e-02\tval_acc: 71.95\n",
            "\n"
          ]
        },
        {
          "name": "stderr",
          "output_type": "stream",
          "text": [
            " 50%|█████     | 20/40 [02:08<02:08,  6.42s/it]"
          ]
        },
        {
          "name": "stdout",
          "output_type": "stream",
          "text": [
            " epoch# 20\ttrain_loss: 1.23e-02\ttrain_acc: 66.76\tval_loss: 9.98e-03\tval_acc: 72.13\n",
            "\n"
          ]
        },
        {
          "name": "stderr",
          "output_type": "stream",
          "text": [
            " 52%|█████▎    | 21/40 [02:14<02:01,  6.42s/it]"
          ]
        },
        {
          "name": "stdout",
          "output_type": "stream",
          "text": [
            " epoch# 21\ttrain_loss: 1.21e-02\ttrain_acc: 67.27\tval_loss: 9.91e-03\tval_acc: 72.84\n",
            "\n"
          ]
        },
        {
          "name": "stderr",
          "output_type": "stream",
          "text": [
            " 55%|█████▌    | 22/40 [02:20<01:55,  6.41s/it]"
          ]
        },
        {
          "name": "stdout",
          "output_type": "stream",
          "text": [
            " epoch# 22\ttrain_loss: 1.19e-02\ttrain_acc: 67.50\tval_loss: 1.01e-02\tval_acc: 72.77\n",
            "\n"
          ]
        },
        {
          "name": "stderr",
          "output_type": "stream",
          "text": [
            " 57%|█████▊    | 23/40 [02:27<01:48,  6.39s/it]"
          ]
        },
        {
          "name": "stdout",
          "output_type": "stream",
          "text": [
            " epoch# 23\ttrain_loss: 1.21e-02\ttrain_acc: 67.49\tval_loss: 1.04e-02\tval_acc: 69.96\n",
            "\n"
          ]
        },
        {
          "name": "stderr",
          "output_type": "stream",
          "text": [
            " 60%|██████    | 24/40 [02:33<01:41,  6.36s/it]"
          ]
        },
        {
          "name": "stdout",
          "output_type": "stream",
          "text": [
            " epoch# 24\ttrain_loss: 1.20e-02\ttrain_acc: 67.59\tval_loss: 1.03e-02\tval_acc: 72.14\n",
            "\n"
          ]
        },
        {
          "name": "stderr",
          "output_type": "stream",
          "text": [
            " 62%|██████▎   | 25/40 [02:39<01:35,  6.36s/it]"
          ]
        },
        {
          "name": "stdout",
          "output_type": "stream",
          "text": [
            " epoch# 25\ttrain_loss: 1.20e-02\ttrain_acc: 67.81\tval_loss: 1.01e-02\tval_acc: 72.25\n",
            "\n"
          ]
        },
        {
          "name": "stderr",
          "output_type": "stream",
          "text": [
            " 65%|██████▌   | 26/40 [02:46<01:29,  6.39s/it]"
          ]
        },
        {
          "name": "stdout",
          "output_type": "stream",
          "text": [
            " epoch# 26\ttrain_loss: 1.16e-02\ttrain_acc: 68.59\tval_loss: 1.01e-02\tval_acc: 72.29\n",
            "\n"
          ]
        },
        {
          "name": "stderr",
          "output_type": "stream",
          "text": [
            " 68%|██████▊   | 27/40 [02:52<01:23,  6.39s/it]"
          ]
        },
        {
          "name": "stdout",
          "output_type": "stream",
          "text": [
            " epoch# 27\ttrain_loss: 1.15e-02\ttrain_acc: 68.76\tval_loss: 9.65e-03\tval_acc: 76.29\n",
            "\n"
          ]
        },
        {
          "name": "stderr",
          "output_type": "stream",
          "text": [
            " 70%|███████   | 28/40 [02:59<01:16,  6.40s/it]"
          ]
        },
        {
          "name": "stdout",
          "output_type": "stream",
          "text": [
            " epoch# 28\ttrain_loss: 1.14e-02\ttrain_acc: 69.74\tval_loss: 9.79e-03\tval_acc: 75.06\n",
            "\n"
          ]
        },
        {
          "name": "stderr",
          "output_type": "stream",
          "text": [
            " 72%|███████▎  | 29/40 [03:05<01:10,  6.39s/it]"
          ]
        },
        {
          "name": "stdout",
          "output_type": "stream",
          "text": [
            " epoch# 29\ttrain_loss: 1.13e-02\ttrain_acc: 70.57\tval_loss: 9.05e-03\tval_acc: 80.59\n",
            "\n"
          ]
        },
        {
          "name": "stderr",
          "output_type": "stream",
          "text": [
            " 75%|███████▌  | 30/40 [03:11<01:03,  6.39s/it]"
          ]
        },
        {
          "name": "stdout",
          "output_type": "stream",
          "text": [
            " epoch# 30\ttrain_loss: 1.13e-02\ttrain_acc: 70.72\tval_loss: 9.53e-03\tval_acc: 77.34\n",
            "\n"
          ]
        },
        {
          "name": "stderr",
          "output_type": "stream",
          "text": [
            " 78%|███████▊  | 31/40 [03:18<00:57,  6.39s/it]"
          ]
        },
        {
          "name": "stdout",
          "output_type": "stream",
          "text": [
            " epoch# 31\ttrain_loss: 1.13e-02\ttrain_acc: 71.12\tval_loss: 8.78e-03\tval_acc: 81.58\n",
            "\n"
          ]
        },
        {
          "name": "stderr",
          "output_type": "stream",
          "text": [
            " 80%|████████  | 32/40 [03:24<00:51,  6.40s/it]"
          ]
        },
        {
          "name": "stdout",
          "output_type": "stream",
          "text": [
            " epoch# 32\ttrain_loss: 1.11e-02\ttrain_acc: 71.13\tval_loss: 8.87e-03\tval_acc: 81.63\n",
            "\n"
          ]
        },
        {
          "name": "stderr",
          "output_type": "stream",
          "text": [
            " 82%|████████▎ | 33/40 [03:31<00:44,  6.38s/it]"
          ]
        },
        {
          "name": "stdout",
          "output_type": "stream",
          "text": [
            " epoch# 33\ttrain_loss: 1.11e-02\ttrain_acc: 71.25\tval_loss: 8.89e-03\tval_acc: 81.56\n",
            "\n"
          ]
        },
        {
          "name": "stderr",
          "output_type": "stream",
          "text": [
            " 85%|████████▌ | 34/40 [03:37<00:38,  6.38s/it]"
          ]
        },
        {
          "name": "stdout",
          "output_type": "stream",
          "text": [
            " epoch# 34\ttrain_loss: 1.10e-02\ttrain_acc: 71.83\tval_loss: 8.50e-03\tval_acc: 81.13\n",
            "\n"
          ]
        },
        {
          "name": "stderr",
          "output_type": "stream",
          "text": [
            " 88%|████████▊ | 35/40 [03:43<00:31,  6.38s/it]"
          ]
        },
        {
          "name": "stdout",
          "output_type": "stream",
          "text": [
            " epoch# 35\ttrain_loss: 1.08e-02\ttrain_acc: 71.95\tval_loss: 8.65e-03\tval_acc: 81.69\n",
            "\n"
          ]
        },
        {
          "name": "stderr",
          "output_type": "stream",
          "text": [
            " 90%|█████████ | 36/40 [03:50<00:25,  6.36s/it]"
          ]
        },
        {
          "name": "stdout",
          "output_type": "stream",
          "text": [
            " epoch# 36\ttrain_loss: 1.07e-02\ttrain_acc: 71.62\tval_loss: 8.21e-03\tval_acc: 83.04\n",
            "\n"
          ]
        },
        {
          "name": "stderr",
          "output_type": "stream",
          "text": [
            " 92%|█████████▎| 37/40 [03:56<00:19,  6.37s/it]"
          ]
        },
        {
          "name": "stdout",
          "output_type": "stream",
          "text": [
            " epoch# 37\ttrain_loss: 1.07e-02\ttrain_acc: 72.07\tval_loss: 8.39e-03\tval_acc: 83.60\n",
            "\n"
          ]
        },
        {
          "name": "stderr",
          "output_type": "stream",
          "text": [
            " 95%|█████████▌| 38/40 [04:02<00:12,  6.39s/it]"
          ]
        },
        {
          "name": "stdout",
          "output_type": "stream",
          "text": [
            " epoch# 38\ttrain_loss: 1.07e-02\ttrain_acc: 71.67\tval_loss: 8.11e-03\tval_acc: 83.50\n",
            "\n"
          ]
        },
        {
          "name": "stderr",
          "output_type": "stream",
          "text": [
            " 98%|█████████▊| 39/40 [04:09<00:06,  6.39s/it]"
          ]
        },
        {
          "name": "stdout",
          "output_type": "stream",
          "text": [
            " epoch# 39\ttrain_loss: 1.06e-02\ttrain_acc: 71.94\tval_loss: 8.16e-03\tval_acc: 82.62\n",
            "\n"
          ]
        },
        {
          "name": "stderr",
          "output_type": "stream",
          "text": [
            "100%|██████████| 40/40 [04:15<00:00,  6.39s/it]"
          ]
        },
        {
          "name": "stdout",
          "output_type": "stream",
          "text": [
            " epoch# 40\ttrain_loss: 1.05e-02\ttrain_acc: 71.97\tval_loss: 7.94e-03\tval_acc: 83.19\n",
            "\n"
          ]
        },
        {
          "name": "stderr",
          "output_type": "stream",
          "text": [
            "\n"
          ]
        }
      ],
      "source": [
        "train_losses, val_losses = [], []\n",
        "train_accs, val_accs = [], []\n",
        "\n",
        "for epoch in tqdm(range(num_epochs)):\n",
        "    train_loss, train_acc = train_loop(trans_vqa_model, optimizer, criterion, trainloader)\n",
        "    val_loss, val_acc = validate_loop(trans_vqa_model, criterion, testloader)\n",
        "\n",
        "    tqdm.write(\n",
        "        f' epoch#{epoch + 1:3d}\\ttrain_loss: {train_loss:.2e}\\ttrain_acc: {train_acc:.2f}\\tval_loss: {val_loss:.2e}\\tval_acc: {val_acc:.2f}\\n',\n",
        "    )\n",
        "\n",
        "    train_losses.append(train_loss)\n",
        "    train_accs.append(train_acc)\n",
        "    val_losses.append(val_loss)\n",
        "    val_accs.append(val_acc)"
      ]
    },
    {
      "cell_type": "code",
      "execution_count": null,
      "metadata": {
        "colab": {
          "background_save": true
        },
        "id": "LxFw_A8M8R0r",
        "outputId": "e8a7fb66-0b6c-440c-9e4d-1272eababf31"
      },
      "outputs": [
        {
          "data": {
            "image/png": "[encoded data removed]",
            "text/plain": [
              "<Figure size 432x288 with 2 Axes>"
            ]
          },
          "metadata": {
            "needs_background": "light"
          },
          "output_type": "display_data"
        }
      ],
      "source": [
        "plot_loss_curve(train_losses, val_losses, train_accs, val_accs)"
      ]
    },
    {
      "cell_type": "markdown",
      "metadata": {
        "id": "VF31vwqD8R0r"
      },
      "source": [
        "### Bonus Exercise\n",
        "After the model is working now, try to confuse it, e.g.\n",
        "- zero out all image pixels or\n",
        "- assign a random image to a question-answer pair\n",
        "\n",
        "What do you see? What does it say about the data?  \n",
        "\n",
        "Can you verify your assumptions?"
      ]
    },
    {
      "cell_type": "markdown",
      "metadata": {
        "id": "bgaLU1gaCpVK"
      },
      "source": [
        "# Confuse Model"
      ]
    },
    {
      "cell_type": "code",
      "execution_count": null,
      "metadata": {
        "colab": {
          "background_save": true
        },
        "id": "1lbuxoVsFA3J",
        "outputId": "8adacbfa-b9cf-4395-a1c5-c56c9660b2d2"
      },
      "outputs": [
        {
          "name": "stdout",
          "output_type": "stream",
          "text": [
            "random performance: 7.69%\n"
          ]
        }
      ],
      "source": [
        "print(f\"random performance: {round(1/13*100, 2)}%\")"
      ]
    },
    {
      "cell_type": "code",
      "execution_count": null,
      "metadata": {
        "colab": {
          "background_save": true
        },
        "id": "XKKViDHVCr2F"
      },
      "outputs": [],
      "source": [
        "class CustomVQADataset(Dataset):\n",
        "    def __init__(self, img_paths, qs_embs, ans_encodings, qs_img_ids, img_transform):\n",
        "        self.img_paths = img_paths\n",
        "        self.qs_embs = qs_embs\n",
        "        self.ans_encodings = ans_encodings\n",
        "        self.qs_img_ids = qs_img_ids\n",
        "        self.img_transform = img_transform\n",
        "\n",
        "    def __getitem__(self, idx):\n",
        "        img_path = self.img_paths[self.qs_img_ids[idx]]\n",
        "        img = Image.open(img_path)\n",
        "        # img = Image.fromarray(np.uint8(np.zeros((64, 64, 3))))\n",
        "        img = self.img_transform(img)\n",
        "        # qs = self.qs_embs[idx]\n",
        "        qs = torch.zeros((7,300))\n",
        "        ans = self.ans_encodings[idx]\n",
        "        return img, qs, ans\n",
        "\n",
        "    def __len__(self):\n",
        "        return len(self.qs_embs)"
      ]
    },
    {
      "cell_type": "code",
      "execution_count": null,
      "metadata": {
        "colab": {
          "background_save": true
        },
        "id": "NLgg_jgUDeCW",
        "outputId": "3513ea1d-4538-491c-ce8d-a83dd109f44b"
      },
      "outputs": [
        {
          "name": "stdout",
          "output_type": "stream",
          "text": [
            "Train dataset: 38575\n",
            "Test dataset: 9673\n"
          ]
        }
      ],
      "source": [
        "train_dataset = CustomVQADataset(train_img_paths, train_qs_idxs, train_Y, train_img_ids, train_transforms)\n",
        "test_dataset = CustomVQADataset(test_img_paths, test_qs_idxs, test_Y, test_img_ids, test_transforms)\n",
        "trainloader = DataLoader(train_dataset, shuffle=True, batch_size=batch_size, num_workers=4)\n",
        "testloader = DataLoader(test_dataset, shuffle=False, batch_size=batch_size)\n",
        "print(\"Train dataset:\", len(train_dataset))\n",
        "print(\"Test dataset:\", len(test_dataset))"
      ]
    },
    {
      "cell_type": "code",
      "execution_count": null,
      "metadata": {
        "colab": {
          "background_save": true
        },
        "id": "NgKQ-73iDlsW"
      },
      "outputs": [],
      "source": [
        "t_vqa_model = TransformerVQA(num_answers)\n",
        "t_vqa_model.to(device)\n",
        "criterion = nn.CrossEntropyLoss()\n",
        "optimizer = torch.optim.Adam(t_vqa_model.parameters(), lr=learning_rate)"
      ]
    },
    {
      "cell_type": "code",
      "execution_count": null,
      "metadata": {
        "colab": {
          "background_save": true
        },
        "id": "GZb3D2iKDwDy",
        "outputId": "bac471c0-fc34-4343-e443-11e0ecf9e78f"
      },
      "outputs": [
        {
          "name": "stderr",
          "output_type": "stream",
          "text": [
            "  5%|▌         | 1/20 [00:06<02:04,  6.54s/it]"
          ]
        },
        {
          "name": "stdout",
          "output_type": "stream",
          "text": [
            " epoch#  1\ttrain_loss: 2.24e-02\ttrain_acc: 36.72\tval_loss: 2.16e-02\tval_acc: 37.39\n",
            "\n"
          ]
        },
        {
          "name": "stderr",
          "output_type": "stream",
          "text": [
            " 10%|█         | 2/20 [00:13<01:57,  6.53s/it]"
          ]
        },
        {
          "name": "stdout",
          "output_type": "stream",
          "text": [
            " epoch#  2\ttrain_loss: 2.24e-02\ttrain_acc: 36.69\tval_loss: 2.16e-02\tval_acc: 37.32\n",
            "\n"
          ]
        },
        {
          "name": "stderr",
          "output_type": "stream",
          "text": [
            " 15%|█▌        | 3/20 [00:19<01:50,  6.51s/it]"
          ]
        },
        {
          "name": "stdout",
          "output_type": "stream",
          "text": [
            " epoch#  3\ttrain_loss: 2.24e-02\ttrain_acc: 36.58\tval_loss: 2.17e-02\tval_acc: 36.33\n",
            "\n"
          ]
        },
        {
          "name": "stderr",
          "output_type": "stream",
          "text": [
            " 20%|██        | 4/20 [00:25<01:43,  6.48s/it]"
          ]
        },
        {
          "name": "stdout",
          "output_type": "stream",
          "text": [
            " epoch#  4\ttrain_loss: 2.24e-02\ttrain_acc: 36.47\tval_loss: 2.16e-02\tval_acc: 36.98\n",
            "\n"
          ]
        },
        {
          "name": "stderr",
          "output_type": "stream",
          "text": [
            " 25%|██▌       | 5/20 [00:32<01:37,  6.47s/it]"
          ]
        },
        {
          "name": "stdout",
          "output_type": "stream",
          "text": [
            " epoch#  5\ttrain_loss: 2.24e-02\ttrain_acc: 36.91\tval_loss: 2.16e-02\tval_acc: 36.04\n",
            "\n"
          ]
        },
        {
          "name": "stderr",
          "output_type": "stream",
          "text": [
            " 30%|███       | 6/20 [00:38<01:30,  6.45s/it]"
          ]
        },
        {
          "name": "stdout",
          "output_type": "stream",
          "text": [
            " epoch#  6\ttrain_loss: 2.24e-02\ttrain_acc: 36.74\tval_loss: 2.16e-02\tval_acc: 36.18\n",
            "\n"
          ]
        },
        {
          "name": "stderr",
          "output_type": "stream",
          "text": [
            " 35%|███▌      | 7/20 [00:45<01:24,  6.47s/it]"
          ]
        },
        {
          "name": "stdout",
          "output_type": "stream",
          "text": [
            " epoch#  7\ttrain_loss: 2.24e-02\ttrain_acc: 36.65\tval_loss: 2.17e-02\tval_acc: 37.08\n",
            "\n"
          ]
        },
        {
          "name": "stderr",
          "output_type": "stream",
          "text": [
            " 40%|████      | 8/20 [00:51<01:17,  6.47s/it]"
          ]
        },
        {
          "name": "stdout",
          "output_type": "stream",
          "text": [
            " epoch#  8\ttrain_loss: 2.24e-02\ttrain_acc: 36.71\tval_loss: 2.16e-02\tval_acc: 37.36\n",
            "\n"
          ]
        },
        {
          "name": "stderr",
          "output_type": "stream",
          "text": [
            " 45%|████▌     | 9/20 [00:58<01:11,  6.49s/it]"
          ]
        },
        {
          "name": "stdout",
          "output_type": "stream",
          "text": [
            " epoch#  9\ttrain_loss: 2.24e-02\ttrain_acc: 36.65\tval_loss: 2.15e-02\tval_acc: 36.96\n",
            "\n"
          ]
        },
        {
          "name": "stderr",
          "output_type": "stream",
          "text": [
            " 50%|█████     | 10/20 [01:04<01:05,  6.51s/it]"
          ]
        },
        {
          "name": "stdout",
          "output_type": "stream",
          "text": [
            " epoch# 10\ttrain_loss: 2.24e-02\ttrain_acc: 37.26\tval_loss: 2.18e-02\tval_acc: 36.32\n",
            "\n"
          ]
        },
        {
          "name": "stderr",
          "output_type": "stream",
          "text": [
            " 55%|█████▌    | 11/20 [01:11<00:58,  6.49s/it]"
          ]
        },
        {
          "name": "stdout",
          "output_type": "stream",
          "text": [
            " epoch# 11\ttrain_loss: 2.24e-02\ttrain_acc: 36.95\tval_loss: 2.18e-02\tval_acc: 36.49\n",
            "\n"
          ]
        },
        {
          "name": "stderr",
          "output_type": "stream",
          "text": [
            " 60%|██████    | 12/20 [01:17<00:52,  6.51s/it]"
          ]
        },
        {
          "name": "stdout",
          "output_type": "stream",
          "text": [
            " epoch# 12\ttrain_loss: 2.23e-02\ttrain_acc: 36.74\tval_loss: 2.17e-02\tval_acc: 37.28\n",
            "\n"
          ]
        },
        {
          "name": "stderr",
          "output_type": "stream",
          "text": [
            " 65%|██████▌   | 13/20 [01:24<00:45,  6.49s/it]"
          ]
        },
        {
          "name": "stdout",
          "output_type": "stream",
          "text": [
            " epoch# 13\ttrain_loss: 2.24e-02\ttrain_acc: 36.91\tval_loss: 2.19e-02\tval_acc: 37.24\n",
            "\n"
          ]
        },
        {
          "name": "stderr",
          "output_type": "stream",
          "text": [
            " 70%|███████   | 14/20 [01:30<00:38,  6.49s/it]"
          ]
        },
        {
          "name": "stdout",
          "output_type": "stream",
          "text": [
            " epoch# 14\ttrain_loss: 2.23e-02\ttrain_acc: 36.63\tval_loss: 2.16e-02\tval_acc: 35.85\n",
            "\n"
          ]
        },
        {
          "name": "stderr",
          "output_type": "stream",
          "text": [
            " 75%|███████▌  | 15/20 [01:37<00:32,  6.46s/it]"
          ]
        },
        {
          "name": "stdout",
          "output_type": "stream",
          "text": [
            " epoch# 15\ttrain_loss: 2.23e-02\ttrain_acc: 36.55\tval_loss: 2.17e-02\tval_acc: 36.43\n",
            "\n"
          ]
        },
        {
          "name": "stderr",
          "output_type": "stream",
          "text": [
            " 80%|████████  | 16/20 [01:43<00:25,  6.46s/it]"
          ]
        },
        {
          "name": "stdout",
          "output_type": "stream",
          "text": [
            " epoch# 16\ttrain_loss: 2.23e-02\ttrain_acc: 36.46\tval_loss: 2.17e-02\tval_acc: 35.86\n",
            "\n"
          ]
        },
        {
          "name": "stderr",
          "output_type": "stream",
          "text": [
            " 85%|████████▌ | 17/20 [01:50<00:19,  6.45s/it]"
          ]
        },
        {
          "name": "stdout",
          "output_type": "stream",
          "text": [
            " epoch# 17\ttrain_loss: 2.22e-02\ttrain_acc: 36.74\tval_loss: 2.17e-02\tval_acc: 36.11\n",
            "\n"
          ]
        },
        {
          "name": "stderr",
          "output_type": "stream",
          "text": [
            " 90%|█████████ | 18/20 [01:56<00:12,  6.45s/it]"
          ]
        },
        {
          "name": "stdout",
          "output_type": "stream",
          "text": [
            " epoch# 18\ttrain_loss: 2.23e-02\ttrain_acc: 36.71\tval_loss: 2.15e-02\tval_acc: 36.58\n",
            "\n"
          ]
        },
        {
          "name": "stderr",
          "output_type": "stream",
          "text": [
            " 95%|█████████▌| 19/20 [02:03<00:06,  6.46s/it]"
          ]
        },
        {
          "name": "stdout",
          "output_type": "stream",
          "text": [
            " epoch# 19\ttrain_loss: 2.22e-02\ttrain_acc: 36.51\tval_loss: 2.18e-02\tval_acc: 37.10\n",
            "\n"
          ]
        },
        {
          "name": "stderr",
          "output_type": "stream",
          "text": [
            "100%|██████████| 20/20 [02:09<00:00,  6.47s/it]"
          ]
        },
        {
          "name": "stdout",
          "output_type": "stream",
          "text": [
            " epoch# 20\ttrain_loss: 2.22e-02\ttrain_acc: 36.70\tval_loss: 2.17e-02\tval_acc: 37.12\n",
            "\n"
          ]
        },
        {
          "name": "stderr",
          "output_type": "stream",
          "text": [
            "\n"
          ]
        }
      ],
      "source": [
        "train_losses, val_losses = [], []\n",
        "train_accs, val_accs = [], []\n",
        "\n",
        "for epoch in tqdm(range(20)):\n",
        "    train_loss, train_acc = train_loop(t_vqa_model, optimizer, criterion, trainloader)\n",
        "    val_loss, val_acc = validate_loop(t_vqa_model, criterion, testloader)\n",
        "\n",
        "    tqdm.write(\n",
        "        f' epoch#{epoch + 1:3d}\\ttrain_loss: {train_loss:.2e}\\ttrain_acc: {train_acc:.2f}\\tval_loss: {val_loss:.2e}\\tval_acc: {val_acc:.2f}\\n',\n",
        "    )\n",
        "\n",
        "    train_losses.append(train_loss)\n",
        "    train_accs.append(train_acc)\n",
        "    val_losses.append(val_loss)\n",
        "    val_accs.append(val_acc)"
      ]
    },
    {
      "cell_type": "code",
      "execution_count": null,
      "metadata": {
        "id": "WskqnmEK-Ph6",
        "outputId": "e1f363a9-6d25-4dbb-a952-682002b609bd"
      },
      "outputs": [
        {
          "name": "stderr",
          "output_type": "stream",
          "text": [
            "100%|██████████| 152/152 [00:02<00:00, 56.89it/s]\n"
          ]
        }
      ],
      "source": [
        "def predict(model, valid_loader):\n",
        "    model.eval()\n",
        "    total_loss, total = 0, 1e-6\n",
        "    num_correct = 0\n",
        "    ans = []\n",
        "\n",
        "    with torch.no_grad():\n",
        "        for img, qs, _ in tqdm(valid_loader):\n",
        "            img, qs =  img.to(device), qs.to(device)\n",
        "            output = model(img, qs)\n",
        "            idxs = torch.argmax(output, dim=1)\n",
        "            idxs = idxs.detach().cpu().numpy()\n",
        "            preds = [all_answers[i] for i in idxs]\n",
        "            ans += preds\n",
        "    return ans\n",
        "\n",
        "pred_answers = predict(vqa_model, testloader)"
      ]
    },
    {
      "cell_type": "code",
      "execution_count": null,
      "metadata": {
        "id": "VZiSqLz8-Ph6",
        "outputId": "935293c9-816a-4340-eb52-04ba28818b39"
      },
      "outputs": [
        {
          "data": {
            "image/png": "[encoded data removed]",
            "text/plain": [
              "<Figure size 432x288 with 1 Axes>"
            ]
          },
          "metadata": {
            "needs_background": "light"
          },
          "output_type": "display_data"
        },
        {
          "name": "stdout",
          "output_type": "stream",
          "text": [
            "[9673.]\n"
          ]
        }
      ],
      "source": [
        "plt.close()\n",
        "bins = np.arange(len(set(pred_answers))+1) - 0.5\n",
        "n, bins, _ = plt.hist(pred_answers, bins=bins)\n",
        "plt.xticks(rotation='vertical')\n",
        "plt.show()\n",
        "print(n)"
      ]
    },
    {
      "cell_type": "markdown",
      "metadata": {
        "id": "L6GY_RU2-Bhx"
      },
      "source": [
        "# Analyse Dataset"
      ]
    },
    {
      "cell_type": "code",
      "execution_count": null,
      "metadata": {
        "colab": {
          "background_save": true
        },
        "id": "_jwQaXdk_zVs",
        "outputId": "79933a47-bfad-42fa-b907-97bd73cfe6ad"
      },
      "outputs": [
        {
          "data": {
            "image/png": "[encoded data removed]",
            "text/plain": [
              "<Figure size 432x288 with 1 Axes>"
            ]
          },
          "metadata": {
            "needs_background": "light"
          },
          "output_type": "display_data"
        },
        {
          "name": "stdout",
          "output_type": "stream",
          "text": [
            "[ 1701.   660. 14229. 14178.  1612.   605.   604.  1689.   639.   661.\n",
            "   644.   692.   661.]\n"
          ]
        }
      ],
      "source": [
        "plt.close()\n",
        "bins = np.arange(num_answers+1) - 0.5\n",
        "n, bins, _ = plt.hist(train_answers, bins=bins)\n",
        "plt.xticks(rotation='vertical')\n",
        "plt.title(\"Train set answer distribution\")\n",
        "plt.show()\n",
        "print(n)"
      ]
    },
    {
      "cell_type": "code",
      "execution_count": null,
      "metadata": {
        "id": "BcuFN3mvFG6V",
        "outputId": "f580b727-46b8-469c-bdf7-5aed867706d8"
      },
      "outputs": [
        {
          "name": "stdout",
          "output_type": "stream",
          "text": [
            "Performance just predicting 'yes': 36.89%\n"
          ]
        }
      ],
      "source": [
        "print(f\"Performance just predicting 'yes': {round(max(n)/sum(n)*100, 2)}%\")"
      ]
    },
    {
      "cell_type": "code",
      "execution_count": null,
      "metadata": {
        "id": "Cg4T1onM-Ph7",
        "outputId": "88938715-c2c0-4347-d45d-1d5ff887c4cd"
      },
      "outputs": [
        {
          "data": {
            "image/png": "[encoded data removed]",
            "text/plain": [
              "<Figure size 432x288 with 1 Axes>"
            ]
          },
          "metadata": {
            "needs_background": "light"
          },
          "output_type": "display_data"
        },
        {
          "name": "stdout",
          "output_type": "stream",
          "text": [
            "[ 391.  156. 3525. 3611.  169.  153.  416.  154.  165.  450.  156.  149.\n",
            "  178.]\n"
          ]
        }
      ],
      "source": [
        "plt.close()\n",
        "bins = np.arange(num_answers+1) - 0.5\n",
        "n, bins, _ = plt.hist(test_answers, bins=bins)\n",
        "plt.xticks(rotation='vertical')\n",
        "plt.title(\"Test set answer distribution\")\n",
        "plt.show()\n",
        "print(n)"
      ]
    }
  ],
  "metadata": {
    "accelerator": "GPU",
    "colab": {
      "gpuType": "T4",
      "provenance": []
    },
    "kernelspec": {
      "display_name": "Python 3",
      "name": "python3"
    },
    "language_info": {
      "codemirror_mode": {
        "name": "ipython",
        "version": 3
      },
      "file_extension": ".py",
      "mimetype": "text/x-python",
      "name": "python",
      "nbconvert_exporter": "python",
      "pygments_lexer": "ipython3",
      "version": "3.10.12"
    }
  },
  "nbformat": 4,
  "nbformat_minor": 0
}