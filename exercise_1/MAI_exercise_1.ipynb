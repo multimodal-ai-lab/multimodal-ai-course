{
  "cells": [
    {
      "cell_type": "markdown",
      "metadata": {
        "id": "dyEp68uMgy6u"
      },
      "source": [
        "# Multimodal AI exercise 1: Introduction into Python and PyTorch\n",
        "Exercises will not be graded."
      ]
    },
    {
      "cell_type": "code",
      "execution_count": 1,
      "metadata": {
        "colab": {
          "base_uri": "https://localhost:8080/"
        },
        "id": "e-mnKMcDKhoQ",
        "outputId": "f96bb08a-9844-4dbf-aa6e-3cdd0ea2ffcf"
      },
      "outputs": [
        {
          "name": "stdout",
          "output_type": "stream",
          "text": [
            "Python 3.10.12\n"
          ]
        }
      ],
      "source": [
        "!python -V"
      ]
    },
    {
      "cell_type": "markdown",
      "metadata": {
        "id": "5ty-U_eXh3zM"
      },
      "source": [
        "## Very short introduction into Python\n",
        "For more detailed Python explanations, we can recommend the [Python Programming Beginner Tutorials](https://www.youtube.com/playlist?list=PL-osiE80TeTskrapNbzXhwoFUiLCjGgY7) from Corey Schafer."
      ]
    },
    {
      "cell_type": "markdown",
      "metadata": {
        "id": "1Fw_NQ8Il7Kl"
      },
      "source": [
        "### Data structures in Python\n",
        "Python includes serveral data structures: lists, dictionaries, sets, and tuples.\n",
        "\n",
        "Here, we will briefly introduce lists and dictionaries"
      ]
    },
    {
      "cell_type": "code",
      "execution_count": 2,
      "metadata": {
        "colab": {
          "base_uri": "https://localhost:8080/"
        },
        "id": "jDMfDV82pPEn",
        "outputId": "4c93ef38-ceb4-41a8-9693-a62225e50365"
      },
      "outputs": [
        {
          "name": "stdout",
          "output_type": "stream",
          "text": [
            "[1, 2, 3, 4, 5, 6, 7, 8]\n",
            "element at index 3: 4\n",
            "element at list index: 8\n",
            "first 3 elements: [1, 2, 3]\n",
            "elements between index 5 and 7: [6, 7]\n",
            "[1, 2, 3, 4, 5, 6, 7, 8, 9]\n"
          ]
        }
      ],
      "source": [
        "########### Lists ###########\n",
        "l = [1, 2, 3, 4, 5, 6, 7, 8]        # create a list\n",
        "print(l)\n",
        "print(\"element at index 3:\", l[3])\n",
        "print(\"element at list index:\", l[-1])\n",
        "print(\"first 3 elements:\", l[:3])\n",
        "print(\"elements between index 5 and 7:\", l[5:7])  # start is inclusive : stop is exclusive\n",
        "l.append(9)   # add an element at the end of the list\n",
        "print(l)"
      ]
    },
    {
      "cell_type": "code",
      "execution_count": 3,
      "metadata": {
        "colab": {
          "base_uri": "https://localhost:8080/"
        },
        "id": "TZ1Wvtd7vz2I",
        "outputId": "5e76dcca-b659-4d9f-edb5-9051e785056a"
      },
      "outputs": [
        {
          "name": "stdout",
          "output_type": "stream",
          "text": [
            "{'students': 80, 'lecturers': 2}\n",
            "number of students: 80\n",
            "Number of assistants: 4\n",
            "number of unmotivated persons: 0\n"
          ]
        }
      ],
      "source": [
        "####### Dictionaries ########\n",
        "num_occurences = {\"students\": 80, \"lecturers\": 2}   # create a dictionary\n",
        "print(num_occurences)\n",
        "print(\"number of students:\", num_occurences[\"students\"])\n",
        "num_occurences[\"assistants\"] = 4                    # add a key-value pair\n",
        "print(\"Number of assistants:\", num_occurences.get(\"assistants\", \"N/A\"))\n",
        "print(\"number of unmotivated persons:\", num_occurences.get(\"unmotivated\", 0))"
      ]
    },
    {
      "cell_type": "markdown",
      "metadata": {
        "id": "txElUq2Jq83c"
      },
      "source": [
        "### Loops\n"
      ]
    },
    {
      "cell_type": "code",
      "execution_count": 4,
      "metadata": {
        "colab": {
          "base_uri": "https://localhost:8080/"
        },
        "id": "ZLRoRZRfs5gq",
        "outputId": "76335bca-1026-4d7e-a5dd-739b3953f5d0"
      },
      "outputs": [
        {
          "name": "stdout",
          "output_type": "stream",
          "text": [
            "x:     [0, 1, 2, 3, 4]\n",
            "x * 2: [0, 2, 4, 6, 8]\n"
          ]
        }
      ],
      "source": [
        "xs = [0, 1, 2, 3, 4]\n",
        "times_two = []\n",
        "for x in xs:\n",
        "    times_two.append(x*2)\n",
        "print(\"x:    \", xs)\n",
        "print(\"x * 2:\", times_two)"
      ]
    },
    {
      "cell_type": "markdown",
      "metadata": {
        "id": "6RKx_GN2tjIT"
      },
      "source": [
        "The same loop can be also done shorter using **list comprehension**:"
      ]
    },
    {
      "cell_type": "code",
      "execution_count": 5,
      "metadata": {
        "colab": {
          "base_uri": "https://localhost:8080/"
        },
        "id": "c5BiiccTtxyy",
        "outputId": "2b517398-b002-49a3-a693-54ba01626ec2"
      },
      "outputs": [
        {
          "name": "stdout",
          "output_type": "stream",
          "text": [
            "[0, 2, 4, 6, 8]\n"
          ]
        }
      ],
      "source": [
        "times_two = [x*2 for x in xs]\n",
        "print(times_two)"
      ]
    },
    {
      "cell_type": "markdown",
      "metadata": {
        "id": "mmmoivazuC1A"
      },
      "source": [
        "You can also use conditions:"
      ]
    },
    {
      "cell_type": "code",
      "execution_count": 6,
      "metadata": {
        "colab": {
          "base_uri": "https://localhost:8080/"
        },
        "id": "zOiIfFNXuKEg",
        "outputId": "8631031f-5ba9-42fd-c842-92128017fbeb"
      },
      "outputs": [
        {
          "name": "stdout",
          "output_type": "stream",
          "text": [
            "elements larger than 2 multiplied by 3:  [9, 12]\n"
          ]
        }
      ],
      "source": [
        "xl = [x*3 for x in xs if x > 2]\n",
        "print(\"elements larger than 2 multiplied by 3: \", xl)"
      ]
    },
    {
      "cell_type": "markdown",
      "metadata": {
        "id": "dkrMbJL1ySY6"
      },
      "source": [
        "Iteration through a **dictionary**:"
      ]
    },
    {
      "cell_type": "code",
      "execution_count": 7,
      "metadata": {
        "colab": {
          "base_uri": "https://localhost:8080/"
        },
        "id": "UjrectXRyAwF",
        "outputId": "e62f6217-015b-48eb-c7cc-72a3c2c32bc4"
      },
      "outputs": [
        {
          "name": "stdout",
          "output_type": "stream",
          "text": [
            "students: 80\n",
            "lecturers: 2\n",
            "assistants: 4\n"
          ]
        }
      ],
      "source": [
        "for key, val in num_occurences.items():\n",
        "    print(f\"{key}: {val}\")"
      ]
    },
    {
      "cell_type": "markdown",
      "metadata": {
        "id": "DSLcDhH1u-YX"
      },
      "source": [
        "### Functions\n",
        "Functions are defined via `def` and can have *optional* besides required arguments \\\n",
        "Optional elements must be putted at the end."
      ]
    },
    {
      "cell_type": "code",
      "execution_count": 8,
      "metadata": {
        "colab": {
          "base_uri": "https://localhost:8080/"
        },
        "id": "LW6xVajnu97r",
        "outputId": "d89f10e2-6187-4d76-f1d5-837d36d87292"
      },
      "outputs": [
        {
          "name": "stdout",
          "output_type": "stream",
          "text": [
            "Have fun, Lukas\n",
            "Have fun, Anh 😀\n"
          ]
        }
      ],
      "source": [
        "def wish_fun(name, w_smiley=False):\n",
        "    wish = f\"Have fun, {name}\"\n",
        "    if w_smiley:\n",
        "        wish += \" \\U0001f600\"\n",
        "    return wish\n",
        "\n",
        "print(wish_fun(\"Lukas\"))\n",
        "print(wish_fun(\"Anh\", w_smiley=True))"
      ]
    },
    {
      "cell_type": "markdown",
      "metadata": {
        "id": "psJRZCA71OgB"
      },
      "source": [
        "### Classes\n",
        "Classes are defined via `class` and are constructed via `__init__`"
      ]
    },
    {
      "cell_type": "code",
      "execution_count": 9,
      "metadata": {
        "colab": {
          "base_uri": "https://localhost:8080/"
        },
        "id": "RMEdAdr8ux9X",
        "outputId": "c9ad8249-178c-4a54-9e41-c4ee21494ea3"
      },
      "outputs": [
        {
          "name": "stdout",
          "output_type": "stream",
          "text": [
            "Jens has mai knowledge: False\n",
            "After visiting the MAI lecture\n",
            "Jens has mai knowledge: True\n"
          ]
        }
      ],
      "source": [
        "class Student:\n",
        "    def __init__(self, name):\n",
        "        self.name = name\n",
        "        self.mai_knowledge = False\n",
        "\n",
        "    def visits_mai_lecture(self):\n",
        "        self.mai_knowledge = True\n",
        "\n",
        "    def get_mai_knowledge(self):\n",
        "        return self.mai_knowledge\n",
        "\n",
        "stud = Student(\"Jens\")\n",
        "print(f\"{stud.name} has mai knowledge: {stud.get_mai_knowledge()}\")\n",
        "stud.visits_mai_lecture()\n",
        "print(\"After visiting the MAI lecture\")\n",
        "print(f\"{stud.name} has mai knowledge: {stud.get_mai_knowledge()}\")"
      ]
    },
    {
      "cell_type": "markdown",
      "metadata": {
        "id": "iC0BwU0t7Xw3"
      },
      "source": [
        "## Numpy\n",
        "Numpy provides high-performance tools for multidimenional array objects"
      ]
    },
    {
      "cell_type": "code",
      "execution_count": 10,
      "metadata": {
        "id": "nKyk85W57Xel"
      },
      "outputs": [],
      "source": [
        "import numpy as np"
      ]
    },
    {
      "cell_type": "code",
      "execution_count": 11,
      "metadata": {
        "colab": {
          "base_uri": "https://localhost:8080/"
        },
        "id": "bSktCwoO9AOL",
        "outputId": "67bfd5e0-3131-487d-aa87-3157d06d3116"
      },
      "outputs": [
        {
          "name": "stdout",
          "output_type": "stream",
          "text": [
            "zeros:\n",
            " [[0. 0.]\n",
            " [0. 0.]]\n",
            "\n",
            "a:\n",
            " [1 2 3 4 5 6 7 8 9]\n",
            "Type: <class 'numpy.ndarray'>\n",
            "Type of numpy array: int64\n",
            "Shape: (9,)\n"
          ]
        }
      ],
      "source": [
        "# initialize an array of shape [2x2] with zeros\n",
        "z = np.zeros((2,2))\n",
        "print(\"zeros:\\n\", z)\n",
        "# initialize an array with specific values\n",
        "a = np.array([1, 2, 3, 4, 5, 6, 7, 8, 9])\n",
        "print(\"\\na:\\n\", a)\n",
        "print(\"Type:\", type(a))\n",
        "print(\"Type of numpy array:\", a.dtype)\n",
        "print(\"Shape:\", a.shape)"
      ]
    },
    {
      "cell_type": "markdown",
      "metadata": {
        "id": "pdWQP5HbtknA"
      },
      "source": [
        "Reshape gives a new shape to the array, by mantaining the data. \\\n",
        "**Important**: The original shape MUST be compatible with the new shape (e.g. shape(1,6) is compatible with (2, 3) but it is not compatible with (3,4))"
      ]
    },
    {
      "cell_type": "code",
      "execution_count": 12,
      "metadata": {
        "colab": {
          "base_uri": "https://localhost:8080/"
        },
        "id": "zvbtEX7Q9cIC",
        "outputId": "b0017a38-879d-40c9-8321-16d221d33447"
      },
      "outputs": [
        {
          "name": "stdout",
          "output_type": "stream",
          "text": [
            "[[1 2 3]\n",
            " [4 5 6]\n",
            " [7 8 9]]\n",
            "Shape: (3, 3)\n"
          ]
        }
      ],
      "source": [
        "a = a.reshape((3,3))\n",
        "print(a)\n",
        "print(\"Shape:\", a.shape)"
      ]
    },
    {
      "cell_type": "markdown",
      "metadata": {
        "id": "K8C7m3iq94-H"
      },
      "source": [
        "#### Indexing of arrays"
      ]
    },
    {
      "cell_type": "code",
      "execution_count": 13,
      "metadata": {
        "colab": {
          "base_uri": "https://localhost:8080/"
        },
        "id": "pq5KB4uu90lq",
        "outputId": "ceec7db6-9fe4-4565-b1d0-e986159614e9"
      },
      "outputs": [
        {
          "name": "stdout",
          "output_type": "stream",
          "text": [
            "element at row 0, column 1: 2\n",
            "second row: [4 5 6]\n",
            "third column: [3 6 9]\n"
          ]
        }
      ],
      "source": [
        "print(\"element at row 0, column 1:\", a[0,1])\n",
        "print(\"second row:\", a[1])\n",
        "print(\"third column:\", a[:,-1])"
      ]
    },
    {
      "cell_type": "markdown",
      "metadata": {
        "id": "LXQJy1eo_BzM"
      },
      "source": [
        "Index via slicing\n",
        "\n",
        "<font color='red'>Caution</font> : A slice is a **view** of the original array. Modifying the slice will **modify the original array**!"
      ]
    },
    {
      "cell_type": "code",
      "execution_count": 14,
      "metadata": {
        "colab": {
          "base_uri": "https://localhost:8080/"
        },
        "id": "tDN3uKMQ_7TG",
        "outputId": "802a7c6f-c10b-4b2f-ff21-e81a21c742a1"
      },
      "outputs": [
        {
          "name": "stdout",
          "output_type": "stream",
          "text": [
            "[[4 5 6]\n",
            " [7 8 9]]\n",
            "b after modification\n",
            "[[ 4  5  6]\n",
            " [77  8  9]]\n",
            "a after modification\n",
            "[[ 1  2  3]\n",
            " [ 4  5  6]\n",
            " [77  8  9]]\n"
          ]
        }
      ],
      "source": [
        "b = a[1:, :]    # view to the last two rows of a\n",
        "print(b)\n",
        "b[1,0] = 77\n",
        "print(\"b after modification\")\n",
        "print(b)\n",
        "print(\"a after modification\")\n",
        "print(a)        # a is modified even though we never assigned the 77 directly to a"
      ]
    },
    {
      "cell_type": "markdown",
      "metadata": {
        "id": "RFdbmk9IBx2P"
      },
      "source": [
        "Use **copy** to get an independent subarray of a"
      ]
    },
    {
      "cell_type": "code",
      "execution_count": 15,
      "metadata": {
        "colab": {
          "base_uri": "https://localhost:8080/"
        },
        "id": "lLckWUAhBlQE",
        "outputId": "95dcec90-0098-499c-f847-cdf9e6aeb0ac"
      },
      "outputs": [
        {
          "name": "stdout",
          "output_type": "stream",
          "text": [
            "[[4 5 6]\n",
            " [7 8 9]]\n",
            "b after modification\n",
            "[[ 4  5  6]\n",
            " [77  8  9]]\n",
            "a is not modified when using np.copy()\n",
            "[[1 2 3]\n",
            " [4 5 6]\n",
            " [7 8 9]]\n"
          ]
        }
      ],
      "source": [
        "a = np.array([1, 2, 3, 4, 5, 6, 7, 8, 9]).reshape((3,3))\n",
        "b = np.copy(a[1:, :])\n",
        "print(b)\n",
        "b[1,0] = 77\n",
        "print(\"b after modification\")\n",
        "print(b)\n",
        "print(\"a is not modified when using np.copy()\")\n",
        "print(a)        # a is not modified"
      ]
    },
    {
      "cell_type": "code",
      "execution_count": 16,
      "metadata": {
        "colab": {
          "base_uri": "https://localhost:8080/"
        },
        "id": "n-wfNnolCoyC",
        "outputId": "05305b16-ca21-4c22-921a-672b0b56ec7d"
      },
      "outputs": [
        {
          "name": "stdout",
          "output_type": "stream",
          "text": [
            "access rows via list of indices\n",
            "[[1 2 3]\n",
            " [7 8 9]]\n",
            "access columns via list of indices\n",
            "[[2 3]\n",
            " [5 6]\n",
            " [8 9]]\n"
          ]
        }
      ],
      "source": [
        "row_idxs = [0,2]\n",
        "col_idxs = [1,2]\n",
        "print(\"access rows via list of indices\")\n",
        "print(a[row_idxs])\n",
        "print(\"access columns via list of indices\")\n",
        "print(a[:, col_idxs])"
      ]
    },
    {
      "cell_type": "code",
      "execution_count": 17,
      "metadata": {
        "colab": {
          "base_uri": "https://localhost:8080/"
        },
        "id": "BzMoEFLDDnbE",
        "outputId": "926542b8-2b4e-4a91-8d07-a5522f4c9428"
      },
      "outputs": [
        {
          "name": "stdout",
          "output_type": "stream",
          "text": [
            "[1 2 3 4]\n"
          ]
        }
      ],
      "source": [
        "# index array based on condition\n",
        "print(a[a<5])"
      ]
    },
    {
      "cell_type": "markdown",
      "metadata": {
        "id": "o3fbF_KEFHPP"
      },
      "source": [
        "### Numpy math"
      ]
    },
    {
      "cell_type": "code",
      "execution_count": 18,
      "metadata": {
        "colab": {
          "base_uri": "https://localhost:8080/"
        },
        "id": "V9stY3KqFEur",
        "outputId": "15f1321e-5e91-4ed2-95af-cc764ccbaa69"
      },
      "outputs": [
        {
          "name": "stdout",
          "output_type": "stream",
          "text": [
            "Matrix a:\n",
            " [[1 2 3]\n",
            " [4 5 6]\n",
            " [7 8 9]]\n",
            "Matrix b:\n",
            " [[0 0]\n",
            " [1 1]\n",
            " [2 2]]\n",
            "Matrix c:\n",
            " [[1 1]\n",
            " [2 2]\n",
            " [3 3]]\n"
          ]
        }
      ],
      "source": [
        "b = np.array([[0,0], [1,1], [2,2]])\n",
        "c = b + 1\n",
        "print(\"Matrix a:\\n\", a)\n",
        "print(\"Matrix b:\\n\", b)\n",
        "print(\"Matrix c:\\n\", c)"
      ]
    },
    {
      "cell_type": "code",
      "execution_count": 19,
      "metadata": {
        "colab": {
          "base_uri": "https://localhost:8080/"
        },
        "id": "QXYuSdzOF5m8",
        "outputId": "60e7609a-38fa-4f54-e270-9afba8f5e4b1"
      },
      "outputs": [
        {
          "name": "stdout",
          "output_type": "stream",
          "text": [
            "element-wise sum\n",
            "[[1 1]\n",
            " [3 3]\n",
            " [5 5]]\n",
            "built-in function for sum\n",
            "[[1 1]\n",
            " [3 3]\n",
            " [5 5]]\n",
            "element-wise product\n",
            "[[0 0]\n",
            " [2 2]\n",
            " [6 6]]\n",
            "built-in function for element-wise product\n",
            "[[0 0]\n",
            " [2 2]\n",
            " [6 6]]\n"
          ]
        }
      ],
      "source": [
        "print(\"element-wise sum\")\n",
        "print(b + c)\n",
        "print(\"built-in function for sum\")\n",
        "print(np.add(b, c))\n",
        "print(\"element-wise product\")\n",
        "print(b * c)\n",
        "print(\"built-in function for element-wise product\")\n",
        "print(np.multiply(b, c))"
      ]
    },
    {
      "cell_type": "code",
      "execution_count": 20,
      "metadata": {
        "colab": {
          "base_uri": "https://localhost:8080/"
        },
        "id": "PCbauStMGYJ-",
        "outputId": "362d4028-e9f2-48a0-f30e-c6417a1eca67"
      },
      "outputs": [
        {
          "name": "stdout",
          "output_type": "stream",
          "text": [
            "matrix multiplication\n",
            "[[ 0  0  0]\n",
            " [ 2  4  6]\n",
            " [ 4  8 12]]\n",
            "[[ 0  0  0]\n",
            " [ 2  4  6]\n",
            " [ 4  8 12]]\n"
          ]
        }
      ],
      "source": [
        "# matrix multiplication\n",
        "c = c.T # transpose c; [3x2] => [2x3]\n",
        "print(\"matrix multiplication\")\n",
        "print(b.dot(c))\n",
        "print(np.dot(b, c))"
      ]
    },
    {
      "cell_type": "code",
      "execution_count": 21,
      "metadata": {
        "colab": {
          "base_uri": "https://localhost:8080/"
        },
        "id": "MXaOjWA9H18K",
        "outputId": "6b70b29f-64c4-49e4-ec83-3faa0fd34577"
      },
      "outputs": [
        {
          "name": "stdout",
          "output_type": "stream",
          "text": [
            "45\n",
            "Sum over axis=0\n",
            "[12 15 18]\n",
            "Sum over axis=1\n",
            "[ 6 15 24]\n"
          ]
        }
      ],
      "source": [
        "# many operations can be performed along specific dimensions\n",
        "print(np.sum(a))\n",
        "print(\"Sum over axis=0\")\n",
        "print(np.sum(a, axis=0))    # sum for each column\n",
        "print(\"Sum over axis=1\")\n",
        "print(np.sum(a, axis=1))    # sum for each row"
      ]
    },
    {
      "cell_type": "markdown",
      "metadata": {
        "id": "TDP6DaLnJp7i"
      },
      "source": [
        "The full list of mathematical functions can be found in the [numpy documentation](https://numpy.org/doc/stable/reference/routines.math.html)"
      ]
    },
    {
      "cell_type": "markdown",
      "metadata": {
        "id": "mTz6a-nIn9It"
      },
      "source": [
        "### Exercise (2.3a)\n",
        "Implement the cosine similarity between two vectors with numpy (no other Python library)\n",
        "\n",
        "$\\cos(θ) =\\frac{v1 \\cdot v2}{||v1|| ||v2||}$"
      ]
    },
    {
      "cell_type": "code",
      "execution_count": 22,
      "metadata": {
        "colab": {
          "base_uri": "https://localhost:8080/"
        },
        "id": "ySSHmDVQnn1x",
        "outputId": "ffa807f4-e781-4fbf-a94a-6f4a6cdd1aa2"
      },
      "outputs": [
        {
          "name": "stdout",
          "output_type": "stream",
          "text": [
            "None\n"
          ]
        }
      ],
      "source": [
        "vec1 = np.array([0.1, 0.2, 0.6, 0.1])\n",
        "vec2 = np.array([0.2, 0.15, 0.55, 0.1])\n",
        "\n",
        "def cos_sim(v1, v2):\n",
        "    \"\"\" calculate the cosine similarity between the two input vectors\n",
        "    args:\n",
        "        v1: first 1D numpy vector\n",
        "        v2: second 1D numpy vector\n",
        "    return:\n",
        "        cos sim as one number\n",
        "    \"\"\"\n",
        "    # ToDo: Your code here\n",
        "    pass\n",
        "\n",
        "print(cos_sim(vec1, vec2))"
      ]
    },
    {
      "cell_type": "code",
      "execution_count": 23,
      "metadata": {
        "colab": {
          "base_uri": "https://localhost:8080/"
        },
        "id": "lRWLQeYatFcO",
        "outputId": "65e58325-ccf0-4018-eeff-f3a9f238c08c"
      },
      "outputs": [
        {
          "name": "stdout",
          "output_type": "stream",
          "text": [
            "Test 1: failed\n",
            "Test 2: failed\n",
            "Test 3: failed\n"
          ]
        }
      ],
      "source": [
        "# Test cell to verify your implementation, do not modify\n",
        "from scipy import spatial\n",
        "\n",
        "def check_correctness(test_num, v1, v2, threshold=1e-8):\n",
        "    corr = 1 - spatial.distance.cosine(v1, v2)\n",
        "    cand = 0 if cos_sim(v1, v2) is None else cos_sim(v1, v2)\n",
        "    ret_str = f\"Test {test_num}: \"\n",
        "    ret_str += \"successful\" if abs(corr - cand) < threshold else \"failed\"\n",
        "    print(ret_str)\n",
        "\n",
        "testv1 = [3, 45, 7, 2]\n",
        "testv2 = [2, 54, 13, 15]\n",
        "testv3 = [40, 3, 10, 8]\n",
        "check_correctness(1, testv1, testv2)\n",
        "check_correctness(2, testv1, testv3)\n",
        "check_correctness(3, testv2, testv3)"
      ]
    },
    {
      "cell_type": "markdown",
      "metadata": {
        "id": "UIIFNFdR7A4x"
      },
      "source": [
        "## Matplotlib\n",
        "Matplotlib is a powerful yet simple tool to create visualizations in Python"
      ]
    },
    {
      "cell_type": "code",
      "execution_count": 24,
      "metadata": {
        "id": "qaSHfcEQ7Sxv"
      },
      "outputs": [],
      "source": [
        "import matplotlib.pyplot as plt"
      ]
    },
    {
      "cell_type": "code",
      "execution_count": 25,
      "metadata": {
        "colab": {
          "base_uri": "https://localhost:8080/",
          "height": 452
        },
        "id": "82RraluO7XWe",
        "outputId": "f0518d97-66c0-490f-8de1-0cc64556abdc"
      },
      "outputs": [
        {
          "data": {
            "image/png": "[encoded data removed]",
            "text/plain": [
              "<Figure size 640x480 with 1 Axes>"
            ]
          },
          "metadata": {},
          "output_type": "display_data"
        }
      ],
      "source": [
        "# plotting the sine\n",
        "t = np.arange(0, 6*np.pi, 0.1)\n",
        "sine = np.sin(t)\n",
        "plt.plot(t, sine)\n",
        "plt.title(\"Sine wave\")\n",
        "plt.grid()\n",
        "plt.show()\n",
        "plt.close()"
      ]
    },
    {
      "cell_type": "markdown",
      "metadata": {
        "id": "cLdTKS338vfY"
      },
      "source": [
        "### Exercise (2.3b)\n",
        "Plot the sine and cosine in one plot. Center the plot around 0 ([-3π, 3π]), only show the x label ticks at multiples of π, and add a legend to indicate which line is the sine and cosine."
      ]
    },
    {
      "cell_type": "code",
      "execution_count": 26,
      "metadata": {
        "id": "hD_zYVf88tak"
      },
      "outputs": [],
      "source": [
        "def plot_sine_and_cosine():\n",
        "    # ToDo: Your code here\n",
        "    pass\n",
        "\n",
        "plot_sine_and_cosine()"
      ]
    },
    {
      "cell_type": "markdown",
      "metadata": {
        "id": "Haor9kkrJmFX"
      },
      "source": [
        "## PyTorch\n",
        "PyTorch is a powerful machine learning library with strong computational acceleration via GPU support."
      ]
    },
    {
      "cell_type": "code",
      "execution_count": 27,
      "metadata": {
        "colab": {
          "base_uri": "https://localhost:8080/"
        },
        "id": "FiUWQ2DYWe-r",
        "outputId": "74bbc79c-367d-4bd9-db4e-3f6b414e56c3"
      },
      "outputs": [
        {
          "name": "stdout",
          "output_type": "stream",
          "text": [
            "Collecting torchinfo\n",
            "  Downloading torchinfo-1.8.0-py3-none-any.whl (23 kB)\n",
            "Installing collected packages: torchinfo\n",
            "Successfully installed torchinfo-1.8.0\n"
          ]
        }
      ],
      "source": [
        "!pip install torchinfo"
      ]
    },
    {
      "cell_type": "code",
      "execution_count": 28,
      "metadata": {
        "colab": {
          "base_uri": "https://localhost:8080/"
        },
        "id": "Ez8v_v5vLbua",
        "outputId": "d36fa693-48e4-47ce-e313-11fe93ec7499"
      },
      "outputs": [
        {
          "name": "stdout",
          "output_type": "stream",
          "text": [
            "device: cpu\n"
          ]
        }
      ],
      "source": [
        "# import the pytorch library\n",
        "import torch\n",
        "import torch.nn as nn\n",
        "import torch.nn.functional as F\n",
        "import torch.optim as optim\n",
        "import torchvision\n",
        "import torchvision.transforms as transforms\n",
        "from torchinfo import summary\n",
        "from PIL import Image\n",
        "# import matplotlib to do visualizations\n",
        "import matplotlib.pyplot as plt\n",
        "# import tqdm for nice progress bars for loops\n",
        "from tqdm import tqdm\n",
        "import numpy as np\n",
        "\n",
        "# set a device\n",
        "device = torch.device('cuda:0' if torch.cuda.is_available() else 'cpu')\n",
        "print(\"device:\", device)"
      ]
    },
    {
      "cell_type": "markdown",
      "metadata": {
        "id": "PyTG23dEq__d"
      },
      "source": [
        "### Dataset\n",
        "In the following, we define the training and testing dataset and dataloader (validation is left out for simplicity). In this example we use CIFAR10 dataset provided by PyTorch and specify transformations of each image via `transform`. E.g, each image is transformed to a tensor (value range changes from [0, 255] to [0, 1]) and then normalized to the value range of [-1, 1]."
      ]
    },
    {
      "cell_type": "code",
      "execution_count": 29,
      "metadata": {
        "colab": {
          "base_uri": "https://localhost:8080/"
        },
        "id": "Blx_cOdvOoTT",
        "outputId": "f7c858bf-a957-43be-e4dc-6daa3deff358"
      },
      "outputs": [
        {
          "name": "stdout",
          "output_type": "stream",
          "text": [
            "Downloading https://www.cs.toronto.edu/~kriz/cifar-10-python.tar.gz to ./data/cifar-10-python.tar.gz\n"
          ]
        },
        {
          "name": "stderr",
          "output_type": "stream",
          "text": [
            "100%|██████████| 170498071/170498071 [00:02<00:00, 64062421.67it/s]\n"
          ]
        },
        {
          "name": "stdout",
          "output_type": "stream",
          "text": [
            "Extracting ./data/cifar-10-python.tar.gz to ./data\n",
            "Files already downloaded and verified\n"
          ]
        }
      ],
      "source": [
        "transform_train = transforms.Compose([\n",
        "    transforms.ToTensor(),\n",
        "    transforms.Normalize((0.5, 0.5, 0.5), (0.5, 0.5, 0.5))\n",
        "    ])\n",
        "\n",
        "transform = transforms.Compose([\n",
        "    transforms.ToTensor(),\n",
        "    transforms.Normalize((0.5, 0.5, 0.5), (0.5, 0.5, 0.5))\n",
        "    ])\n",
        "\n",
        "batch_size = 4\n",
        "\n",
        "trainset = torchvision.datasets.CIFAR10(root='./data', train=True,\n",
        "                                        download=True, transform=transform_train)\n",
        "trainloader = torch.utils.data.DataLoader(trainset, batch_size=batch_size,\n",
        "                                          shuffle=True, num_workers=2)\n",
        "\n",
        "testset = torchvision.datasets.CIFAR10(root='./data', train=False,\n",
        "                                       download=True, transform=transform)\n",
        "testloader = torch.utils.data.DataLoader(testset, batch_size=batch_size,\n",
        "                                         shuffle=False, num_workers=2)\n",
        "\n",
        "classes = ['plane', 'car', 'bird', 'cat', 'deer',\n",
        "           'dog', 'frog', 'horse', 'ship', 'truck']"
      ]
    },
    {
      "cell_type": "markdown",
      "metadata": {
        "id": "dzA7jooRtiCb"
      },
      "source": [
        "Next, we show some example images together with the corresponding class label."
      ]
    },
    {
      "cell_type": "code",
      "execution_count": 30,
      "metadata": {
        "colab": {
          "base_uri": "https://localhost:8080/",
          "height": 267
        },
        "id": "3stErnNfSRy_",
        "outputId": "fee00d21-51ec-49f5-e084-fca925b76fd1"
      },
      "outputs": [
        {
          "name": "stderr",
          "output_type": "stream",
          "text": [
            "/usr/lib/python3.10/multiprocessing/popen_fork.py:66: RuntimeWarning: os.fork() was called. os.fork() is incompatible with multithreaded code, and JAX is multithreaded, so this will likely lead to a deadlock.\n",
            "  self.pid = os.fork()\n"
          ]
        },
        {
          "data": {
            "image/png": "[encoded data removed]",
            "text/plain": [
              "<Figure size 640x480 with 1 Axes>"
            ]
          },
          "metadata": {},
          "output_type": "display_data"
        },
        {
          "name": "stdout",
          "output_type": "stream",
          "text": [
            "horse deer  truck cat  \n"
          ]
        }
      ],
      "source": [
        "def imshow(img):\n",
        "    img = img / 2 + 0.5     # unnormalize\n",
        "    npimg = img.numpy()\n",
        "    plt.imshow(np.transpose(npimg, (1, 2, 0)))\n",
        "    plt.show()\n",
        "\n",
        "dataiter = iter(trainloader)    # make the dataloader object iterable\n",
        "images, labels = next(dataiter) # get the first batch of images as labels\n",
        "\n",
        "imshow(torchvision.utils.make_grid(images)) # create and show a nice grid containing the first batch of images\n",
        "print(' '.join(f'{classes[labels[j]]:5s}' for j in range(batch_size)))  # print the corresponding labels"
      ]
    },
    {
      "cell_type": "markdown",
      "metadata": {
        "id": "lNHN1yBEt-w8"
      },
      "source": [
        "### Model\n",
        "Here, we define the network and transfer it to the GPU (if available). \\\n",
        "We start off with convolutional layers and max-pool layers followed by the ReLU activation function. \\\n",
        "After two of these blocks the features are flatted and linear layers are applied. \\\n",
        "The final linear layer maps the output to number of classes."
      ]
    },
    {
      "cell_type": "code",
      "execution_count": 31,
      "metadata": {
        "colab": {
          "base_uri": "https://localhost:8080/"
        },
        "id": "3ShFNFKMSd1B",
        "outputId": "e4c6e0a0-f47d-4795-a8ed-ad42ee3943ae"
      },
      "outputs": [
        {
          "data": {
            "text/plain": [
              "==========================================================================================\n",
              "Layer (type:depth-idx)                   Output Shape              Param #\n",
              "==========================================================================================\n",
              "Net                                      [4, 10]                   --\n",
              "├─Conv2d: 1-1                            [4, 6, 28, 28]            456\n",
              "├─MaxPool2d: 1-2                         [4, 6, 14, 14]            --\n",
              "├─Conv2d: 1-3                            [4, 16, 10, 10]           2,416\n",
              "├─MaxPool2d: 1-4                         [4, 16, 5, 5]             --\n",
              "├─Linear: 1-5                            [4, 120]                  48,120\n",
              "├─Linear: 1-6                            [4, 84]                   10,164\n",
              "├─Linear: 1-7                            [4, 10]                   850\n",
              "==========================================================================================\n",
              "Total params: 62,006\n",
              "Trainable params: 62,006\n",
              "Non-trainable params: 0\n",
              "Total mult-adds (M): 2.63\n",
              "==========================================================================================\n",
              "Input size (MB): 0.05\n",
              "Forward/backward pass size (MB): 0.21\n",
              "Params size (MB): 0.25\n",
              "Estimated Total Size (MB): 0.51\n",
              "=========================================================================================="
            ]
          },
          "execution_count": 31,
          "metadata": {},
          "output_type": "execute_result"
        }
      ],
      "source": [
        "class Net(nn.Module):\n",
        "    def __init__(self):\n",
        "        super().__init__()\n",
        "        self.conv1 = nn.Conv2d(3, 6, 5)\n",
        "        self.pool = nn.MaxPool2d(2, 2)\n",
        "        self.conv2 = nn.Conv2d(6, 16, 5)\n",
        "        self.fc1 = nn.Linear(16 * 5 * 5, 120)\n",
        "        self.fc2 = nn.Linear(120, 84)\n",
        "        self.fc3 = nn.Linear(84, 10)\n",
        "\n",
        "    def forward(self, x):\n",
        "        x = self.pool(F.relu(self.conv1(x)))\n",
        "        x = self.pool(F.relu(self.conv2(x)))\n",
        "        x = torch.flatten(x, 1) # flatten all dimensions except batch\n",
        "        x = F.relu(self.fc1(x))\n",
        "        x = F.relu(self.fc2(x))\n",
        "        x = self.fc3(x)\n",
        "        return x\n",
        "\n",
        "\n",
        "net = Net()\n",
        "net.to(device)\n",
        "summary(net, [4, 3, 32, 32])"
      ]
    },
    {
      "cell_type": "markdown",
      "metadata": {
        "id": "tysHwAfGvBbd"
      },
      "source": [
        "### Optimization\n",
        "We still need to define the loss function we want to optimize and specify an optimizer."
      ]
    },
    {
      "cell_type": "code",
      "execution_count": 32,
      "metadata": {
        "id": "EPwgN3saTVxX"
      },
      "outputs": [],
      "source": [
        "criterion = nn.CrossEntropyLoss()\n",
        "optimizer = optim.SGD(net.parameters(), lr=0.001, momentum=0.9)"
      ]
    },
    {
      "cell_type": "markdown",
      "metadata": {
        "id": "64YLn_sXvW-Q"
      },
      "source": [
        "### Training Loop\n",
        "After we have set all things up, we are ready to execute the training loop 🚀"
      ]
    },
    {
      "cell_type": "code",
      "execution_count": 33,
      "metadata": {
        "colab": {
          "base_uri": "https://localhost:8080/"
        },
        "id": "4xu9XTpmTXQH",
        "outputId": "be20d72a-a466-466f-bdae-7d4d8c546cce"
      },
      "outputs": [
        {
          "name": "stderr",
          "output_type": "stream",
          "text": [
            "Training: 100%|██████████| 12500/12500 [01:55<00:00, 108.21it/s, loss: 1.324]\n",
            "Training: 100%|██████████| 12500/12500 [01:46<00:00, 117.71it/s, loss: 1.251]"
          ]
        },
        {
          "name": "stdout",
          "output_type": "stream",
          "text": [
            "\n",
            " Training finished\n"
          ]
        },
        {
          "name": "stderr",
          "output_type": "stream",
          "text": [
            "\n"
          ]
        }
      ],
      "source": [
        "losses = []     # save loss values to plot them later\n",
        "update_freq = 100\n",
        "num_epochs = 2\n",
        "\n",
        "for epoch in range(num_epochs):  # loop over the dataset multiple times\n",
        "\n",
        "    running_loss = 0.0\n",
        "    pbar = tqdm(enumerate(trainloader), total=len(trainloader), desc=\"Training\")\n",
        "    for i, (imgs, labels) in pbar:\n",
        "        # move the images and labels to the same device as the model (net)\n",
        "        imgs, labels = imgs.to(device), labels.to(device)\n",
        "        # zero the parameter gradients\n",
        "        optimizer.zero_grad()\n",
        "        # forward pass\n",
        "        outputs = net(imgs)\n",
        "        # calculate the loss\n",
        "        loss = criterion(outputs, labels)\n",
        "        # backpropagate the loss\n",
        "        loss.backward()\n",
        "        # do one optimizer step\n",
        "        optimizer.step()\n",
        "\n",
        "        # show statistics\n",
        "        running_loss += loss.item()\n",
        "        if i % update_freq == update_freq-1:    # update loss every update_freq mini-batches\n",
        "            avg_loss = running_loss / update_freq\n",
        "            pbar.set_postfix_str(f'loss: {avg_loss:.3f}')\n",
        "            losses.append(avg_loss)\n",
        "            running_loss = 0.0\n",
        "\n",
        "print(\"\\n Training finished\")\n",
        "# saving the model\n",
        "torch.save(net.state_dict(), \"CIFAR10_classifier.pth\")"
      ]
    },
    {
      "cell_type": "markdown",
      "metadata": {
        "id": "3b0BhztCv6gi"
      },
      "source": [
        "### Evaluation\n",
        "After we trained our model, it is time to see how it performs on our (held out) testing data"
      ]
    },
    {
      "cell_type": "code",
      "execution_count": 34,
      "metadata": {
        "colab": {
          "base_uri": "https://localhost:8080/"
        },
        "id": "LqIC9xFtylST",
        "outputId": "b8b9f2b4-d644-4de4-a766-58bd84bcedc7"
      },
      "outputs": [
        {
          "name": "stdout",
          "output_type": "stream",
          "text": [
            "Loading model...\n"
          ]
        },
        {
          "name": "stderr",
          "output_type": "stream",
          "text": [
            "100%|██████████| 2500/2500 [00:12<00:00, 192.91it/s]"
          ]
        },
        {
          "name": "stdout",
          "output_type": "stream",
          "text": [
            "\n",
            "Accuracy of the network on the 10000 test images: 55 %\n"
          ]
        },
        {
          "name": "stderr",
          "output_type": "stream",
          "text": [
            "\n"
          ]
        }
      ],
      "source": [
        "print(\"Loading model...\")\n",
        "net = Net()\n",
        "net.load_state_dict(torch.load(\"CIFAR10_classifier.pth\"))\n",
        "net.to(device)\n",
        "correct = 0\n",
        "total = 0\n",
        "# we don't need gradient calculation for evaluation/inference, thus we omit them\n",
        "with torch.no_grad():\n",
        "    for data in tqdm(testloader):\n",
        "        images, labels = data[0].to(device), data[1].to(device)\n",
        "        # calculate outputs by running images through the network\n",
        "        outputs = net(images)\n",
        "        # the class with the highest logit is choosen as prediction\n",
        "        _, predicted = torch.max(outputs.data, 1)\n",
        "        total += labels.size(0)\n",
        "        correct += (predicted == labels).sum().item()\n",
        "\n",
        "print(f'\\nAccuracy of the network on the {len(testset)} test images: {100 * correct // total} %')"
      ]
    },
    {
      "cell_type": "markdown",
      "metadata": {
        "id": "63wUdr8pLMe-"
      },
      "source": [
        "### Exercise (2.4a)\n",
        "Plot the loss curve for the list training losses"
      ]
    },
    {
      "cell_type": "code",
      "execution_count": 35,
      "metadata": {
        "id": "SSqZxlWI4bUQ"
      },
      "outputs": [],
      "source": [
        "def plot_loss_curve(loss_list):\n",
        "    # ToDo: Your code here\n",
        "    pass\n",
        "\n",
        "plot_loss_curve(losses)"
      ]
    },
    {
      "cell_type": "markdown",
      "metadata": {
        "id": "IZi519hacwXh"
      },
      "source": [
        "### Exercise (2.4b)\n",
        "Do inference on the given image of the deer (its given the [GitHub repo](https://github.com/MKlmt/MAI_exercises_2024), just upload it to this colab notebook) and predict its label. Try out other images by yourself."
      ]
    },
    {
      "cell_type": "code",
      "execution_count": 36,
      "metadata": {
        "colab": {
          "base_uri": "https://localhost:8080/",
          "height": 430
        },
        "id": "SvMMp78ud-MN",
        "outputId": "68bc10b3-507c-4ba8-a978-f32ca195cf7b"
      },
      "outputs": [
        {
          "data": {
            "image/png": "[encoded data removed]",
            "text/plain": [
              "<Figure size 640x480 with 1 Axes>"
            ]
          },
          "metadata": {},
          "output_type": "display_data"
        }
      ],
      "source": [
        "import os\n",
        "img_path = \"deer.jpg\"\n",
        "\n",
        "def resize2square(img, out_size=32):\n",
        "    \"\"\" crops the square center of given image and\n",
        "        resizes it to the desired output size\n",
        "    args:\n",
        "        img: input image as PIL.Image\n",
        "        out_size: output size of the image as integer\n",
        "    return:\n",
        "        resized image in PIL.Image format\n",
        "    \"\"\"\n",
        "    width, height = img.size\n",
        "    length = min(width, height)\n",
        "    left = (width - length) / 2\n",
        "    top = (height - length) / 2\n",
        "    right = (width + length) / 2\n",
        "    bottom = (height + length) / 2\n",
        "    img = img.crop((left, top, right, bottom))\n",
        "    return img.resize((out_size, out_size))\n",
        "\n",
        "if os.path.exists(img_path):\n",
        "    infer_img = Image.open(img_path)\n",
        "    infer_img = resize2square(infer_img)\n",
        "    plt.imshow(infer_img)\n",
        "    plt.show()\n",
        "    plt.close()\n",
        "else:\n",
        "    print(\"I can't find the image. Upload it or modify img_path to point \" +\n",
        "          \"to the location where you saved the image\")"
      ]
    },
    {
      "cell_type": "code",
      "execution_count": 37,
      "metadata": {
        "id": "q8ecv2MVhciM"
      },
      "outputs": [],
      "source": [
        "# ToDo: Your code here\n",
        "# Bring image into the model input format\n",
        "\n",
        "# give the image to the model and predict its label\n",
        "\n",
        "# calculate outputs by running images through the network\n",
        "\n",
        "# the class with the highest logit is choosen as prediction\n"
      ]
    },
    {
      "cell_type": "markdown",
      "metadata": {
        "id": "4EkS6xneMFPw"
      },
      "source": [
        "### Exercise (2.4c)\n",
        "You have surely noticed the accuracy is around 50% which is better than a random performance of 10%. However, it is still not great. Can you think of ways how to improve the performance?\n",
        "Feel free to implement them. Can you improve the model that it predicts the cute cat correctly? 😉"
      ]
    },
    {
      "cell_type": "code",
      "execution_count": 37,
      "metadata": {
        "id": "kpiMdX59syrk"
      },
      "outputs": [],
      "source": []
    }
  ],
  "metadata": {
    "colab": {
      "provenance": []
    },
    "kernelspec": {
      "display_name": "Python 3",
      "name": "python3"
    },
    "language_info": {
      "name": "python"
    }
  },
  "nbformat": 4,
  "nbformat_minor": 0
}
