{
  "cells": [
    {
      "cell_type": "markdown",
      "metadata": {
        "id": "dyEp68uMgy6u"
      },
      "source": [
        "# Multimodal AI exercise 1: Introduction into Python and PyTorch\n",
        "Exercises will not be graded."
      ]
    },
    {
      "cell_type": "code",
      "execution_count": null,
      "metadata": {
        "colab": {
          "base_uri": "https://localhost:8080/"
        },
        "id": "e-mnKMcDKhoQ",
        "outputId": "ac3c4f7f-8520-46ff-fa9b-978651e8e305"
      },
      "outputs": [
        {
          "name": "stdout",
          "output_type": "stream",
          "text": [
            "Python 3.10.12\n"
          ]
        }
      ],
      "source": [
        "!python -V"
      ]
    },
    {
      "cell_type": "markdown",
      "metadata": {
        "id": "5ty-U_eXh3zM"
      },
      "source": [
        "## Very short introduction into Python\n",
        "For more detailed Python explanations, we can recommend the [Python Programming Beginner Tutorials](https://www.youtube.com/playlist?list=PL-osiE80TeTskrapNbzXhwoFUiLCjGgY7) from Corey Schafer."
      ]
    },
    {
      "cell_type": "markdown",
      "metadata": {
        "id": "1Fw_NQ8Il7Kl"
      },
      "source": [
        "### Data structures in Python\n",
        "Python includes serveral data structures: lists, dictionaries, sets, and tuples.\n",
        "\n",
        "Here, we will briefly introduce lists and dictionaries"
      ]
    },
    {
      "cell_type": "code",
      "execution_count": null,
      "metadata": {
        "colab": {
          "base_uri": "https://localhost:8080/"
        },
        "id": "jDMfDV82pPEn",
        "outputId": "b3743a3f-14a1-4342-a40e-c40efca06bb0"
      },
      "outputs": [
        {
          "name": "stdout",
          "output_type": "stream",
          "text": [
            "[1, 2, 3, 4, 5, 6, 7, 8]\n",
            "element at index 3: 4\n",
            "element at list index: 8\n",
            "first 3 elements: [1, 2, 3]\n",
            "elements between index 5 and 7: [6, 7]\n",
            "[1, 2, 3, 4, 5, 6, 7, 8, 9]\n"
          ]
        }
      ],
      "source": [
        "########### Lists ###########\n",
        "l = [1, 2, 3, 4, 5, 6, 7, 8]        # create a list\n",
        "print(l)\n",
        "print(\"element at index 3:\", l[3])\n",
        "print(\"element at list index:\", l[-1])\n",
        "print(\"first 3 elements:\", l[:3])\n",
        "print(\"elements between index 5 and 7:\", l[5:7])  # start is inclusive : stop is exclusive\n",
        "l.append(9)   # add an element at the end of the list\n",
        "print(l)"
      ]
    },
    {
      "cell_type": "code",
      "execution_count": null,
      "metadata": {
        "colab": {
          "base_uri": "https://localhost:8080/"
        },
        "id": "TZ1Wvtd7vz2I",
        "outputId": "468e1fa2-5163-4552-f050-325a25f6f60c"
      },
      "outputs": [
        {
          "name": "stdout",
          "output_type": "stream",
          "text": [
            "{'students': 80, 'lecturers': 2}\n",
            "number of students: 80\n",
            "Number of assistants: 4\n",
            "number of unmotivated persons: 0\n"
          ]
        }
      ],
      "source": [
        "####### Dictionaries ########\n",
        "num_occurences = {\"students\": 80, \"lecturers\": 2}   # create a dictionary\n",
        "print(num_occurences)\n",
        "print(\"number of students:\", num_occurences[\"students\"])\n",
        "num_occurences[\"assistants\"] = 4                    # add a key-value pair\n",
        "print(\"Number of assistants:\", num_occurences.get(\"assistants\", \"N/A\"))\n",
        "print(\"number of unmotivated persons:\", num_occurences.get(\"unmotivated\", 0))"
      ]
    },
    {
      "cell_type": "markdown",
      "metadata": {
        "id": "txElUq2Jq83c"
      },
      "source": [
        "### Loops\n"
      ]
    },
    {
      "cell_type": "code",
      "execution_count": null,
      "metadata": {
        "colab": {
          "base_uri": "https://localhost:8080/"
        },
        "id": "ZLRoRZRfs5gq",
        "outputId": "82210827-36d3-469d-a93d-352b3f043d60"
      },
      "outputs": [
        {
          "name": "stdout",
          "output_type": "stream",
          "text": [
            "x:     [0, 1, 2, 3, 4]\n",
            "x * 2: [0, 2, 4, 6, 8]\n"
          ]
        }
      ],
      "source": [
        "xs = [0, 1, 2, 3, 4]\n",
        "times_two = []\n",
        "for x in xs:\n",
        "    times_two.append(x*2)\n",
        "print(\"x:    \", xs)\n",
        "print(\"x * 2:\", times_two)"
      ]
    },
    {
      "cell_type": "markdown",
      "metadata": {
        "id": "6RKx_GN2tjIT"
      },
      "source": [
        "The same loop can be also done shorter using **list comprehension**:"
      ]
    },
    {
      "cell_type": "code",
      "execution_count": null,
      "metadata": {
        "colab": {
          "base_uri": "https://localhost:8080/"
        },
        "id": "c5BiiccTtxyy",
        "outputId": "60aae96e-7f03-4126-bfda-dfc691d54415"
      },
      "outputs": [
        {
          "name": "stdout",
          "output_type": "stream",
          "text": [
            "[0, 2, 4, 6, 8]\n"
          ]
        }
      ],
      "source": [
        "times_two = [x*2 for x in xs]\n",
        "print(times_two)"
      ]
    },
    {
      "cell_type": "markdown",
      "metadata": {
        "id": "mmmoivazuC1A"
      },
      "source": [
        "You can also use conditions:"
      ]
    },
    {
      "cell_type": "code",
      "execution_count": null,
      "metadata": {
        "colab": {
          "base_uri": "https://localhost:8080/"
        },
        "id": "zOiIfFNXuKEg",
        "outputId": "4683f984-9257-4c1c-915e-d24fecf4a134"
      },
      "outputs": [
        {
          "name": "stdout",
          "output_type": "stream",
          "text": [
            "elements larger than 2 multiplied by 3:  [9, 12]\n"
          ]
        }
      ],
      "source": [
        "xl = [x*3 for x in xs if x > 2]\n",
        "print(\"elements larger than 2 multiplied by 3: \", xl)"
      ]
    },
    {
      "cell_type": "markdown",
      "metadata": {
        "id": "dkrMbJL1ySY6"
      },
      "source": [
        "Iteration through a **dictionary**:"
      ]
    },
    {
      "cell_type": "code",
      "execution_count": null,
      "metadata": {
        "colab": {
          "base_uri": "https://localhost:8080/"
        },
        "id": "UjrectXRyAwF",
        "outputId": "07222699-e03e-4595-e4d8-ff374cbba263"
      },
      "outputs": [
        {
          "name": "stdout",
          "output_type": "stream",
          "text": [
            "students: 80\n",
            "lecturers: 2\n",
            "assistants: 4\n"
          ]
        }
      ],
      "source": [
        "for key, val in num_occurences.items():\n",
        "    print(f\"{key}: {val}\")"
      ]
    },
    {
      "cell_type": "markdown",
      "metadata": {
        "id": "DSLcDhH1u-YX"
      },
      "source": [
        "### Functions\n",
        "Functions are defined via `def` and can have *optional* besides required arguments"
      ]
    },
    {
      "cell_type": "code",
      "execution_count": null,
      "metadata": {
        "colab": {
          "base_uri": "https://localhost:8080/"
        },
        "id": "LW6xVajnu97r",
        "outputId": "2453903e-0a51-4bea-e360-1ab7cb24b577"
      },
      "outputs": [
        {
          "name": "stdout",
          "output_type": "stream",
          "text": [
            "Have fun, Lukas\n",
            "Have fun, Anh 😀\n"
          ]
        }
      ],
      "source": [
        "def wish_fun(name, w_smiley=False):\n",
        "    wish = f\"Have fun, {name}\"\n",
        "    if w_smiley:\n",
        "        wish += \" \\U0001f600\"\n",
        "    return wish\n",
        "\n",
        "print(wish_fun(\"Lukas\"))\n",
        "print(wish_fun(\"Anh\", w_smiley=True))"
      ]
    },
    {
      "cell_type": "markdown",
      "metadata": {
        "id": "psJRZCA71OgB"
      },
      "source": [
        "### Classes\n",
        "Classes are defined via `class` and are constructed via `__init__`"
      ]
    },
    {
      "cell_type": "code",
      "execution_count": null,
      "metadata": {
        "colab": {
          "base_uri": "https://localhost:8080/"
        },
        "id": "RMEdAdr8ux9X",
        "outputId": "dd85595a-ee48-4c1e-ed6b-b5f44ec3ce72"
      },
      "outputs": [
        {
          "name": "stdout",
          "output_type": "stream",
          "text": [
            "Jens has mai knowledge: False\n",
            "After visiting MAI lecture\n",
            "Jens has mai knowledge: True\n"
          ]
        }
      ],
      "source": [
        "class Student:\n",
        "    def __init__(self, name):\n",
        "        self.name = name\n",
        "        self.mai_knowledge = False\n",
        "\n",
        "    def visits_mai_lecture(self):\n",
        "        self.mai_knowledge = True\n",
        "\n",
        "    def get_mai_knowledge(self):\n",
        "        return self.mai_knowledge\n",
        "\n",
        "stud = Student(\"Jens\")\n",
        "print(f\"{stud.name} has mai knowledge: {stud.get_mai_knowledge()}\")\n",
        "stud.visits_mai_lecture()\n",
        "print(\"After visiting MAI lecture\")\n",
        "print(f\"{stud.name} has mai knowledge: {stud.get_mai_knowledge()}\")"
      ]
    },
    {
      "cell_type": "markdown",
      "metadata": {
        "id": "iC0BwU0t7Xw3"
      },
      "source": [
        "## Numpy\n",
        "Numpy provides high-performance tools for multidimenional array objects"
      ]
    },
    {
      "cell_type": "code",
      "execution_count": null,
      "metadata": {
        "id": "nKyk85W57Xel"
      },
      "outputs": [],
      "source": [
        "import numpy as np"
      ]
    },
    {
      "cell_type": "code",
      "execution_count": null,
      "metadata": {
        "colab": {
          "base_uri": "https://localhost:8080/"
        },
        "id": "bSktCwoO9AOL",
        "outputId": "a5dc92d3-18d1-44bd-99e4-eb1c1afee998"
      },
      "outputs": [
        {
          "name": "stdout",
          "output_type": "stream",
          "text": [
            "zeros:\n",
            " [[0. 0.]\n",
            " [0. 0.]]\n",
            "\n",
            "a:\n",
            " [1 2 3 4 5 6 7 8 9]\n",
            "Type: <class 'numpy.ndarray'>\n",
            "Type of numpy array: int64\n",
            "Shape: (9,)\n"
          ]
        }
      ],
      "source": [
        "# initialize an array of shape [2x2] with zeros\n",
        "z = np.zeros((2,2))\n",
        "print(\"zeros:\\n\", z)\n",
        "# initialize an array with specific values\n",
        "a = np.array([1, 2, 3, 4, 5, 6, 7, 8, 9])\n",
        "print(\"\\na:\\n\", a)\n",
        "print(\"Type:\", type(a))\n",
        "print(\"Type of numpy array:\", a.dtype)\n",
        "print(\"Shape:\", a.shape)"
      ]
    },
    {
      "cell_type": "code",
      "execution_count": null,
      "metadata": {
        "colab": {
          "base_uri": "https://localhost:8080/"
        },
        "id": "zvbtEX7Q9cIC",
        "outputId": "08a25560-eacb-43e7-c3fb-286660b65f90"
      },
      "outputs": [
        {
          "name": "stdout",
          "output_type": "stream",
          "text": [
            "[[1 2 3]\n",
            " [4 5 6]\n",
            " [7 8 9]]\n",
            "Shape: (3, 3)\n"
          ]
        }
      ],
      "source": [
        "a = a.reshape((3,3))\n",
        "print(a)\n",
        "print(\"Shape:\", a.shape)"
      ]
    },
    {
      "cell_type": "markdown",
      "metadata": {
        "id": "K8C7m3iq94-H"
      },
      "source": [
        "#### Indexing of arrays"
      ]
    },
    {
      "cell_type": "code",
      "execution_count": null,
      "metadata": {
        "colab": {
          "base_uri": "https://localhost:8080/"
        },
        "id": "pq5KB4uu90lq",
        "outputId": "56649eb5-ae7f-4a16-cc51-f68c4b80c580"
      },
      "outputs": [
        {
          "name": "stdout",
          "output_type": "stream",
          "text": [
            "element at row 0, column 1: 2\n",
            "second row: [4 5 6]\n",
            "third column: [3 6 9]\n"
          ]
        }
      ],
      "source": [
        "print(\"element at row 0, column 1:\", a[0,1])\n",
        "print(\"second row:\", a[1])\n",
        "print(\"third column:\", a[:,-1])"
      ]
    },
    {
      "cell_type": "markdown",
      "metadata": {
        "id": "LXQJy1eo_BzM"
      },
      "source": [
        "Index via slicing\n",
        "\n",
        "<font color='red'>Caution</font> : A slice is a **view** of the original array. Modifying the slice will **modify the original array**!"
      ]
    },
    {
      "cell_type": "code",
      "execution_count": null,
      "metadata": {
        "colab": {
          "base_uri": "https://localhost:8080/"
        },
        "id": "tDN3uKMQ_7TG",
        "outputId": "c4f15b9d-1710-4710-bdbb-a9afada08bc0"
      },
      "outputs": [
        {
          "name": "stdout",
          "output_type": "stream",
          "text": [
            "[[4 5 6]\n",
            " [7 8 9]]\n",
            "b after modification\n",
            "[[ 4  5  6]\n",
            " [77  8  9]]\n",
            "a after modification\n",
            "[[ 1  2  3]\n",
            " [ 4  5  6]\n",
            " [77  8  9]]\n"
          ]
        }
      ],
      "source": [
        "b = a[1:, :]    # view to the last two rows of a\n",
        "print(b)\n",
        "b[1,0] = 77\n",
        "print(\"b after modification\")\n",
        "print(b)\n",
        "print(\"a after modification\")\n",
        "print(a)        # a is modified even though we never assigned the 77 directly to a"
      ]
    },
    {
      "cell_type": "markdown",
      "metadata": {
        "id": "RFdbmk9IBx2P"
      },
      "source": [
        "Use **copy** to get an independent subarray of a"
      ]
    },
    {
      "cell_type": "code",
      "execution_count": null,
      "metadata": {
        "colab": {
          "base_uri": "https://localhost:8080/"
        },
        "id": "lLckWUAhBlQE",
        "outputId": "19f78a2b-814d-477b-d9ad-881334e21a44"
      },
      "outputs": [
        {
          "name": "stdout",
          "output_type": "stream",
          "text": [
            "[[4 5 6]\n",
            " [7 8 9]]\n",
            "b after modification\n",
            "[[ 4  5  6]\n",
            " [77  8  9]]\n",
            "a is not modified when using np.copy()\n",
            "[[1 2 3]\n",
            " [4 5 6]\n",
            " [7 8 9]]\n"
          ]
        }
      ],
      "source": [
        "a = np.array([1, 2, 3, 4, 5, 6, 7, 8, 9]).reshape((3,3))\n",
        "b = np.copy(a[1:, :])\n",
        "print(b)\n",
        "b[1,0] = 77\n",
        "print(\"b after modification\")\n",
        "print(b)\n",
        "print(\"a is not modified when using np.copy()\")\n",
        "print(a)        # a is not modified"
      ]
    },
    {
      "cell_type": "code",
      "execution_count": null,
      "metadata": {
        "colab": {
          "base_uri": "https://localhost:8080/"
        },
        "id": "n-wfNnolCoyC",
        "outputId": "4ef4ffd0-bcd2-462f-d702-d98257d7663b"
      },
      "outputs": [
        {
          "name": "stdout",
          "output_type": "stream",
          "text": [
            "access rows via list of indices\n",
            "[[1 2 3]\n",
            " [7 8 9]]\n",
            "access columns via list of indices\n",
            "[[2 3]\n",
            " [5 6]\n",
            " [8 9]]\n"
          ]
        }
      ],
      "source": [
        "row_idxs = [0,2]\n",
        "col_idxs = [1,2]\n",
        "print(\"access rows via list of indices\")\n",
        "print(a[row_idxs])\n",
        "print(\"access columns via list of indices\")\n",
        "print(a[:, col_idxs])"
      ]
    },
    {
      "cell_type": "code",
      "execution_count": null,
      "metadata": {
        "colab": {
          "base_uri": "https://localhost:8080/"
        },
        "id": "BzMoEFLDDnbE",
        "outputId": "3e859295-888c-4ef7-dbe4-775e555e2f92"
      },
      "outputs": [
        {
          "name": "stdout",
          "output_type": "stream",
          "text": [
            "[1 2 3 4]\n"
          ]
        }
      ],
      "source": [
        "# index array based on condition\n",
        "print(a[a<5])"
      ]
    },
    {
      "cell_type": "markdown",
      "metadata": {
        "id": "o3fbF_KEFHPP"
      },
      "source": [
        "### Numpy math"
      ]
    },
    {
      "cell_type": "code",
      "execution_count": null,
      "metadata": {
        "colab": {
          "base_uri": "https://localhost:8080/"
        },
        "id": "V9stY3KqFEur",
        "outputId": "4e668ed0-27da-4a08-8225-d7d2978e1f09"
      },
      "outputs": [
        {
          "name": "stdout",
          "output_type": "stream",
          "text": [
            "Matrix a:\n",
            " [[1 2 3]\n",
            " [4 5 6]\n",
            " [7 8 9]]\n",
            "Matrix b:\n",
            " [[0 0]\n",
            " [1 1]\n",
            " [2 2]]\n",
            "Matrix c:\n",
            " [[1 1]\n",
            " [2 2]\n",
            " [3 3]]\n"
          ]
        }
      ],
      "source": [
        "b = np.array([[0,0], [1,1], [2,2]])\n",
        "c = b + 1\n",
        "print(\"Matrix a:\\n\", a)\n",
        "print(\"Matrix b:\\n\", b)\n",
        "print(\"Matrix c:\\n\", c)"
      ]
    },
    {
      "cell_type": "code",
      "execution_count": null,
      "metadata": {
        "colab": {
          "base_uri": "https://localhost:8080/"
        },
        "id": "QXYuSdzOF5m8",
        "outputId": "f7c442b4-e8e1-4da9-cd03-781dabaaf477"
      },
      "outputs": [
        {
          "name": "stdout",
          "output_type": "stream",
          "text": [
            "element-wise sum\n",
            "[[1 1]\n",
            " [3 3]\n",
            " [5 5]]\n",
            "[[1 1]\n",
            " [3 3]\n",
            " [5 5]]\n",
            "element-wise product\n",
            "[[0 0]\n",
            " [2 2]\n",
            " [6 6]]\n",
            "[[0 0]\n",
            " [2 2]\n",
            " [6 6]]\n"
          ]
        }
      ],
      "source": [
        "print(\"element-wise sum\")\n",
        "print(b + c)\n",
        "print(np.add(b, c))\n",
        "print(\"element-wise product\")\n",
        "print(b * c)\n",
        "print(np.multiply(b, c))"
      ]
    },
    {
      "cell_type": "code",
      "execution_count": null,
      "metadata": {
        "colab": {
          "base_uri": "https://localhost:8080/"
        },
        "id": "PCbauStMGYJ-",
        "outputId": "c3641477-bcb9-40d5-a3b4-60780ef07a65"
      },
      "outputs": [
        {
          "name": "stdout",
          "output_type": "stream",
          "text": [
            "matrix multiplication\n",
            "[[ 0  0  0]\n",
            " [ 2  4  6]\n",
            " [ 4  8 12]]\n",
            "[[ 0  0  0]\n",
            " [ 2  4  6]\n",
            " [ 4  8 12]]\n"
          ]
        }
      ],
      "source": [
        "# matrix multiplication\n",
        "c = c.T # transpose c; [3x2] => [2x3]\n",
        "print(\"matrix multiplication\")\n",
        "print(b.dot(c))\n",
        "print(np.dot(b, c))"
      ]
    },
    {
      "cell_type": "code",
      "execution_count": null,
      "metadata": {
        "colab": {
          "base_uri": "https://localhost:8080/"
        },
        "id": "MXaOjWA9H18K",
        "outputId": "b514fcd6-b064-4534-c0b4-8e8962a6f8a6"
      },
      "outputs": [
        {
          "name": "stdout",
          "output_type": "stream",
          "text": [
            "45\n",
            "[12 15 18]\n",
            "[ 6 15 24]\n"
          ]
        }
      ],
      "source": [
        "# many operations can be performed along specific dimensions\n",
        "print(np.sum(a))\n",
        "print(np.sum(a, axis=0))    # sum for each column\n",
        "print(np.sum(a, axis=1))    # sum for each row"
      ]
    },
    {
      "cell_type": "markdown",
      "metadata": {
        "id": "TDP6DaLnJp7i"
      },
      "source": [
        "The full list of mathematical functions can be found in the [numpy documentation](https://numpy.org/doc/stable/reference/routines.math.html)"
      ]
    },
    {
      "cell_type": "markdown",
      "metadata": {
        "id": "mTz6a-nIn9It"
      },
      "source": [
        "### Exercise\n",
        "Implement the cosine similarity between two vectors with numpy (no other Python library)\n",
        "\n",
        "$\\cos(θ) =\\frac{v1 \\cdot v2}{||v1|| ||v2||}$"
      ]
    },
    {
      "cell_type": "code",
      "execution_count": null,
      "metadata": {
        "colab": {
          "base_uri": "https://localhost:8080/"
        },
        "id": "ySSHmDVQnn1x",
        "outputId": "69da22b6-4ff5-49a5-c0ea-15f8025d935f"
      },
      "outputs": [
        {
          "name": "stdout",
          "output_type": "stream",
          "text": [
            "0.9827076298239908\n"
          ]
        }
      ],
      "source": [
        "vec1 = np.array([0.1, 0.2, 0.6, 0.1])\n",
        "vec2 = np.array([0.2, 0.15, 0.55, 0.1])\n",
        "\n",
        "def cos_sim(v1, v2):\n",
        "    \"\"\" calculate the cosine similarity between the two input vectors\n",
        "    args:\n",
        "        v1: first 1D numpy vector\n",
        "        v2: second 1D numpy vector\n",
        "    return:\n",
        "        cos sim as one number\n",
        "    \"\"\"\n",
        "    # ToDo: Your code here\n",
        "    return np.dot(v1, v2) / (np.linalg.norm(v1) * np.linalg.norm(v2))\n",
        "\n",
        "print(cos_sim(vec1, vec2))"
      ]
    },
    {
      "cell_type": "code",
      "execution_count": null,
      "metadata": {
        "colab": {
          "base_uri": "https://localhost:8080/"
        },
        "id": "lRWLQeYatFcO",
        "outputId": "af03d97f-62d5-4cf8-add2-cfe1bdea6768"
      },
      "outputs": [
        {
          "name": "stdout",
          "output_type": "stream",
          "text": [
            "Test 1: successful\n",
            "Test 2: successful\n",
            "Test 3: successful\n"
          ]
        }
      ],
      "source": [
        "# Test cell to verify your implementation, do not modify\n",
        "from scipy import spatial\n",
        "\n",
        "def check_correctness(test_num, v1, v2, threshold=1e-8):\n",
        "    corr = 1 - spatial.distance.cosine(v1, v2)\n",
        "    cand = 0 if cos_sim(v1, v2) is None else cos_sim(v1, v2)\n",
        "    ret_str = f\"Test {test_num}: \"\n",
        "    ret_str += \"successful\" if abs(corr - cand) < threshold else \"failed\"\n",
        "    print(ret_str)\n",
        "\n",
        "testv1 = [3, 45, 7, 2]\n",
        "testv2 = [2, 54, 13, 15]\n",
        "testv3 = [40, 3, 10, 8]\n",
        "check_correctness(1, testv1, testv2)\n",
        "check_correctness(2, testv1, testv3)\n",
        "check_correctness(3, testv2, testv3)"
      ]
    },
    {
      "cell_type": "markdown",
      "metadata": {
        "id": "UIIFNFdR7A4x"
      },
      "source": [
        "## Matplotlib\n",
        "Matplotlib is a powerful yet simple tool to create visualizations in Python"
      ]
    },
    {
      "cell_type": "code",
      "execution_count": null,
      "metadata": {
        "id": "qaSHfcEQ7Sxv"
      },
      "outputs": [],
      "source": [
        "import matplotlib.pyplot as plt"
      ]
    },
    {
      "cell_type": "code",
      "execution_count": null,
      "metadata": {
        "colab": {
          "base_uri": "https://localhost:8080/",
          "height": 452
        },
        "id": "82RraluO7XWe",
        "outputId": "ab87ed35-647a-4723-c73c-f347c19306c7"
      },
      "outputs": [
        {
          "data": {
            "image/png": "[encoded data removed]",
            "text/plain": [
              "<Figure size 640x480 with 1 Axes>"
            ]
          },
          "metadata": {},
          "output_type": "display_data"
        }
      ],
      "source": [
        "# plotting the sine\n",
        "t = np.arange(0, 6*np.pi, 0.1)\n",
        "sine = np.sin(t)\n",
        "plt.plot(t, sine)\n",
        "plt.title(\"Sine wave\")\n",
        "plt.grid()\n",
        "plt.show()\n",
        "plt.close()"
      ]
    },
    {
      "cell_type": "markdown",
      "metadata": {
        "id": "cLdTKS338vfY"
      },
      "source": [
        "### Exercise\n",
        "Plot the sine and cosine in one plot. Center the plot around 0 ([-3π, 3π]), only show the x label ticks at multiples of π, and add a legend to indicate which line is the sine and cosine."
      ]
    },
    {
      "cell_type": "code",
      "execution_count": null,
      "metadata": {
        "colab": {
          "base_uri": "https://localhost:8080/",
          "height": 452
        },
        "id": "hD_zYVf88tak",
        "outputId": "a14c2e73-c5ee-4c23-b9c6-809e64fdc463"
      },
      "outputs": [
        {
          "data": {
            "image/png": "[encoded data removed]",
            "text/plain": [
              "<Figure size 640x480 with 1 Axes>"
            ]
          },
          "metadata": {},
          "output_type": "display_data"
        }
      ],
      "source": [
        "def plot_sine_and_cosine():\n",
        "    # x values from -3pi to 3pi\n",
        "    t = np.arange(-3*np.pi, 3*np.pi, 0.1)\n",
        "    # ticks in the same range but with a stepsize of pi\n",
        "    pi_row = np.arange(-3*np.pi, 3*np.pi + 1, np.pi)\n",
        "    # assign the name x*pi as string to each tick (it is a list of same size)\n",
        "    pi_names = [str(i) + r\"$\\pi$\" for i in range(-3, 4)]\n",
        "    sine = np.sin(t)\n",
        "    # calculate not only the sine but also the cosine\n",
        "    cos = np.cos(t)\n",
        "    # plot both waves\n",
        "    plt.plot(t, sine, label=\"sine\")\n",
        "    plt.plot(t, cos, label=\"cosine\")\n",
        "    plt.title(\"sine and cosine wave\")\n",
        "    plt.grid()\n",
        "    # set the ticks given in pi_names at the correct locations (multiples of pi)\n",
        "    plt.xticks(pi_row, pi_names)\n",
        "    # add a legend in the upper right corner\n",
        "    plt.legend(loc=\"upper right\")\n",
        "    plt.show()\n",
        "    plt.close()\n",
        "\n",
        "plot_sine_and_cosine()"
      ]
    },
    {
      "cell_type": "markdown",
      "metadata": {
        "id": "Haor9kkrJmFX"
      },
      "source": [
        "## PyTorch\n",
        "PyTorch is a powerful machine learning library with strong computational acceleration via GPU support."
      ]
    },
    {
      "cell_type": "code",
      "execution_count": null,
      "metadata": {
        "colab": {
          "background_save": true,
          "base_uri": "https://localhost:8080/"
        },
        "id": "zqRC4izj-eR8",
        "outputId": "5d0f5ca2-5764-47ea-e747-775024fe10ce"
      },
      "outputs": [
        {
          "name": "stdout",
          "output_type": "stream",
          "text": [
            "Collecting torchinfo\n",
            "  Downloading torchinfo-1.8.0-py3-none-any.whl (23 kB)\n",
            "Installing collected packages: torchinfo\n",
            "Successfully installed torchinfo-1.8.0\n"
          ]
        }
      ],
      "source": [
        "!pip install torchinfo"
      ]
    },
    {
      "cell_type": "code",
      "execution_count": null,
      "metadata": {
        "id": "Ez8v_v5vLbua"
      },
      "outputs": [],
      "source": [
        "# import the pytorch library\n",
        "import torch\n",
        "import torch.nn as nn\n",
        "import torch.nn.functional as F\n",
        "import torch.optim as optim\n",
        "import torchvision\n",
        "import torchvision.transforms as transforms\n",
        "from torchinfo import summary\n",
        "from PIL import Image\n",
        "# import matplotlib to do visualizations\n",
        "import matplotlib.pyplot as plt\n",
        "# import tqdm for nice progress bars for loops\n",
        "from tqdm import tqdm\n",
        "import numpy as np\n",
        "\n",
        "# set a device\n",
        "device = torch.device('cuda:0' if torch.cuda.is_available() else 'cpu')\n",
        "print(\"device:\", device)"
      ]
    },
    {
      "cell_type": "markdown",
      "metadata": {
        "id": "PyTG23dEq__d"
      },
      "source": [
        "### Dataset\n",
        "In the following, we define the training and testing dataset and dataloader (validation is left out for simplicity). In this example we use CIFAR10 dataset provided by PyTorch and specify transformations of each image via `transform`. E.g, each image is transformed to a tensor (value range changes from [0, 255] to [0, 1]) and then normalized to the value range of [-1, 1]."
      ]
    },
    {
      "cell_type": "code",
      "execution_count": null,
      "metadata": {
        "colab": {
          "base_uri": "https://localhost:8080/"
        },
        "id": "Blx_cOdvOoTT",
        "outputId": "5501754c-8b93-45ba-c89c-ab951c219b26"
      },
      "outputs": [
        {
          "name": "stdout",
          "output_type": "stream",
          "text": [
            "Downloading https://www.cs.toronto.edu/~kriz/cifar-10-python.tar.gz to ./data/cifar-10-python.tar.gz\n"
          ]
        },
        {
          "name": "stderr",
          "output_type": "stream",
          "text": [
            "100%|██████████| 170498071/170498071 [00:12<00:00, 14072062.48it/s]\n"
          ]
        },
        {
          "name": "stdout",
          "output_type": "stream",
          "text": [
            "Extracting ./data/cifar-10-python.tar.gz to ./data\n",
            "Files already downloaded and verified\n"
          ]
        }
      ],
      "source": [
        "transform_train = transforms.Compose([\n",
        "    transforms.ToTensor(),\n",
        "    transforms.Normalize((0.5, 0.5, 0.5), (0.5, 0.5, 0.5))\n",
        "    ])\n",
        "\n",
        "transform = transforms.Compose([\n",
        "    transforms.ToTensor(),\n",
        "    transforms.Normalize((0.5, 0.5, 0.5), (0.5, 0.5, 0.5))\n",
        "    ])\n",
        "\n",
        "batch_size = 4\n",
        "\n",
        "trainset = torchvision.datasets.CIFAR10(root='./data', train=True,\n",
        "                                        download=True, transform=transform_train)\n",
        "trainloader = torch.utils.data.DataLoader(trainset, batch_size=batch_size,\n",
        "                                          shuffle=True, num_workers=2)\n",
        "\n",
        "testset = torchvision.datasets.CIFAR10(root='./data', train=False,\n",
        "                                       download=True, transform=transform)\n",
        "testloader = torch.utils.data.DataLoader(testset, batch_size=batch_size,\n",
        "                                         shuffle=False, num_workers=2)\n",
        "\n",
        "classes = ['plane', 'car', 'bird', 'cat', 'deer',\n",
        "           'dog', 'frog', 'horse', 'ship', 'truck']"
      ]
    },
    {
      "cell_type": "markdown",
      "metadata": {
        "id": "dzA7jooRtiCb"
      },
      "source": [
        "Next, we show some example images together with the corresponding class label."
      ]
    },
    {
      "cell_type": "code",
      "execution_count": null,
      "metadata": {
        "colab": {
          "base_uri": "https://localhost:8080/",
          "height": 266
        },
        "id": "3stErnNfSRy_",
        "outputId": "2ebb9e69-fa2a-40e1-c53c-54a8d4bbbf1b"
      },
      "outputs": [
        {
          "name": "stderr",
          "output_type": "stream",
          "text": [
            "/usr/lib/python3.10/multiprocessing/popen_fork.py:66: RuntimeWarning: os.fork() was called. os.fork() is incompatible with multithreaded code, and JAX is multithreaded, so this will likely lead to a deadlock.\n",
            "  self.pid = os.fork()\n"
          ]
        },
        {
          "data": {
            "image/png": "[encoded data removed]",
            "text/plain": [
              "<Figure size 640x480 with 1 Axes>"
            ]
          },
          "metadata": {},
          "output_type": "display_data"
        },
        {
          "name": "stdout",
          "output_type": "stream",
          "text": [
            "cat   car   deer  truck\n"
          ]
        }
      ],
      "source": [
        "def imshow(img):\n",
        "    img = img / 2 + 0.5     # unnormalize\n",
        "    npimg = img.numpy()\n",
        "    plt.imshow(np.transpose(npimg, (1, 2, 0)))\n",
        "    plt.show()\n",
        "\n",
        "dataiter = iter(trainloader)\n",
        "images, labels = next(dataiter)\n",
        "\n",
        "imshow(torchvision.utils.make_grid(images))\n",
        "print(' '.join(f'{classes[labels[j]]:5s}' for j in range(batch_size)))"
      ]
    },
    {
      "cell_type": "markdown",
      "metadata": {
        "id": "lNHN1yBEt-w8"
      },
      "source": [
        "### Model\n",
        "Here, we define the network and transfer it to the GPU (if available)"
      ]
    },
    {
      "cell_type": "code",
      "execution_count": null,
      "metadata": {
        "colab": {
          "base_uri": "https://localhost:8080/"
        },
        "id": "3ShFNFKMSd1B",
        "outputId": "69b10944-24f1-493c-acbe-86600136e8d5"
      },
      "outputs": [
        {
          "data": {
            "text/plain": [
              "==========================================================================================\n",
              "Layer (type:depth-idx)                   Output Shape              Param #\n",
              "==========================================================================================\n",
              "Net                                      [4, 10]                   --\n",
              "├─Conv2d: 1-1                            [4, 6, 28, 28]            456\n",
              "├─MaxPool2d: 1-2                         [4, 6, 14, 14]            --\n",
              "├─Conv2d: 1-3                            [4, 16, 10, 10]           2,416\n",
              "├─MaxPool2d: 1-4                         [4, 16, 5, 5]             --\n",
              "├─Linear: 1-5                            [4, 120]                  48,120\n",
              "├─Linear: 1-6                            [4, 84]                   10,164\n",
              "├─Linear: 1-7                            [4, 10]                   850\n",
              "==========================================================================================\n",
              "Total params: 62,006\n",
              "Trainable params: 62,006\n",
              "Non-trainable params: 0\n",
              "Total mult-adds (M): 2.63\n",
              "==========================================================================================\n",
              "Input size (MB): 0.05\n",
              "Forward/backward pass size (MB): 0.21\n",
              "Params size (MB): 0.25\n",
              "Estimated Total Size (MB): 0.51\n",
              "=========================================================================================="
            ]
          },
          "execution_count": 13,
          "metadata": {},
          "output_type": "execute_result"
        }
      ],
      "source": [
        "class Net(nn.Module):\n",
        "    def __init__(self):\n",
        "        super().__init__()\n",
        "        self.conv1 = nn.Conv2d(3, 6, 5)\n",
        "        self.pool = nn.MaxPool2d(2, 2)\n",
        "        self.conv2 = nn.Conv2d(6, 16, 5)\n",
        "        self.fc1 = nn.Linear(16 * 5 * 5, 120)\n",
        "        self.fc2 = nn.Linear(120, 84)\n",
        "        self.fc3 = nn.Linear(84, 10)\n",
        "\n",
        "    def forward(self, x):\n",
        "        x = self.pool(F.relu(self.conv1(x)))\n",
        "        x = self.pool(F.relu(self.conv2(x)))\n",
        "        x = torch.flatten(x, 1) # flatten all dimensions except batch\n",
        "        x = F.relu(self.fc1(x))\n",
        "        x = F.relu(self.fc2(x))\n",
        "        x = self.fc3(x)\n",
        "        return x\n",
        "\n",
        "\n",
        "net = Net()\n",
        "net.to(device)\n",
        "summary(net, (4, 3, 32, 32))"
      ]
    },
    {
      "cell_type": "markdown",
      "metadata": {
        "id": "tysHwAfGvBbd"
      },
      "source": [
        "### Optimization\n",
        "We still need to define the loss function we want to optimize and specify an optimizer."
      ]
    },
    {
      "cell_type": "code",
      "execution_count": null,
      "metadata": {
        "id": "EPwgN3saTVxX"
      },
      "outputs": [],
      "source": [
        "criterion = nn.CrossEntropyLoss()\n",
        "optimizer = optim.SGD(net.parameters(), lr=0.001, momentum=0.9)"
      ]
    },
    {
      "cell_type": "markdown",
      "metadata": {
        "id": "64YLn_sXvW-Q"
      },
      "source": [
        "### Training Loop\n",
        "After we have set all things up, we are ready to execute the training loop 🚀"
      ]
    },
    {
      "cell_type": "code",
      "execution_count": null,
      "metadata": {
        "colab": {
          "base_uri": "https://localhost:8080/"
        },
        "id": "4xu9XTpmTXQH",
        "outputId": "579237a0-92c1-4d3a-e902-db4cd9a4d2e4"
      },
      "outputs": [
        {
          "name": "stderr",
          "output_type": "stream",
          "text": [
            "/usr/lib/python3.10/multiprocessing/popen_fork.py:66: RuntimeWarning: os.fork() was called. os.fork() is incompatible with multithreaded code, and JAX is multithreaded, so this will likely lead to a deadlock.\n",
            "  self.pid = os.fork()\n",
            "Training: 100%|█████████▉| 12491/12500 [00:58<00:00, 228.31it/s, loss: 1.528]/usr/lib/python3.10/multiprocessing/popen_fork.py:66: RuntimeWarning: os.fork() was called. os.fork() is incompatible with multithreaded code, and JAX is multithreaded, so this will likely lead to a deadlock.\n",
            "  self.pid = os.fork()\n",
            "Training: 100%|██████████| 12500/12500 [00:58<00:00, 213.56it/s, loss: 1.528]\n",
            "Training: 100%|██████████| 12500/12500 [01:01<00:00, 203.30it/s, loss: 1.309]"
          ]
        },
        {
          "name": "stdout",
          "output_type": "stream",
          "text": [
            "\n",
            " Training finished\n"
          ]
        },
        {
          "name": "stderr",
          "output_type": "stream",
          "text": [
            "\n"
          ]
        }
      ],
      "source": [
        "losses = []     # save loss values to plot them later\n",
        "update_freq = 100\n",
        "num_epochs = 2\n",
        "net.train()\n",
        "\n",
        "for epoch in range(num_epochs):  # loop over the dataset multiple times\n",
        "\n",
        "    running_loss = 0.0\n",
        "    pbar = tqdm(enumerate(trainloader), total=len(trainloader), desc=\"Training\")\n",
        "    for i, (imgs, labels) in pbar:\n",
        "        # move the images and labels to the same device as the model (net)\n",
        "        imgs, labels = imgs.to(device), labels.to(device)\n",
        "        # zero the parameter gradients\n",
        "        optimizer.zero_grad()\n",
        "        # forward pass\n",
        "        outputs = net(imgs)\n",
        "        # calculate the loss\n",
        "        loss = criterion(outputs, labels)\n",
        "        # backpropagate the loss\n",
        "        loss.backward()\n",
        "        # do one optimizer step\n",
        "        optimizer.step()\n",
        "\n",
        "        # show statistics\n",
        "        running_loss += loss.item()\n",
        "        if i % update_freq == update_freq-1:    # update loss every update_freq mini-batches\n",
        "            avg_loss = running_loss / update_freq\n",
        "            pbar.set_postfix_str(f'loss: {avg_loss:.3f}')\n",
        "            losses.append(avg_loss)\n",
        "            running_loss = 0.0\n",
        "\n",
        "print(\"\\n Training finished\")"
      ]
    },
    {
      "cell_type": "markdown",
      "metadata": {
        "id": "3b0BhztCv6gi"
      },
      "source": [
        "### Evaluation\n",
        "After we trained our model, it is time to see how it performs on our (held out) testing data"
      ]
    },
    {
      "cell_type": "code",
      "execution_count": null,
      "metadata": {
        "colab": {
          "base_uri": "https://localhost:8080/"
        },
        "id": "LqIC9xFtylST",
        "outputId": "ad8e952a-8cc9-4000-b8d6-e8c61c65ff67"
      },
      "outputs": [
        {
          "name": "stderr",
          "output_type": "stream",
          "text": [
            "100%|██████████| 2500/2500 [00:08<00:00, 288.65it/s]"
          ]
        },
        {
          "name": "stdout",
          "output_type": "stream",
          "text": [
            "\n",
            "Accuracy of the network on the 10000 test images: 54 %\n"
          ]
        },
        {
          "name": "stderr",
          "output_type": "stream",
          "text": [
            "\n"
          ]
        }
      ],
      "source": [
        "correct = 0\n",
        "total = 0\n",
        "net.eval()\n",
        "\n",
        "# we don't need gradient calculation for evaluation/inference, thus we omit them\n",
        "with torch.no_grad():\n",
        "    for data in tqdm(testloader):\n",
        "        images, labels = data[0].to(device), data[1].to(device)\n",
        "        # calculate outputs by running images through the network\n",
        "        outputs = net(images)\n",
        "        # the class with the highest logit is choosen as prediction\n",
        "        _, predicted = torch.max(outputs.data, 1)\n",
        "        total += labels.size(0)\n",
        "        correct += (predicted == labels).sum().item()\n",
        "\n",
        "print(f'\\nAccuracy of the network on the {len(testset)} test images: {100 * correct // total} %')"
      ]
    },
    {
      "cell_type": "markdown",
      "metadata": {
        "id": "63wUdr8pLMe-"
      },
      "source": [
        "### Exercise 1\n",
        "Plot the loss curve for the list training losses"
      ]
    },
    {
      "cell_type": "code",
      "execution_count": null,
      "metadata": {
        "colab": {
          "base_uri": "https://localhost:8080/",
          "height": 472
        },
        "id": "SSqZxlWI4bUQ",
        "outputId": "a236fce8-1812-4d6f-fd4d-01ba7d54ddac"
      },
      "outputs": [
        {
          "data": {
            "image/png": "[encoded data removed]",
            "text/plain": [
              "<Figure size 640x480 with 1 Axes>"
            ]
          },
          "metadata": {},
          "output_type": "display_data"
        }
      ],
      "source": [
        "def plot_loss_curve(loss_list):\n",
        "    # ToDo: Your code here\n",
        "    plt.plot(loss_list)\n",
        "    plt.title(\"Loss curve during training\")\n",
        "    plt.xlabel(\"Iterations\")\n",
        "    plt.ylabel(\"Loss\")\n",
        "    plt.show()\n",
        "\n",
        "plot_loss_curve(losses)"
      ]
    },
    {
      "cell_type": "markdown",
      "metadata": {
        "id": "IZi519hacwXh"
      },
      "source": [
        "### Exercise 2\n",
        "Do inference on the given image of the deer (its given the [GitHub repo](https://github.com/MKlmt/MAI_exercises_2024), just upload it to this colab notebook) and predict its label. Try out other images by yourself."
      ]
    },
    {
      "cell_type": "code",
      "execution_count": null,
      "metadata": {
        "colab": {
          "base_uri": "https://localhost:8080/",
          "height": 430
        },
        "id": "SvMMp78ud-MN",
        "outputId": "c860a9e4-edf9-4f4e-bfad-89a037166d57"
      },
      "outputs": [
        {
          "data": {
            "image/png": "[encoded data removed]",
            "text/plain": [
              "<Figure size 640x480 with 1 Axes>"
            ]
          },
          "metadata": {},
          "output_type": "display_data"
        }
      ],
      "source": [
        "import os\n",
        "img_path = \"cute_cat.jpg\"\n",
        "\n",
        "def resize2square(img, out_size=32):\n",
        "    \"\"\" crops the square center of given image and\n",
        "        resizes it to the desired output size\n",
        "    args:\n",
        "        img: input image as PIL.Image\n",
        "        out_size: output size of the image as integer\n",
        "    return:\n",
        "        resized image in PIL.Image format\n",
        "    \"\"\"\n",
        "    width, height = img.size\n",
        "    length = min(width, height)\n",
        "    left = (width - length) / 2\n",
        "    top = (height - length) / 2\n",
        "    right = (width + length) / 2\n",
        "    bottom = (height + length) / 2\n",
        "    img = img.crop((left, top, right, bottom))\n",
        "    return img.resize((out_size, out_size))\n",
        "\n",
        "if os.path.exists(img_path):\n",
        "    infer_img = Image.open(img_path)\n",
        "    infer_img = resize2square(infer_img)\n",
        "    plt.imshow(infer_img)\n",
        "    plt.show()\n",
        "    plt.close()\n",
        "else:\n",
        "    print(\"I can't find the image. Upload it or modify img_path to point \" +\n",
        "          \"to the location where you saved the image\")"
      ]
    },
    {
      "cell_type": "code",
      "execution_count": null,
      "metadata": {
        "colab": {
          "base_uri": "https://localhost:8080/"
        },
        "id": "q8ecv2MVhciM",
        "outputId": "3034dd8f-856e-4342-83b8-eb989ab2d176"
      },
      "outputs": [
        {
          "name": "stdout",
          "output_type": "stream",
          "text": [
            "Label: dog\n"
          ]
        }
      ],
      "source": [
        "# ToDo: Your code here\n",
        "# Bring image into the model input format\n",
        "infer_img = transform(infer_img)\n",
        "infer_img = infer_img.unsqueeze(0)\n",
        "\n",
        "# give the image to the model and predict its label\n",
        "with torch.no_grad():\n",
        "    img = infer_img.to(device)\n",
        "    # calculate outputs by running images through the network\n",
        "    outputs = net(img)\n",
        "    # the class with the highest logit is choosen as prediction\n",
        "    _, predicted = torch.max(outputs.data, 1)\n",
        "print(\"Label:\", classes[predicted[0]])"
      ]
    },
    {
      "cell_type": "markdown",
      "metadata": {
        "id": "4EkS6xneMFPw"
      },
      "source": [
        "### Exercise 3\n",
        "You have surely noticed the accuracy is around 50% which is better than a random performance of 10%. However, it is still not great. Can you think of ways how to improve the performance?\n",
        "Feel free to implement them. Can you improve the model that it predicts the cute cat correctly? 😉"
      ]
    },
    {
      "cell_type": "code",
      "execution_count": null,
      "metadata": {
        "colab": {
          "base_uri": "https://localhost:8080/"
        },
        "id": "kpiMdX59syrk",
        "outputId": "1fafdce9-0967-4b30-b813-76035db51129"
      },
      "outputs": [
        {
          "name": "stdout",
          "output_type": "stream",
          "text": [
            "Files already downloaded and verified\n",
            "Files already downloaded and verified\n"
          ]
        }
      ],
      "source": [
        "# add some more augmentation during training\n",
        "transform_train = transforms.Compose([\n",
        "    transforms.RandomHorizontalFlip(p=0.5),\n",
        "    transforms.RandomRotation(10),\n",
        "    transforms.ColorJitter(brightness=0.2, contrast=0.2, saturation=0.2),\n",
        "    transforms.ToTensor(),\n",
        "    transforms.Normalize((0.5, 0.5, 0.5), (0.5, 0.5, 0.5))\n",
        "    ])\n",
        "\n",
        "transform = transforms.Compose([\n",
        "    transforms.ToTensor(),\n",
        "    transforms.Normalize((0.5, 0.5, 0.5), (0.5, 0.5, 0.5))\n",
        "    ])\n",
        "\n",
        "# increase batch size to speed up training\n",
        "batch_size = 64\n",
        "\n",
        "trainset = torchvision.datasets.CIFAR10(root='./data', train=True,\n",
        "                                        download=True, transform=transform_train)\n",
        "trainloader = torch.utils.data.DataLoader(trainset, batch_size=batch_size,\n",
        "                                          shuffle=True, num_workers=2)\n",
        "\n",
        "testset = torchvision.datasets.CIFAR10(root='./data', train=False,\n",
        "                                       download=True, transform=transform)\n",
        "testloader = torch.utils.data.DataLoader(testset, batch_size=batch_size,\n",
        "                                         shuffle=False, num_workers=2)\n",
        "\n",
        "classes = ['plane', 'car', 'bird', 'cat', 'deer',\n",
        "           'dog', 'frog', 'horse', 'ship', 'truck']"
      ]
    },
    {
      "cell_type": "code",
      "execution_count": null,
      "metadata": {
        "colab": {
          "base_uri": "https://localhost:8080/"
        },
        "id": "xQlQDgDF3ed-",
        "outputId": "dfbfb6b1-43ce-4a7c-a040-098c86bfca81"
      },
      "outputs": [
        {
          "data": {
            "text/plain": [
              "==========================================================================================\n",
              "Layer (type:depth-idx)                   Output Shape              Param #\n",
              "==========================================================================================\n",
              "Net2                                     [4, 10]                   --\n",
              "├─Conv2d: 1-1                            [4, 16, 32, 32]           448\n",
              "├─MaxPool2d: 1-2                         [4, 16, 16, 16]           --\n",
              "├─Conv2d: 1-3                            [4, 32, 16, 16]           4,640\n",
              "├─MaxPool2d: 1-4                         [4, 32, 8, 8]             --\n",
              "├─Conv2d: 1-5                            [4, 64, 8, 8]             18,496\n",
              "├─MaxPool2d: 1-6                         [4, 64, 4, 4]             --\n",
              "├─Linear: 1-7                            [4, 512]                  524,800\n",
              "├─Dropout: 1-8                           [4, 512]                  --\n",
              "├─Linear: 1-9                            [4, 10]                   5,130\n",
              "==========================================================================================\n",
              "Total params: 553,514\n",
              "Trainable params: 553,514\n",
              "Non-trainable params: 0\n",
              "Total mult-adds (M): 13.44\n",
              "==========================================================================================\n",
              "Input size (MB): 0.05\n",
              "Forward/backward pass size (MB): 0.93\n",
              "Params size (MB): 2.21\n",
              "Estimated Total Size (MB): 3.20\n",
              "=========================================================================================="
            ]
          },
          "execution_count": 24,
          "metadata": {},
          "output_type": "execute_result"
        }
      ],
      "source": [
        "# change convolution layers and add one more\n",
        "# add dropout\n",
        "class Net2(nn.Module):\n",
        "    def __init__(self):\n",
        "        super().__init__()\n",
        "        self.conv1 = nn.Conv2d(3, 16, 3, padding=1)\n",
        "        self.conv2 = nn.Conv2d(16, 32, 3, padding=1)\n",
        "        self.conv3 = nn.Conv2d(32, 64, 3, padding=1)\n",
        "        self.pool = nn.MaxPool2d(2, 2)\n",
        "        self.fc1 = nn.Linear(64 * 4 * 4, 512)\n",
        "        self.dropout = nn.Dropout(0.5)\n",
        "        self.fc2 = nn.Linear(512, 10)\n",
        "\n",
        "    def forward(self, x):\n",
        "        x = self.pool(F.relu(self.conv1(x)))\n",
        "        x = self.pool(F.relu(self.conv2(x)))\n",
        "        x = self.pool(F.relu(self.conv3(x)))\n",
        "        x = torch.flatten(x, 1) # flatten all dimensions except batch\n",
        "        x = F.relu(self.fc1(x))\n",
        "        x = self.dropout(x)\n",
        "        x = self.fc2(x)\n",
        "        return x\n",
        "\n",
        "\n",
        "net2 = Net2()\n",
        "net2.to(device)\n",
        "summary(net2, (4, 3, 32, 32))"
      ]
    },
    {
      "cell_type": "code",
      "execution_count": null,
      "metadata": {
        "id": "olgTow8E9JRi"
      },
      "outputs": [],
      "source": [
        "criterion = nn.CrossEntropyLoss()\n",
        "# change optimizer to Adam\n",
        "optimizer = torch.optim.Adam(net2.parameters(), lr = 0.001)"
      ]
    },
    {
      "cell_type": "code",
      "execution_count": null,
      "metadata": {
        "colab": {
          "base_uri": "https://localhost:8080/"
        },
        "id": "wT_5MHqds9Jx",
        "outputId": "8e47325b-aee5-4c40-e7fd-882a4acb185a"
      },
      "outputs": [
        {
          "name": "stderr",
          "output_type": "stream",
          "text": [
            "Training: 100%|██████████| 782/782 [00:38<00:00, 20.22it/s, loss: 1.422]\n",
            "Training: 100%|██████████| 782/782 [00:36<00:00, 21.32it/s, loss: 1.221]\n",
            "Training: 100%|██████████| 782/782 [00:38<00:00, 20.52it/s, loss: 1.117]\n",
            "Training: 100%|██████████| 782/782 [00:36<00:00, 21.57it/s, loss: 1.042]\n",
            "Training: 100%|██████████| 782/782 [00:38<00:00, 20.40it/s, loss: 0.947]\n",
            "Training: 100%|██████████| 782/782 [00:37<00:00, 21.00it/s, loss: 0.903]\n",
            "Training: 100%|██████████| 782/782 [00:40<00:00, 19.17it/s, loss: 0.885]\n",
            "Training: 100%|██████████| 782/782 [00:41<00:00, 18.98it/s, loss: 0.849]\n",
            "Training: 100%|██████████| 782/782 [00:40<00:00, 19.50it/s, loss: 0.787]\n",
            "Training: 100%|██████████| 782/782 [00:37<00:00, 20.60it/s, loss: 0.793]\n",
            "Training: 100%|██████████| 782/782 [00:39<00:00, 19.81it/s, loss: 0.787]\n",
            "Training: 100%|██████████| 782/782 [00:37<00:00, 21.05it/s, loss: 0.740]\n",
            "Training: 100%|██████████| 782/782 [00:39<00:00, 20.00it/s, loss: 0.735]\n",
            "Training: 100%|██████████| 782/782 [00:41<00:00, 18.93it/s, loss: 0.742]\n",
            "Training: 100%|██████████| 782/782 [00:37<00:00, 21.02it/s, loss: 0.726]"
          ]
        },
        {
          "name": "stdout",
          "output_type": "stream",
          "text": [
            "\n",
            " Training finished\n"
          ]
        },
        {
          "name": "stderr",
          "output_type": "stream",
          "text": [
            "\n"
          ]
        }
      ],
      "source": [
        "losses = []\n",
        "update_freq = 100\n",
        "# train for longer\n",
        "num_epochs = 15\n",
        "\n",
        "for epoch in range(num_epochs):  # loop over the dataset multiple times\n",
        "\n",
        "    running_loss = 0.0\n",
        "    pbar = tqdm(enumerate(trainloader), total=len(trainloader), desc=\"Training\")\n",
        "    for i, (imgs, labels) in pbar:\n",
        "        # move the images and labels to the same device as the model (net)\n",
        "        imgs, labels = imgs.to(device), labels.to(device)\n",
        "        # zero the parameter gradients\n",
        "        optimizer.zero_grad()\n",
        "        # forward pass\n",
        "        outputs = net2(imgs)\n",
        "        # calculate the loss\n",
        "        loss = criterion(outputs, labels)\n",
        "        # backpropagate the loss\n",
        "        loss.backward()\n",
        "        # do one optimizer step\n",
        "        optimizer.step()\n",
        "\n",
        "        # show statistics\n",
        "        running_loss += loss.item()\n",
        "        if i % update_freq == update_freq-1:    # update loss every update_freq mini-batches\n",
        "            avg_loss = running_loss / update_freq\n",
        "            pbar.set_postfix_str(f'loss: {avg_loss:.3f}')\n",
        "            losses.append(avg_loss)\n",
        "            running_loss = 0.0\n",
        "\n",
        "print(\"\\n Training finished\")"
      ]
    },
    {
      "cell_type": "code",
      "execution_count": null,
      "metadata": {
        "colab": {
          "base_uri": "https://localhost:8080/"
        },
        "id": "f4um8G82tAKk",
        "outputId": "b7eb5c5f-935b-42c7-f943-59b788fab57a"
      },
      "outputs": [
        {
          "name": "stderr",
          "output_type": "stream",
          "text": [
            "100%|██████████| 157/157 [00:03<00:00, 52.07it/s]"
          ]
        },
        {
          "name": "stdout",
          "output_type": "stream",
          "text": [
            "\n",
            "Accuracy of the network on the 10000 test images: 73 %\n"
          ]
        },
        {
          "name": "stderr",
          "output_type": "stream",
          "text": [
            "\n"
          ]
        }
      ],
      "source": [
        "correct = 0\n",
        "total = 0\n",
        "# we don't need gradient calculation for evaluation/inference, thus we omit them\n",
        "with torch.no_grad():\n",
        "    for data in tqdm(testloader):\n",
        "        images, labels = data[0].to(device), data[1].to(device)\n",
        "        # calculate outputs by running images through the network\n",
        "        outputs = net2(images)\n",
        "        # the class with the highest logit is choosen as prediction\n",
        "        _, predicted = torch.max(outputs.data, 1)\n",
        "        total += labels.size(0)\n",
        "        correct += (predicted == labels).sum().item()\n",
        "\n",
        "print(f'\\nAccuracy of the network on the {len(testset)} test images: {100 * correct // total} %')"
      ]
    },
    {
      "cell_type": "code",
      "execution_count": null,
      "metadata": {
        "colab": {
          "base_uri": "https://localhost:8080/",
          "height": 448
        },
        "id": "vLMYv3E84tDr",
        "outputId": "710fc6a9-730c-4dbf-a905-c657ae75ba7f"
      },
      "outputs": [
        {
          "data": {
            "image/png": "[encoded data removed]",
            "text/plain": [
              "<Figure size 640x480 with 1 Axes>"
            ]
          },
          "metadata": {},
          "output_type": "display_data"
        },
        {
          "name": "stdout",
          "output_type": "stream",
          "text": [
            "Label: cat\n"
          ]
        }
      ],
      "source": [
        "img_path = \"cute_cat.jpg\"\n",
        "infer_img = Image.open(img_path)\n",
        "infer_img = resize2square(infer_img)\n",
        "plt.imshow(infer_img)\n",
        "plt.show()\n",
        "plt.close()\n",
        "\n",
        "infer_img = transform(infer_img)\n",
        "infer_img = infer_img.unsqueeze(0)\n",
        "# give the image to the model and predict its label\n",
        "with torch.no_grad():\n",
        "    img = infer_img.to(device)\n",
        "    # calculate outputs by running images through the network\n",
        "    outputs = net2(img)\n",
        "    # the class with the highest logit is choosen as prediction\n",
        "    _, predicted = torch.max(outputs.data, 1)\n",
        "print(\"Label:\", classes[predicted[0]])"
      ]
    }
  ],
  "metadata": {
    "accelerator": "TPU",
    "colab": {
      "gpuType": "V28",
      "toc_visible": true,
      "provenance": []
    },
    "kernelspec": {
      "display_name": "Python 3",
      "name": "python3"
    },
    "language_info": {
      "name": "python"
    }
  },
  "nbformat": 4,
  "nbformat_minor": 0
}